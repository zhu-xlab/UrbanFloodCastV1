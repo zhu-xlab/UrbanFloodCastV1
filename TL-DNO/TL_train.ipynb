{
 "cells": [
  {
   "cell_type": "code",
   "execution_count": 1,
   "id": "7e6a33c1",
   "metadata": {},
   "outputs": [],
   "source": [
    "\n",
    "import datetime\n",
    "import os\n",
    "import random\n",
    "import time\n",
    "\n",
    "import torch.nn.functional as F\n",
    "from models.FNO import FNO2d, FNO3d\n",
    "from models.Unet import UNet2d, UNet3d\n",
    "# from models.GFNO_steerable import GFNO2d_steer\n",
    "# from models.Unet import Unet_Rot, Unet_Rot_M, Unet_Rot_3D\n",
    "from PIL import Image\n",
    "import matplotlib.pyplot as plt\n",
    "from matplotlib.colors import ListedColormap\n",
    "import imageio\n",
    "import pandas as pd\n",
    "from models.DNO import DNO\n",
    "\n",
    "from utils25 import  LpLoss, nse, corr, critical_success_index\n",
    "\n",
    "import scipy\n",
    "import numpy as np\n",
    "from timeit import default_timer\n",
    "import argparse\n",
    "from torch.utils.tensorboard import SummaryWriter\n",
    "import torch\n",
    "import h5py\n",
    "import xarray as xr\n",
    "from tqdm import tqdm\n",
    "from openpyxl import load_workbook\n",
    "#os.environ[\"CUDA_VISIBLE_DEVICES\"] = \"3\"\n",
    "torch.set_num_threads(1)\n",
    "if torch.cuda.is_available():\n",
    "    device = torch.device('cuda:3')\n",
    "\n",
    "\n",
    "#else:\n",
    "device = torch.device('cpu')\n",
    "def get_eval_pred(model, x, strategy, T, times):\n",
    "\n",
    "    if strategy == \"oneshot\":\n",
    "        pred = model(x)\n",
    "    else:\n",
    "\n",
    "        for t in range(T):\n",
    "            t1 = default_timer()\n",
    "            im = model(x)\n",
    "            times.append(default_timer() - t1)\n",
    "            if t == 0:\n",
    "                pred = im\n",
    "            else:\n",
    "                pred = torch.cat((pred, im), -2)\n",
    "            if strategy == \"markov\":\n",
    "                x = im\n",
    "            else:\n",
    "                x = torch.cat((x[..., 1:, :], im), dim=-2)\n",
    "\n",
    "    return pred"
   ]
  },
  {
   "cell_type": "code",
   "execution_count": 2,
   "id": "9666c956",
   "metadata": {},
   "outputs": [],
   "source": [
    "import torch\n",
    "torch.backends.mkldnn.enabled = False\n"
   ]
  },
  {
   "cell_type": "code",
   "execution_count": 3,
   "id": "831c7855",
   "metadata": {},
   "outputs": [
    {
     "name": "stdout",
     "output_type": "stream",
     "text": [
      "227 278\n"
     ]
    }
   ],
   "source": [
    "\n",
    "################################################################\n",
    "# configs\n",
    "################################################################\n",
    "start_time = 202107081000\n",
    "zoom_factor=1\n",
    "width=int(5459/24)\n",
    "height=int(6679/24)\n",
    "print(width,height)\n",
    "from argparse import Namespace\n",
    "# Save all settings in args\n",
    "args = Namespace(\n",
    "    results_path=\"/home/sirui/INNOMAUS/UrbanFloodCast/UrbanFloodCast/TL-DNO/save/\",\n",
    "    suffix=\"seed1\",\n",
    "    txt_suffix=\"Flood_DNO_Layers_oneset_seed1_t5\",\n",
    "    super_res=False,\n",
    "    verbose=True,\n",
    "    T=120,  # number of timesteps to predict\n",
    "    ntrain=4,  # training sample size\n",
    "    nvalid=1,  # valid sample size\n",
    "    ntest=1,  # test sample size\n",
    "    nsuper=None,\n",
    "    seed=1,\n",
    "    model_type='DNO',\n",
    "    depth=4,\n",
    "    modes=12,\n",
    "    width=20,\n",
    "    Gwidth=10,  # hidden dimension of equivariant layers if model_type=hybrid\n",
    "    n_equiv=3,  # number of equivariant layers if model_type=hybrid\n",
    "    reflection=False,  # symmetry group p4->p4m for data augmentation\n",
    "    grid=None,  # [\"symmetric\", \"cartesian\", None]\n",
    "    epochs=500,\n",
    "    early_stopping=100,  # stop if validation error does not improve for successive epochs\n",
    "    batch_size=1,\n",
    "    learning_rate=0.001,\n",
    "    step=False,  # use step scheduler\n",
    "    gamma=0.5,  # gamma for step scheduler\n",
    "    step_size=None,  # step size for step scheduler\n",
    "    lmbda=0.0001,  # weight decay for adam\n",
    "    strategy=\"oneshot\",  # markov, recurrent, or oneshot\n",
    "    time_pad=False,  # pad the time dimension for strategy=oneshot\n",
    "    noise_std=0.00,  # amount of noise to inject for strategy=markov\n",
    "    data_path=\"/home/sirui/INNOMAUS/wurzburg/pt/\",\n",
    "    root='/home/sirui/INNOMAUS/UrbanFloodCast/UrbanFloodCast/TL-DNO/save/',\n",
    ")\n",
    "\n",
    "\n",
    "\n",
    "assert args.model_type in [\"FNO2d\", \"FNO2d_aug\",\n",
    "                           \"FNO3d\", \"FNO3d_aug\",\n",
    "                           \"UNet2d\", \"UNet3d\", \"DNO\"], f\"Invalid model type {args.model_type}\"\n",
    "assert args.strategy in [\"teacher_forcing\", \"markov\", \"recurrent\", \"oneshot\"], \"Invalid training strategy\"\n",
    "\n",
    "torch.manual_seed(args.seed)\n",
    "np.random.seed(args.seed)\n",
    "if device.type == 'cuda':\n",
    "    torch.cuda.manual_seed(args.seed)\n",
    "random.seed(args.seed)\n",
    "\n",
    "data_aug = \"aug\" in args.model_type\n",
    "\n",
    "TRAIN_PATH = args.data_path\n",
    "\n",
    "# FNO data specs\n",
    "Sy = height\n",
    "Sx = width\n",
    "S = 64 # spatial res\n",
    "S_super = 4 * S # super spatial res\n",
    "T_in = 1 # number of input times\n",
    "T = args.T\n",
    "T_super = 4 * T # prediction temporal super res\n",
    "d = 2 # spatial res\n",
    "num_channels = 5\n",
    "num_channels_y = 3\n",
    "\n",
    "# adjust data specs based on model type and data path\n",
    "threeD = args.model_type in [\"FNO3d\",\n",
    "                             \"Unet_Rot_3D\", \"DNO\", \"UNet3d\"]\n",
    "swe = False\n",
    "rdb = False\n",
    "grid_type = \"cartesian\"\n",
    "if args.grid:\n",
    "    grid_type = args.grid\n",
    "    assert grid_type in ['symmetric', 'cartesian', 'None']\n",
    "\n",
    "\n",
    "ntrain = args.ntrain # 1000\n",
    "nvalid = args.nvalid\n",
    "ntest = args.ntest # 200\n",
    "\n",
    "time_modes = None\n",
    "time1 = args.strategy == \"oneshot\" # perform convolutions in space-time\n",
    "if time1 and not args.time_pad:\n",
    "    time_modes = 5 if swe else 8 # 6 is based on T=10\n",
    "elif time1 and swe:\n",
    "    time_modes = 8\n",
    "\n",
    "modes = args.modes\n",
    "n_layer = args.depth\n",
    "batch_size = args.batch_size\n",
    "\n",
    "epochs = args.epochs # 500\n",
    "learning_rate = args.learning_rate\n",
    "scheduler_step = args.step_size\n",
    "scheduler_gamma = args.gamma # for step scheduler\n",
    "\n",
    "initial_step = 1 if args.strategy == \"markov\" else T_in\n",
    "\n",
    "\n",
    "\n"
   ]
  },
  {
   "cell_type": "code",
   "execution_count": 4,
   "id": "252522e9",
   "metadata": {},
   "outputs": [],
   "source": [
    "import torch\n",
    "import os\n",
    "import numpy as np\n",
    "\n",
    "################################################################\n",
    "# Dataset class\n",
    "################################################################\n",
    "class flood_data(torch.utils.data.Dataset):\n",
    "    def __init__(self, path_root, T_in, T_out=None, train=True, strategy=\"markov\", std=0.0):\n",
    "        self.markov = strategy == \"markov\"\n",
    "        self.teacher_forcing = strategy == \"teacher_forcing\"\n",
    "        self.one_shot = strategy == \"oneshot\"\n",
    "        self.path_root = path_root\n",
    "        # self.data = data[..., :(T_in + T_out)] if self.one_shot else data[..., :(T_in + T_out), :]\n",
    "        self.data = []\n",
    "        pt_files = [name for name in os.listdir(self.path_root) if name.endswith('.pt')]\n",
    "        n = len(pt_files)\n",
    "        print('Number of .pt files:', n)\n",
    "        self.data = [os.path.join(self.path_root, name) for name in pt_files]\n",
    "        self.nt = T_in + T_out\n",
    "        self.T_in = T_in\n",
    "        self.T_out = T_out\n",
    "        self.num_hist = 1 if self.markov else self.T_in\n",
    "        self.train = train\n",
    "        self.noise_std = std\n",
    "\n",
    "    def log_transform(self, data, eps=1e-2):\n",
    "        return torch.log(1 + data/eps)\n",
    "\n",
    "    def __len__(self):\n",
    "        if self.train:\n",
    "            if self.markov:\n",
    "                return len(self.data) * (self.nt - 1)\n",
    "            if self.teacher_forcing:\n",
    "                return len(self.data) * (self.nt - self.T_in)\n",
    "        return len(self.data)\n",
    "    def downsample_data(self, data, scale_factor=0.125):\n",
    "        data = data.permute(2, 3, 0, 1)  # (3213, 2727, 25, 5) -> (5, 25, 3213, 2727)\n",
    "        data = F.interpolate(data, scale_factor=scale_factor, mode=\"bilinear\", align_corners=False)\n",
    "        data = data.permute(2, 3, 0, 1)  \n",
    "        return data\n",
    "\n",
    "    def __getitem__(self, idx):\n",
    "        if not self.train or not (self.markov or self.teacher_forcing): # full target: return all future steps\n",
    "            pde_path = self.data[idx]\n",
    "            # path_idx = os.path.join(path_root, str(idx) + \".pt\")\n",
    "            pde = torch.load(pde_path)\n",
    "            pde = self.downsample_data(pde,scale_factor=1/zoom_factor)\n",
    "            # pde = pde.permute(1, 2, 0, 3)\n",
    "            if self.one_shot:\n",
    "                x = pde[..., :self.T_in, :3]\n",
    "                mask = (x[..., 0:1] == 0.0)\n",
    "                x[..., 1:2][mask] = 0.0\n",
    "                x[..., 2:3][mask] = 0.0\n",
    "                x[..., :3] = torch.nan_to_num(x[..., :3], nan=0.0)\n",
    "                x1 = x.unsqueeze(-3).repeat([1, 1, self.T_out, 1, 1])\n",
    "                # x_n = x.numpy()\n",
    "                # x_n = np.nan_to_num(x_n, nan=-99999)\n",
    "                # x_n = np.ma.masked_array(x_n, mask=(x_n < -2000))\n",
    "                # x = torch.from_numpy(x_n).float()\n",
    "                # nan_mask = torch.isnan(x)\n",
    "                # contains_nan = torch.any(nan_mask)\n",
    "                # print('contains_nan', contains_nan)\n",
    "                p = pde[..., self.T_in:(self.T_in + self.T_out), 3:4]\n",
    "                x2 = self.log_transform(p) / 10.0\n",
    "                x2 = torch.unsqueeze(x2, dim = -1)\n",
    "                z = pde[..., self.T_in:(self.T_in + self.T_out), 4:5]\n",
    "                max_z = z.max()\n",
    "                z_value = max_z + 30.0\n",
    "                z = torch.nan_to_num(z, nan=z_value)\n",
    "                x3 = torch.nn.functional.normalize(z)\n",
    "                x3 = torch.unsqueeze(x3, dim=-1)\n",
    "                x = torch.cat((x1, x2), dim=-1)\n",
    "                x = torch.cat((x, x3), dim=-1)\n",
    "                # x = x.unsqueeze(-3).repeat([1, 1, self.T_out, 1, 1])\n",
    "                y = pde[..., self.T_in:(self.T_in + self.T_out), :3]\n",
    "                mask_y = (y[..., 0:1] == 0.0)\n",
    "                y[..., 1:2][mask_y] = 0.0\n",
    "                y[..., 2:3][mask_y] = 0.0\n",
    "                mask_tensor = ~torch.isnan(y)\n",
    "                y = torch.nan_to_num(y, nan=0.0)\n",
    "            else:\n",
    "                x = pde[..., (self.T_in - self.num_hist):self.T_in, :3]\n",
    "                mask = (x[..., 0:1] == 0.0)\n",
    "                x[..., 1:2][mask] = 0.0\n",
    "                x[..., 2:3][mask] = 0.0\n",
    "                x[..., :3] = torch.nan_to_num(x[..., :3], nan=0.0)\n",
    "                x1 = x.unsqueeze(-3).repeat([1, 1, self.T_out, 1, 1])\n",
    "                # x_n = x.numpy()\n",
    "                # x_n = np.nan_to_num(x_n, nan=-99999)\n",
    "                # x_n = np.ma.masked_array(x_n, mask=(x_n < -2000))\n",
    "                # x = torch.from_numpy(x_n).float()\n",
    "                # nan_mask = torch.isnan(x)\n",
    "                # contains_nan = torch.any(nan_mask)\n",
    "                # print('contains_nan', contains_nan)\n",
    "                p = pde[..., self.T_in:(self.T_in + self.T_out), 3:4]\n",
    "                x2 = self.log_transform(p) / 10.0\n",
    "                z = pde[..., self.T_in:(self.T_in + self.T_out), 4:5]\n",
    "                max_z = z.max()\n",
    "                z_value = max_z + 30.0\n",
    "                z = torch.nan_to_num(z, nan=z_value)\n",
    "                x3 = torch.nn.functional.normalize(z)\n",
    "                x = torch.cat((x1, x2), dim=-1)\n",
    "                x = torch.cat((x, x3), dim=-1)\n",
    "                # x[..., :4] = self.log_transform(x[..., :4])\n",
    "                y = pde[..., self.T_in:(self.T_in + self.T_out), :3]\n",
    "                mask_y = (y[..., 0:1] == 0.0)\n",
    "                y[..., 1:2][mask_y] = 0.0\n",
    "                y[..., 2:3][mask_y] = 0.0\n",
    "                mask_tensor = ~torch.isnan(y)\n",
    "                y = torch.nan_to_num(y, nan=0.0)\n",
    "            return x, y, mask_tensor\n",
    "        pde_idx = idx // (self.nt - self.num_hist) # Markov / teacher forcing: only return one future step\n",
    "        t_idx = idx % (self.nt - self.num_hist) + self.num_hist\n",
    "        pde_path = self.data[pde_idx]\n",
    "        # path_idx = os.path.join(path_root, str(pde_idx) + \".pt\")\n",
    "        # pde = torch.load(path_idx)\n",
    "        pde = torch.load(pde_path)\n",
    "        pde = pde.permute(1, 2, 0, 3)\n",
    "        x = pde[..., (t_idx - self.num_hist):t_idx, :]\n",
    "        mask = (x[..., 0:1] == 0.0)\n",
    "        x[..., 1:2][mask] = 0.0\n",
    "        x[..., 2:3][mask] = 0.0\n",
    "        # mask_tensor = torch.isnan(x[..., :3])\n",
    "        x[..., :3] = torch.nan_to_num(x[..., :3], nan=0.0)\n",
    "        max_z = x[..., -1].max()\n",
    "        z_value = max_z + 30.0\n",
    "        x[..., -1] = torch.nan_to_num(x[..., -1], nan=z_value)\n",
    "        x[..., -1] = torch.nn.functional.normalize(x[..., -1])\n",
    "        x[..., 3:4] = self.log_transform(x[..., 3:4]) / 10.0\n",
    "        # x[..., :4] = self.log_transform(x[..., :4])\n",
    "        y = pde[..., t_idx, :3]\n",
    "        mask_y = (y[..., 0:1] == 0.0)\n",
    "        y[..., 1:2][mask_y] = 0.0\n",
    "        y[..., 2:3][mask_y] = 0.0\n",
    "        mask_tensor = ~torch.isnan(y)\n",
    "        y = torch.nan_to_num(y, nan=0.0)\n",
    "        if self.noise_std > 0:\n",
    "            x += torch.randn(*x.shape, device=x.device) * self.noise_std\n",
    "        x = torch.nan_to_num(x, nan=0.0)\n",
    "        mask_tensor = torch.nan_to_num(mask_tensor, nan=0.0)\n",
    "        return x, y, mask_tensor\n"
   ]
  },
  {
   "cell_type": "code",
   "execution_count": 5,
   "id": "94197405",
   "metadata": {},
   "outputs": [],
   "source": [
    "\n",
    "def fine_tune_fc1_fc2(model, learning_rate):\n",
    "    #self.fc1 and self.fc2\n",
    "    for param in model.parameters():\n",
    "        param.requires_grad = False\n",
    "\n",
    "    for param in model.fc1.parameters():\n",
    "        param.requires_grad = True\n",
    "    for param in model.fc2.parameters():\n",
    "        param.requires_grad = True\n",
    "    # params_to_update = [p for p in model.parameters() if p.requires_grad]\n",
    "    # if not params_to_update:\n",
    "    #     raise ValueError(\"No parameters to update. Check if 'requires_grad' is set correctly.\")\n",
    "    #\n",
    "    # optimizer = torch.optim.Adam(params_to_update, lr=learning_rate, weight_decay=args.lmbda)\n",
    "\n",
    "    optimizer = torch.optim.Adam(filter(lambda p: p.requires_grad, model.parameters()), lr=learning_rate, weight_decay=args.lmbda)\n",
    "    return optimizer\n",
    "\n",
    "#self.fc1, self.fc2 and self.conv8\n",
    "def fine_tune_fc1_fc2_conv8(model, learning_rate):\n",
    "    for param in model.parameters():\n",
    "        param.requires_grad = False\n",
    "\n",
    "    for param in model.fc1.parameters():\n",
    "        param.requires_grad = True\n",
    "    for param in model.fc2.parameters():\n",
    "        param.requires_grad = True\n",
    "    for param in model.conv8.parameters():\n",
    "        param.requires_grad = True\n",
    "\n",
    "    optimizer = torch.optim.Adam(filter(lambda p: p.requires_grad, model.parameters()), lr=learning_rate, weight_decay=args.lmbda)\n",
    "    return optimizer\n",
    "\n",
    "#self.fc1, self.fc2, self.conv8 and self.conv7\n",
    "def fine_tune_fc1_fc2_conv8_conv7(model, learning_rate):\n",
    "    for param in model.parameters():\n",
    "        param.requires_grad = False\n",
    "\n",
    "    for param in model.fc1.parameters():\n",
    "        param.requires_grad = True\n",
    "    for param in model.fc2.parameters():\n",
    "        param.requires_grad = True\n",
    "    for param in model.conv8.parameters():\n",
    "        param.requires_grad = True\n",
    "    for param in model.conv7.parameters():\n",
    "        param.requires_grad = True\n",
    "\n",
    "    optimizer = torch.optim.Adam(filter(lambda p: p.requires_grad, model.parameters()), lr=learning_rate, weight_decay=args.lmbda)\n",
    "    return optimizer\n",
    "\n",
    "#self.fc1\n",
    "def fine_tune_fc1(model, learning_rate):\n",
    "    for param in model.parameters():\n",
    "        param.requires_grad = False\n",
    "\n",
    "    for param in model.fc1.parameters():\n",
    "        param.requires_grad = True\n",
    "\n",
    "    optimizer = torch.optim.Adam(filter(lambda p: p.requires_grad, model.parameters()), lr=learning_rate, weight_decay=args.lmbda)\n",
    "    return optimizer"
   ]
  },
  {
   "cell_type": "code",
   "execution_count": 6,
   "id": "f5a8e45c",
   "metadata": {},
   "outputs": [],
   "source": [
    "root = '/home/sirui/INNOMAUS/UrbanFloodCast/UrbanFloodCast/TL-DNO/save' \n",
    "path_model = os.path.join(root, 'model.pt')\n",
    "#writer = SummaryWriter(root)\n",
    "\n",
    "################################################################\n",
    "# Model init\n",
    "################################################################\n",
    "if args.model_type in [\"FNO2d\", \"FNO2d_aug\"]:\n",
    "    model = FNO2d(num_channels=num_channels, initial_step=initial_step, modes1=modes, modes2=modes, width=width,\n",
    "                  grid_type=grid_type).to(device)\n",
    "elif args.model_type in [\"FNO3d\", \"FNO3d_aug\"]:\n",
    "    modes3 = time_modes if time_modes else modes\n",
    "    model = FNO3d(num_channels=num_channels, initial_step=initial_step, modes1=modes, modes2=modes, modes3=modes3,\n",
    "                  width=width, time=time1, time_pad=args.time_pad).to(device)\n",
    "elif args.model_type == \"DNO\":\n",
    "    model = DNO(num_channels=num_channels, width=10, initial_step=initial_step, pad=args.time_pad, factor=1).to(device)\n",
    "elif args.model_type == \"UNet3d\":\n",
    "    model = UNet3d(in_channels=initial_step * num_channels, out_channels=num_channels_y, init_features=32,\n",
    "                   grid_type=grid_type, time=time1).to(device)\n",
    "else:\n",
    "    raise NotImplementedError(\"Model not recognized\")\n",
    "\n",
    "################################################################\n",
    "# load data\n",
    "# Input: DEM/Initial conditions/Rainfall/coords\n",
    "################################################################\n",
    "full_data = None # for superres\n",
    "# SR dataset\n",
    "dem_tif_path = '/home/sirui/INNOMAUS/wurzburg/dgm_wurzburg.tif'\n",
    "man_path = '/home/sirui/INNOMAUS/wurzburg/friction_wurzburg_buf.tif'\n",
    "Path_train = '/home/sirui/INNOMAUS/wurzburg/pt/train'\n",
    "Path_valid = '/home/sirui/INNOMAUS/wurzburg/pt/val'\n",
    "Path_test = '/home/sirui/INNOMAUS/wurzburg/pt/test'\n"
   ]
  },
  {
   "cell_type": "code",
   "execution_count": 7,
   "id": "f0953349",
   "metadata": {
    "scrolled": true
   },
   "outputs": [
    {
     "name": "stdout",
     "output_type": "stream",
     "text": [
      "Number of .pt files: 16\n",
      "ntrain 16\n",
      "Number of .pt files: 1\n",
      "nvalid 1\n",
      "Number of .pt files: 1\n",
      "ntest 1\n",
      "Load from checkpoint\n",
      "DNO; # Params: complex count 8937637, real count: 4470437\n",
      "DNO; Input shape: torch.Size([1, 278, 227, 120, 1, 5]), Target shape: torch.Size([1, 278, 227, 120, 3])\n",
      "Training...\n"
     ]
    },
    {
     "name": "stderr",
     "output_type": "stream",
     "text": [
      "100%|███████████████████████████████████████████████████████████████████████████████████| 16/16 [15:08<00:00, 56.80s/it]\n"
     ]
    },
    {
     "name": "stdout",
     "output_type": "stream",
     "text": [
      "Ep: 8, time: 944.0196429498028, train: 1.1330672316253185, valid: 1.0162140130996704\n"
     ]
    },
    {
     "name": "stderr",
     "output_type": "stream",
     "text": [
      "100%|███████████████████████████████████████████████████████████████████████████████████| 16/16 [14:09<00:00, 53.12s/it]\n"
     ]
    },
    {
     "name": "stdout",
     "output_type": "stream",
     "text": [
      "Ep: 9, time: 887.3793207928538, train: 0.972096111625433, valid: 0.9701599478721619\n"
     ]
    },
    {
     "name": "stderr",
     "output_type": "stream",
     "text": [
      "100%|███████████████████████████████████████████████████████████████████████████████████| 16/16 [14:34<00:00, 54.68s/it]\n"
     ]
    },
    {
     "name": "stdout",
     "output_type": "stream",
     "text": [
      "Ep: 10, time: 913.4554357971065, train: 0.942970335483551, valid: 0.9514986872673035\n"
     ]
    },
    {
     "name": "stderr",
     "output_type": "stream",
     "text": [
      "100%|███████████████████████████████████████████████████████████████████████████████████| 16/16 [14:58<00:00, 56.15s/it]\n"
     ]
    },
    {
     "name": "stdout",
     "output_type": "stream",
     "text": [
      "Ep: 11, time: 935.6083500729874, train: 0.9259717427194118, valid: 0.939444363117218\n"
     ]
    },
    {
     "name": "stderr",
     "output_type": "stream",
     "text": [
      "100%|███████████████████████████████████████████████████████████████████████████████████| 16/16 [14:34<00:00, 54.64s/it]\n"
     ]
    },
    {
     "name": "stdout",
     "output_type": "stream",
     "text": [
      "Ep: 12, time: 909.3562170830555, train: 0.9085064232349396, valid: 0.928538978099823\n"
     ]
    },
    {
     "name": "stderr",
     "output_type": "stream",
     "text": [
      "100%|███████████████████████████████████████████████████████████████████████████████████| 16/16 [14:53<00:00, 55.83s/it]\n"
     ]
    },
    {
     "name": "stdout",
     "output_type": "stream",
     "text": [
      "Ep: 16, time: 931.7570912949741, train: 0.8342894203960896, valid: 0.8670587539672852\n"
     ]
    },
    {
     "name": "stderr",
     "output_type": "stream",
     "text": [
      "100%|███████████████████████████████████████████████████████████████████████████████████| 16/16 [15:16<00:00, 57.26s/it]\n"
     ]
    },
    {
     "name": "stdout",
     "output_type": "stream",
     "text": [
      "Ep: 17, time: 955.7820231760852, train: 0.8216881118714809, valid: 0.8797698020935059\n"
     ]
    },
    {
     "name": "stderr",
     "output_type": "stream",
     "text": [
      "100%|███████████████████████████████████████████████████████████████████████████████████| 16/16 [15:15<00:00, 57.22s/it]\n"
     ]
    },
    {
     "name": "stdout",
     "output_type": "stream",
     "text": [
      "Ep: 18, time: 953.9090826220345, train: 0.8181095123291016, valid: 0.85591059923172\n"
     ]
    },
    {
     "name": "stderr",
     "output_type": "stream",
     "text": [
      "100%|███████████████████████████████████████████████████████████████████████████████████| 16/16 [15:05<00:00, 56.60s/it]\n",
      "100%|███████████████████████████████████████████████████████████████████████████████████| 16/16 [15:20<00:00, 57.53s/it]\n"
     ]
    },
    {
     "name": "stdout",
     "output_type": "stream",
     "text": [
      "Ep: 20, time: 958.6659064050764, train: 0.7906785868108273, valid: 0.8152589201927185\n"
     ]
    },
    {
     "name": "stderr",
     "output_type": "stream",
     "text": [
      "100%|███████████████████████████████████████████████████████████████████████████████████| 16/16 [15:09<00:00, 56.82s/it]\n"
     ]
    },
    {
     "name": "stdout",
     "output_type": "stream",
     "text": [
      "Ep: 21, time: 946.4857180770487, train: 0.7630791142582893, valid: 0.8043292164802551\n"
     ]
    },
    {
     "name": "stderr",
     "output_type": "stream",
     "text": [
      "100%|███████████████████████████████████████████████████████████████████████████████████| 16/16 [14:55<00:00, 56.00s/it]\n"
     ]
    },
    {
     "name": "stdout",
     "output_type": "stream",
     "text": [
      "Ep: 22, time: 933.9949867459945, train: 0.7446471117436886, valid: 0.7765300869941711\n"
     ]
    },
    {
     "name": "stderr",
     "output_type": "stream",
     "text": [
      "100%|███████████████████████████████████████████████████████████████████████████████████| 16/16 [14:59<00:00, 56.24s/it]\n"
     ]
    },
    {
     "name": "stdout",
     "output_type": "stream",
     "text": [
      "Ep: 23, time: 938.2491361550055, train: 0.7488417103886604, valid: 0.7826850414276123\n"
     ]
    },
    {
     "name": "stderr",
     "output_type": "stream",
     "text": [
      "100%|███████████████████████████████████████████████████████████████████████████████████| 16/16 [15:42<00:00, 58.91s/it]\n"
     ]
    },
    {
     "name": "stdout",
     "output_type": "stream",
     "text": [
      "Ep: 24, time: 982.2160138539039, train: 0.7267748080193996, valid: 0.746525764465332\n"
     ]
    },
    {
     "name": "stderr",
     "output_type": "stream",
     "text": [
      "100%|███████████████████████████████████████████████████████████████████████████████████| 16/16 [15:52<00:00, 59.53s/it]\n"
     ]
    },
    {
     "name": "stdout",
     "output_type": "stream",
     "text": [
      "Ep: 25, time: 989.7294007230084, train: 0.6955740340054035, valid: 0.726442813873291\n"
     ]
    },
    {
     "name": "stderr",
     "output_type": "stream",
     "text": [
      "100%|███████████████████████████████████████████████████████████████████████████████████| 16/16 [15:05<00:00, 56.60s/it]\n"
     ]
    },
    {
     "name": "stdout",
     "output_type": "stream",
     "text": [
      "Ep: 26, time: 942.758317212807, train: 0.6819120906293392, valid: 0.7187253832817078\n"
     ]
    },
    {
     "name": "stderr",
     "output_type": "stream",
     "text": [
      "100%|███████████████████████████████████████████████████████████████████████████████████| 16/16 [14:59<00:00, 56.20s/it]\n"
     ]
    },
    {
     "name": "stdout",
     "output_type": "stream",
     "text": [
      "Ep: 27, time: 937.6909645160194, train: 0.660725548863411, valid: 0.6897242665290833\n"
     ]
    },
    {
     "name": "stderr",
     "output_type": "stream",
     "text": [
      "100%|███████████████████████████████████████████████████████████████████████████████████| 16/16 [14:46<00:00, 55.43s/it]\n"
     ]
    },
    {
     "name": "stdout",
     "output_type": "stream",
     "text": [
      "Ep: 28, time: 924.4992817689199, train: 0.6699043288826942, valid: 0.7050771117210388\n"
     ]
    },
    {
     "name": "stderr",
     "output_type": "stream",
     "text": [
      "100%|███████████████████████████████████████████████████████████████████████████████████| 16/16 [14:49<00:00, 55.57s/it]\n"
     ]
    },
    {
     "name": "stdout",
     "output_type": "stream",
     "text": [
      "Ep: 29, time: 924.900890884921, train: 0.6606331393122673, valid: 0.7043089866638184\n"
     ]
    },
    {
     "name": "stderr",
     "output_type": "stream",
     "text": [
      "100%|███████████████████████████████████████████████████████████████████████████████████| 16/16 [15:06<00:00, 56.66s/it]\n"
     ]
    },
    {
     "name": "stdout",
     "output_type": "stream",
     "text": [
      "Ep: 30, time: 944.6760012211744, train: 0.6438785679638386, valid: 0.6824450492858887\n"
     ]
    },
    {
     "name": "stderr",
     "output_type": "stream",
     "text": [
      "100%|███████████████████████████████████████████████████████████████████████████████████| 16/16 [16:17<00:00, 61.10s/it]\n"
     ]
    },
    {
     "name": "stdout",
     "output_type": "stream",
     "text": [
      "Ep: 31, time: 1020.9536773611326, train: 0.6269983388483524, valid: 0.6499387621879578\n"
     ]
    },
    {
     "name": "stderr",
     "output_type": "stream",
     "text": [
      "100%|███████████████████████████████████████████████████████████████████████████████████| 16/16 [16:10<00:00, 60.67s/it]\n"
     ]
    },
    {
     "name": "stdout",
     "output_type": "stream",
     "text": [
      "Ep: 32, time: 1009.9267592469696, train: 0.6160341165959835, valid: 0.6520034670829773\n"
     ]
    },
    {
     "name": "stderr",
     "output_type": "stream",
     "text": [
      "100%|███████████████████████████████████████████████████████████████████████████████████| 16/16 [14:53<00:00, 55.87s/it]\n"
     ]
    },
    {
     "name": "stdout",
     "output_type": "stream",
     "text": [
      "Ep: 33, time: 929.9236093198415, train: 0.6077768243849277, valid: 0.635437548160553\n"
     ]
    },
    {
     "name": "stderr",
     "output_type": "stream",
     "text": [
      "100%|███████████████████████████████████████████████████████████████████████████████████| 16/16 [14:53<00:00, 55.85s/it]\n"
     ]
    },
    {
     "name": "stdout",
     "output_type": "stream",
     "text": [
      "Ep: 34, time: 931.3115669270046, train: 0.5841142758727074, valid: 0.6240606307983398\n"
     ]
    },
    {
     "name": "stderr",
     "output_type": "stream",
     "text": [
      "100%|███████████████████████████████████████████████████████████████████████████████████| 16/16 [15:01<00:00, 56.34s/it]\n"
     ]
    },
    {
     "name": "stdout",
     "output_type": "stream",
     "text": [
      "Ep: 35, time: 939.0500186139252, train: 0.5807036533951759, valid: 0.6225892901420593\n"
     ]
    },
    {
     "name": "stderr",
     "output_type": "stream",
     "text": [
      "100%|███████████████████████████████████████████████████████████████████████████████████| 16/16 [15:09<00:00, 56.82s/it]\n"
     ]
    },
    {
     "name": "stdout",
     "output_type": "stream",
     "text": [
      "Ep: 36, time: 946.8921181741171, train: 0.6070261299610138, valid: 0.6406387686729431\n"
     ]
    },
    {
     "name": "stderr",
     "output_type": "stream",
     "text": [
      "100%|███████████████████████████████████████████████████████████████████████████████████| 16/16 [15:00<00:00, 56.27s/it]\n"
     ]
    },
    {
     "name": "stdout",
     "output_type": "stream",
     "text": [
      "Ep: 37, time: 938.2773113590665, train: 0.5829653404653072, valid: 0.6014404296875\n"
     ]
    },
    {
     "name": "stderr",
     "output_type": "stream",
     "text": [
      "100%|███████████████████████████████████████████████████████████████████████████████████| 16/16 [15:04<00:00, 56.50s/it]\n"
     ]
    },
    {
     "name": "stdout",
     "output_type": "stream",
     "text": [
      "Ep: 38, time: 942.1626507621258, train: 0.5653962232172489, valid: 0.6060238480567932\n"
     ]
    },
    {
     "name": "stderr",
     "output_type": "stream",
     "text": [
      "100%|███████████████████████████████████████████████████████████████████████████████████| 16/16 [15:01<00:00, 56.32s/it]\n"
     ]
    },
    {
     "name": "stdout",
     "output_type": "stream",
     "text": [
      "Ep: 39, time: 938.7220969819464, train: 0.5604994557797909, valid: 0.5899931788444519\n"
     ]
    },
    {
     "name": "stderr",
     "output_type": "stream",
     "text": [
      "100%|███████████████████████████████████████████████████████████████████████████████████| 16/16 [14:58<00:00, 56.18s/it]\n"
     ]
    },
    {
     "name": "stdout",
     "output_type": "stream",
     "text": [
      "Ep: 40, time: 935.9586470799986, train: 0.5700808763504028, valid: 0.5974804162979126\n"
     ]
    },
    {
     "name": "stderr",
     "output_type": "stream",
     "text": [
      "100%|███████████████████████████████████████████████████████████████████████████████████| 16/16 [14:52<00:00, 55.76s/it]\n"
     ]
    },
    {
     "name": "stdout",
     "output_type": "stream",
     "text": [
      "Ep: 41, time: 930.5150495970156, train: 0.5537942238152027, valid: 0.5758001208305359\n"
     ]
    },
    {
     "name": "stderr",
     "output_type": "stream",
     "text": [
      "100%|███████████████████████████████████████████████████████████████████████████████████| 16/16 [14:53<00:00, 55.86s/it]\n"
     ]
    },
    {
     "name": "stdout",
     "output_type": "stream",
     "text": [
      "Ep: 42, time: 932.236160478089, train: 0.5332154296338558, valid: 0.5644246935844421\n"
     ]
    },
    {
     "name": "stderr",
     "output_type": "stream",
     "text": [
      "100%|███████████████████████████████████████████████████████████████████████████████████| 16/16 [14:49<00:00, 55.58s/it]\n"
     ]
    },
    {
     "name": "stdout",
     "output_type": "stream",
     "text": [
      "Ep: 43, time: 926.0480151569936, train: 0.5229503214359283, valid: 0.5467869639396667\n"
     ]
    },
    {
     "name": "stderr",
     "output_type": "stream",
     "text": [
      "100%|███████████████████████████████████████████████████████████████████████████████████| 16/16 [14:56<00:00, 56.04s/it]\n"
     ]
    },
    {
     "name": "stdout",
     "output_type": "stream",
     "text": [
      "Ep: 44, time: 933.2927510968875, train: 0.5262991171330214, valid: 0.5578914284706116\n"
     ]
    },
    {
     "name": "stderr",
     "output_type": "stream",
     "text": [
      "100%|███████████████████████████████████████████████████████████████████████████████████| 16/16 [15:04<00:00, 56.55s/it]\n"
     ]
    },
    {
     "name": "stdout",
     "output_type": "stream",
     "text": [
      "Ep: 45, time: 942.4246292309836, train: 0.5201704725623131, valid: 0.5547389388084412\n"
     ]
    },
    {
     "name": "stderr",
     "output_type": "stream",
     "text": [
      "100%|███████████████████████████████████████████████████████████████████████████████████| 16/16 [14:52<00:00, 55.76s/it]\n"
     ]
    },
    {
     "name": "stdout",
     "output_type": "stream",
     "text": [
      "Ep: 46, time: 927.9383266440127, train: 0.5225854124873877, valid: 0.5376346111297607\n"
     ]
    },
    {
     "name": "stderr",
     "output_type": "stream",
     "text": [
      "100%|███████████████████████████████████████████████████████████████████████████████████| 16/16 [15:02<00:00, 56.42s/it]\n"
     ]
    },
    {
     "name": "stdout",
     "output_type": "stream",
     "text": [
      "Ep: 47, time: 941.8179003119003, train: 0.5071981903165579, valid: 0.5180520415306091\n"
     ]
    },
    {
     "name": "stderr",
     "output_type": "stream",
     "text": [
      "100%|███████████████████████████████████████████████████████████████████████████████████| 16/16 [15:02<00:00, 56.43s/it]\n"
     ]
    },
    {
     "name": "stdout",
     "output_type": "stream",
     "text": [
      "Ep: 48, time: 941.4632401110139, train: 0.5349331423640251, valid: 0.5528593063354492\n"
     ]
    },
    {
     "name": "stderr",
     "output_type": "stream",
     "text": [
      "100%|███████████████████████████████████████████████████████████████████████████████████| 16/16 [14:55<00:00, 56.00s/it]\n"
     ]
    },
    {
     "name": "stdout",
     "output_type": "stream",
     "text": [
      "Ep: 49, time: 932.3860746049322, train: 0.5008725449442863, valid: 0.534438967704773\n"
     ]
    },
    {
     "name": "stderr",
     "output_type": "stream",
     "text": [
      "100%|███████████████████████████████████████████████████████████████████████████████████| 16/16 [15:02<00:00, 56.43s/it]\n"
     ]
    },
    {
     "name": "stdout",
     "output_type": "stream",
     "text": [
      "Ep: 50, time: 938.5084558741655, train: 0.4922171179205179, valid: 0.5052742958068848\n"
     ]
    },
    {
     "name": "stderr",
     "output_type": "stream",
     "text": [
      "100%|███████████████████████████████████████████████████████████████████████████████████| 16/16 [14:56<00:00, 56.06s/it]\n"
     ]
    },
    {
     "name": "stdout",
     "output_type": "stream",
     "text": [
      "Ep: 51, time: 933.0676514250226, train: 0.48175372928380966, valid: 0.49950286746025085\n"
     ]
    },
    {
     "name": "stderr",
     "output_type": "stream",
     "text": [
      "100%|███████████████████████████████████████████████████████████████████████████████████| 16/16 [15:04<00:00, 56.54s/it]\n"
     ]
    },
    {
     "name": "stdout",
     "output_type": "stream",
     "text": [
      "Ep: 52, time: 942.6353702559136, train: 0.47881192341446877, valid: 0.500286877155304\n"
     ]
    },
    {
     "name": "stderr",
     "output_type": "stream",
     "text": [
      "100%|███████████████████████████████████████████████████████████████████████████████████| 16/16 [15:08<00:00, 56.76s/it]\n"
     ]
    },
    {
     "name": "stdout",
     "output_type": "stream",
     "text": [
      "Ep: 53, time: 946.2635604511015, train: 0.47215043753385544, valid: 0.48451533913612366\n"
     ]
    },
    {
     "name": "stderr",
     "output_type": "stream",
     "text": [
      "100%|███████████████████████████████████████████████████████████████████████████████████| 16/16 [14:52<00:00, 55.76s/it]\n"
     ]
    },
    {
     "name": "stdout",
     "output_type": "stream",
     "text": [
      "Ep: 54, time: 930.8574612040538, train: 0.4716550838202238, valid: 0.5077406764030457\n"
     ]
    },
    {
     "name": "stderr",
     "output_type": "stream",
     "text": [
      "100%|███████████████████████████████████████████████████████████████████████████████████| 16/16 [15:06<00:00, 56.64s/it]\n"
     ]
    },
    {
     "name": "stdout",
     "output_type": "stream",
     "text": [
      "Ep: 55, time: 943.7100996670779, train: 0.47989001870155334, valid: 0.4840031862258911\n"
     ]
    },
    {
     "name": "stderr",
     "output_type": "stream",
     "text": [
      "100%|███████████████████████████████████████████████████████████████████████████████████| 16/16 [15:02<00:00, 56.43s/it]\n"
     ]
    },
    {
     "name": "stdout",
     "output_type": "stream",
     "text": [
      "Ep: 56, time: 940.1136777049396, train: 0.4595361799001694, valid: 0.474261611700058\n"
     ]
    },
    {
     "name": "stderr",
     "output_type": "stream",
     "text": [
      "100%|███████████████████████████████████████████████████████████████████████████████████| 16/16 [15:04<00:00, 56.52s/it]\n"
     ]
    },
    {
     "name": "stdout",
     "output_type": "stream",
     "text": [
      "Ep: 57, time: 942.3439651711378, train: 0.4743646867573261, valid: 0.4919506013393402\n"
     ]
    },
    {
     "name": "stderr",
     "output_type": "stream",
     "text": [
      "100%|███████████████████████████████████████████████████████████████████████████████████| 16/16 [14:54<00:00, 55.89s/it]\n"
     ]
    },
    {
     "name": "stdout",
     "output_type": "stream",
     "text": [
      "Ep: 58, time: 932.0929627178703, train: 0.46083263494074345, valid: 0.48734617233276367\n"
     ]
    },
    {
     "name": "stderr",
     "output_type": "stream",
     "text": [
      "100%|███████████████████████████████████████████████████████████████████████████████████| 16/16 [14:45<00:00, 55.33s/it]\n"
     ]
    },
    {
     "name": "stdout",
     "output_type": "stream",
     "text": [
      "Ep: 59, time: 922.4170096879825, train: 0.44498831778764725, valid: 0.4663752615451813\n"
     ]
    },
    {
     "name": "stderr",
     "output_type": "stream",
     "text": [
      "100%|███████████████████████████████████████████████████████████████████████████████████| 16/16 [14:48<00:00, 55.56s/it]\n"
     ]
    },
    {
     "name": "stdout",
     "output_type": "stream",
     "text": [
      "Ep: 60, time: 926.5224529479165, train: 0.4499751850962639, valid: 0.47655656933784485\n"
     ]
    },
    {
     "name": "stderr",
     "output_type": "stream",
     "text": [
      "100%|███████████████████████████████████████████████████████████████████████████████████| 16/16 [15:18<00:00, 57.42s/it]\n"
     ]
    },
    {
     "name": "stdout",
     "output_type": "stream",
     "text": [
      "Ep: 61, time: 956.2462481288239, train: 0.4471725858747959, valid: 0.4718315601348877\n"
     ]
    },
    {
     "name": "stderr",
     "output_type": "stream",
     "text": [
      "100%|███████████████████████████████████████████████████████████████████████████████████| 16/16 [14:58<00:00, 56.13s/it]\n"
     ]
    },
    {
     "name": "stdout",
     "output_type": "stream",
     "text": [
      "Ep: 62, time: 935.3347065108828, train: 0.4438188262283802, valid: 0.4487442076206207\n"
     ]
    },
    {
     "name": "stderr",
     "output_type": "stream",
     "text": [
      "100%|███████████████████████████████████████████████████████████████████████████████████| 16/16 [15:10<00:00, 56.90s/it]\n"
     ]
    },
    {
     "name": "stdout",
     "output_type": "stream",
     "text": [
      "Ep: 63, time: 947.6850888549816, train: 0.45228084921836853, valid: 0.4793616235256195\n"
     ]
    },
    {
     "name": "stderr",
     "output_type": "stream",
     "text": [
      "100%|███████████████████████████████████████████████████████████████████████████████████| 16/16 [14:53<00:00, 55.83s/it]\n"
     ]
    },
    {
     "name": "stdout",
     "output_type": "stream",
     "text": [
      "Ep: 64, time: 930.7033403560054, train: 0.4584512636065483, valid: 0.4646896421909332\n"
     ]
    },
    {
     "name": "stderr",
     "output_type": "stream",
     "text": [
      "100%|███████████████████████████████████████████████████████████████████████████████████| 16/16 [14:59<00:00, 56.23s/it]\n"
     ]
    },
    {
     "name": "stdout",
     "output_type": "stream",
     "text": [
      "Ep: 66, time: 938.0941480619367, train: 0.44470410607755184, valid: 0.4572012722492218\n"
     ]
    },
    {
     "name": "stderr",
     "output_type": "stream",
     "text": [
      "100%|███████████████████████████████████████████████████████████████████████████████████| 16/16 [15:06<00:00, 56.64s/it]\n"
     ]
    },
    {
     "name": "stdout",
     "output_type": "stream",
     "text": [
      "Ep: 67, time: 944.529736377066, train: 0.4276185892522335, valid: 0.4381694793701172\n"
     ]
    },
    {
     "name": "stderr",
     "output_type": "stream",
     "text": [
      "100%|███████████████████████████████████████████████████████████████████████████████████| 16/16 [15:04<00:00, 56.50s/it]\n"
     ]
    },
    {
     "name": "stdout",
     "output_type": "stream",
     "text": [
      "Ep: 68, time: 942.7881181789562, train: 0.4257881585508585, valid: 0.4458327293395996\n"
     ]
    },
    {
     "name": "stderr",
     "output_type": "stream",
     "text": [
      "100%|███████████████████████████████████████████████████████████████████████████████████| 16/16 [14:58<00:00, 56.15s/it]\n"
     ]
    },
    {
     "name": "stdout",
     "output_type": "stream",
     "text": [
      "Ep: 69, time: 936.9815996941179, train: 0.42994280718266964, valid: 0.43754658102989197\n"
     ]
    },
    {
     "name": "stderr",
     "output_type": "stream",
     "text": [
      "100%|███████████████████████████████████████████████████████████████████████████████████| 16/16 [15:05<00:00, 56.61s/it]\n"
     ]
    },
    {
     "name": "stdout",
     "output_type": "stream",
     "text": [
      "Ep: 70, time: 943.6639995491132, train: 0.4190987814217806, valid: 0.4433296024799347\n"
     ]
    },
    {
     "name": "stderr",
     "output_type": "stream",
     "text": [
      "100%|███████████████████████████████████████████████████████████████████████████████████| 16/16 [14:45<00:00, 55.34s/it]\n"
     ]
    },
    {
     "name": "stdout",
     "output_type": "stream",
     "text": [
      "Ep: 71, time: 923.3380624859128, train: 0.4355766847729683, valid: 0.48907527327537537\n"
     ]
    },
    {
     "name": "stderr",
     "output_type": "stream",
     "text": [
      "100%|███████████████████████████████████████████████████████████████████████████████████| 16/16 [15:09<00:00, 56.82s/it]\n"
     ]
    },
    {
     "name": "stdout",
     "output_type": "stream",
     "text": [
      "Ep: 72, time: 945.0065666420851, train: 0.49109906144440174, valid: 0.4830244481563568\n"
     ]
    },
    {
     "name": "stderr",
     "output_type": "stream",
     "text": [
      "100%|███████████████████████████████████████████████████████████████████████████████████| 16/16 [14:56<00:00, 56.05s/it]\n"
     ]
    },
    {
     "name": "stdout",
     "output_type": "stream",
     "text": [
      "Ep: 73, time: 934.0293180809822, train: 0.4395305421203375, valid: 0.4293304681777954\n"
     ]
    },
    {
     "name": "stderr",
     "output_type": "stream",
     "text": [
      "100%|███████████████████████████████████████████████████████████████████████████████████| 16/16 [14:54<00:00, 55.91s/it]\n"
     ]
    },
    {
     "name": "stdout",
     "output_type": "stream",
     "text": [
      "Ep: 74, time: 932.3930844389834, train: 0.4158850945532322, valid: 0.425365686416626\n"
     ]
    },
    {
     "name": "stderr",
     "output_type": "stream",
     "text": [
      "100%|███████████████████████████████████████████████████████████████████████████████████| 16/16 [14:50<00:00, 55.66s/it]\n"
     ]
    },
    {
     "name": "stdout",
     "output_type": "stream",
     "text": [
      "Ep: 75, time: 928.6338518911507, train: 0.425575727596879, valid: 0.4262392520904541\n"
     ]
    },
    {
     "name": "stderr",
     "output_type": "stream",
     "text": [
      "100%|███████████████████████████████████████████████████████████████████████████████████| 16/16 [15:07<00:00, 56.70s/it]\n"
     ]
    },
    {
     "name": "stdout",
     "output_type": "stream",
     "text": [
      "Ep: 76, time: 944.1461776290089, train: 0.41390998661518097, valid: 0.4123132526874542\n"
     ]
    },
    {
     "name": "stderr",
     "output_type": "stream",
     "text": [
      "100%|███████████████████████████████████████████████████████████████████████████████████| 16/16 [15:02<00:00, 56.39s/it]\n"
     ]
    },
    {
     "name": "stdout",
     "output_type": "stream",
     "text": [
      "Ep: 77, time: 940.9490723889321, train: 0.39981033094227314, valid: 0.4237602651119232\n"
     ]
    },
    {
     "name": "stderr",
     "output_type": "stream",
     "text": [
      "100%|███████████████████████████████████████████████████████████████████████████████████| 16/16 [14:48<00:00, 55.55s/it]\n"
     ]
    },
    {
     "name": "stdout",
     "output_type": "stream",
     "text": [
      "Ep: 78, time: 925.5868455050513, train: 0.38923158310353756, valid: 0.3980585038661957\n"
     ]
    },
    {
     "name": "stderr",
     "output_type": "stream",
     "text": [
      "100%|███████████████████████████████████████████████████████████████████████████████████| 16/16 [14:57<00:00, 56.09s/it]\n"
     ]
    },
    {
     "name": "stdout",
     "output_type": "stream",
     "text": [
      "Ep: 79, time: 932.4742486269679, train: 0.38830159790813923, valid: 0.4076247215270996\n"
     ]
    },
    {
     "name": "stderr",
     "output_type": "stream",
     "text": [
      "100%|███████████████████████████████████████████████████████████████████████████████████| 16/16 [14:38<00:00, 54.91s/it]\n"
     ]
    },
    {
     "name": "stdout",
     "output_type": "stream",
     "text": [
      "Ep: 80, time: 914.5739162149839, train: 0.3884870223701, valid: 0.39718878269195557\n"
     ]
    },
    {
     "name": "stderr",
     "output_type": "stream",
     "text": [
      "100%|███████████████████████████████████████████████████████████████████████████████████| 16/16 [14:50<00:00, 55.64s/it]\n"
     ]
    },
    {
     "name": "stdout",
     "output_type": "stream",
     "text": [
      "Ep: 81, time: 927.3975914760958, train: 0.39343058317899704, valid: 0.40148985385894775\n"
     ]
    },
    {
     "name": "stderr",
     "output_type": "stream",
     "text": [
      "100%|███████████████████████████████████████████████████████████████████████████████████| 16/16 [14:45<00:00, 55.33s/it]\n"
     ]
    },
    {
     "name": "stdout",
     "output_type": "stream",
     "text": [
      "Ep: 82, time: 922.8581572030671, train: 0.38145824894309044, valid: 0.399643212556839\n"
     ]
    },
    {
     "name": "stderr",
     "output_type": "stream",
     "text": [
      "100%|███████████████████████████████████████████████████████████████████████████████████| 16/16 [14:58<00:00, 56.17s/it]\n"
     ]
    },
    {
     "name": "stdout",
     "output_type": "stream",
     "text": [
      "Ep: 83, time: 936.5732936898712, train: 0.4032890908420086, valid: 0.4218021631240845\n"
     ]
    },
    {
     "name": "stderr",
     "output_type": "stream",
     "text": [
      "100%|███████████████████████████████████████████████████████████████████████████████████| 16/16 [15:01<00:00, 56.37s/it]\n"
     ]
    },
    {
     "name": "stdout",
     "output_type": "stream",
     "text": [
      "Ep: 84, time: 939.2134726580698, train: 0.39991611428558826, valid: 0.4056951105594635\n"
     ]
    },
    {
     "name": "stderr",
     "output_type": "stream",
     "text": [
      "100%|███████████████████████████████████████████████████████████████████████████████████| 16/16 [14:53<00:00, 55.83s/it]\n"
     ]
    },
    {
     "name": "stdout",
     "output_type": "stream",
     "text": [
      "Ep: 85, time: 930.8837563279085, train: 0.38649498857557774, valid: 0.3865857422351837\n"
     ]
    },
    {
     "name": "stderr",
     "output_type": "stream",
     "text": [
      "100%|███████████████████████████████████████████████████████████████████████████████████| 16/16 [14:49<00:00, 55.62s/it]\n"
     ]
    },
    {
     "name": "stdout",
     "output_type": "stream",
     "text": [
      "Ep: 86, time: 927.484138231026, train: 0.37819102965295315, valid: 0.39945265650749207\n"
     ]
    },
    {
     "name": "stderr",
     "output_type": "stream",
     "text": [
      "100%|███████████████████████████████████████████████████████████████████████████████████| 16/16 [14:51<00:00, 55.75s/it]\n"
     ]
    },
    {
     "name": "stdout",
     "output_type": "stream",
     "text": [
      "Ep: 87, time: 928.7560308950488, train: 0.37869711220264435, valid: 0.3993910551071167\n"
     ]
    },
    {
     "name": "stderr",
     "output_type": "stream",
     "text": [
      "100%|███████████████████████████████████████████████████████████████████████████████████| 16/16 [15:04<00:00, 56.51s/it]\n"
     ]
    },
    {
     "name": "stdout",
     "output_type": "stream",
     "text": [
      "Ep: 88, time: 941.2450296259485, train: 0.3899904452264309, valid: 0.39401301741600037\n"
     ]
    },
    {
     "name": "stderr",
     "output_type": "stream",
     "text": [
      "100%|███████████████████████████████████████████████████████████████████████████████████| 16/16 [15:00<00:00, 56.27s/it]\n"
     ]
    },
    {
     "name": "stdout",
     "output_type": "stream",
     "text": [
      "Ep: 89, time: 937.6951583488844, train: 0.3767871055752039, valid: 0.39124858379364014\n"
     ]
    },
    {
     "name": "stderr",
     "output_type": "stream",
     "text": [
      "100%|███████████████████████████████████████████████████████████████████████████████████| 16/16 [14:58<00:00, 56.14s/it]\n"
     ]
    },
    {
     "name": "stdout",
     "output_type": "stream",
     "text": [
      "Ep: 90, time: 934.4091598850209, train: 0.383037269115448, valid: 0.39280351996421814\n"
     ]
    },
    {
     "name": "stderr",
     "output_type": "stream",
     "text": [
      "100%|███████████████████████████████████████████████████████████████████████████████████| 16/16 [14:57<00:00, 56.08s/it]\n"
     ]
    },
    {
     "name": "stdout",
     "output_type": "stream",
     "text": [
      "Ep: 91, time: 934.1792978581507, train: 0.3746398575603962, valid: 0.41340675950050354\n"
     ]
    },
    {
     "name": "stderr",
     "output_type": "stream",
     "text": [
      "100%|███████████████████████████████████████████████████████████████████████████████████| 16/16 [15:00<00:00, 56.29s/it]\n"
     ]
    },
    {
     "name": "stdout",
     "output_type": "stream",
     "text": [
      "Ep: 92, time: 935.9636316611432, train: 0.3898423220962286, valid: 0.41447916626930237\n"
     ]
    },
    {
     "name": "stderr",
     "output_type": "stream",
     "text": [
      "100%|███████████████████████████████████████████████████████████████████████████████████| 16/16 [14:16<00:00, 53.54s/it]\n"
     ]
    },
    {
     "name": "stdout",
     "output_type": "stream",
     "text": [
      "Ep: 93, time: 895.3152574731503, train: 0.382840309292078, valid: 0.4017763137817383\n"
     ]
    },
    {
     "name": "stderr",
     "output_type": "stream",
     "text": [
      "100%|███████████████████████████████████████████████████████████████████████████████████| 16/16 [14:59<00:00, 56.20s/it]\n"
     ]
    },
    {
     "name": "stdout",
     "output_type": "stream",
     "text": [
      "Ep: 94, time: 936.284858484054, train: 0.366140553727746, valid: 0.3841294050216675\n"
     ]
    },
    {
     "name": "stderr",
     "output_type": "stream",
     "text": [
      "100%|███████████████████████████████████████████████████████████████████████████████████| 16/16 [14:54<00:00, 55.88s/it]\n"
     ]
    },
    {
     "name": "stdout",
     "output_type": "stream",
     "text": [
      "Ep: 95, time: 932.1151281108614, train: 0.37186069786548615, valid: 0.3779240548610687\n"
     ]
    },
    {
     "name": "stderr",
     "output_type": "stream",
     "text": [
      "100%|███████████████████████████████████████████████████████████████████████████████████| 16/16 [14:59<00:00, 56.25s/it]\n"
     ]
    },
    {
     "name": "stdout",
     "output_type": "stream",
     "text": [
      "Ep: 96, time: 937.6123388479464, train: 0.3628176860511303, valid: 0.39141401648521423\n"
     ]
    },
    {
     "name": "stderr",
     "output_type": "stream",
     "text": [
      "100%|███████████████████████████████████████████████████████████████████████████████████| 16/16 [15:09<00:00, 56.82s/it]\n"
     ]
    },
    {
     "name": "stdout",
     "output_type": "stream",
     "text": [
      "Ep: 97, time: 947.2838798791636, train: 0.37199342623353004, valid: 0.39322391152381897\n"
     ]
    },
    {
     "name": "stderr",
     "output_type": "stream",
     "text": [
      "100%|███████████████████████████████████████████████████████████████████████████████████| 16/16 [15:15<00:00, 57.23s/it]\n"
     ]
    },
    {
     "name": "stdout",
     "output_type": "stream",
     "text": [
      "Ep: 98, time: 954.1735342959873, train: 0.3890752661973238, valid: 0.38207098841667175\n"
     ]
    },
    {
     "name": "stderr",
     "output_type": "stream",
     "text": [
      "100%|███████████████████████████████████████████████████████████████████████████████████| 16/16 [15:15<00:00, 57.19s/it]\n"
     ]
    },
    {
     "name": "stdout",
     "output_type": "stream",
     "text": [
      "Ep: 99, time: 953.321298972005, train: 0.37919376604259014, valid: 0.3995232582092285\n"
     ]
    },
    {
     "name": "stderr",
     "output_type": "stream",
     "text": [
      "100%|███████████████████████████████████████████████████████████████████████████████████| 16/16 [15:21<00:00, 57.59s/it]\n"
     ]
    },
    {
     "name": "stdout",
     "output_type": "stream",
     "text": [
      "Ep: 100, time: 960.017573208781, train: 0.36601720564067364, valid: 0.3882833421230316\n"
     ]
    },
    {
     "name": "stderr",
     "output_type": "stream",
     "text": [
      "100%|███████████████████████████████████████████████████████████████████████████████████| 16/16 [15:20<00:00, 57.56s/it]\n"
     ]
    },
    {
     "name": "stdout",
     "output_type": "stream",
     "text": [
      "Ep: 101, time: 958.8831981800031, train: 0.3614550866186619, valid: 0.37247487902641296\n"
     ]
    },
    {
     "name": "stderr",
     "output_type": "stream",
     "text": [
      "100%|███████████████████████████████████████████████████████████████████████████████████| 16/16 [14:49<00:00, 55.59s/it]\n"
     ]
    },
    {
     "name": "stdout",
     "output_type": "stream",
     "text": [
      "Ep: 102, time: 926.8134572999552, train: 0.3453711271286011, valid: 0.36228904128074646\n"
     ]
    },
    {
     "name": "stderr",
     "output_type": "stream",
     "text": [
      "100%|███████████████████████████████████████████████████████████████████████████████████| 16/16 [15:08<00:00, 56.76s/it]\n"
     ]
    },
    {
     "name": "stdout",
     "output_type": "stream",
     "text": [
      "Ep: 103, time: 945.8700032171328, train: 0.351448368281126, valid: 0.3603615462779999\n"
     ]
    },
    {
     "name": "stderr",
     "output_type": "stream",
     "text": [
      "100%|███████████████████████████████████████████████████████████████████████████████████| 16/16 [14:58<00:00, 56.16s/it]\n"
     ]
    },
    {
     "name": "stdout",
     "output_type": "stream",
     "text": [
      "Ep: 104, time: 937.2056360410061, train: 0.36831302009522915, valid: 0.3733781576156616\n"
     ]
    },
    {
     "name": "stderr",
     "output_type": "stream",
     "text": [
      "100%|███████████████████████████████████████████████████████████████████████████████████| 16/16 [15:04<00:00, 56.55s/it]\n"
     ]
    },
    {
     "name": "stdout",
     "output_type": "stream",
     "text": [
      "Ep: 105, time: 943.4378724780399, train: 0.3824715968221426, valid: 0.38461145758628845\n"
     ]
    },
    {
     "name": "stderr",
     "output_type": "stream",
     "text": [
      "100%|███████████████████████████████████████████████████████████████████████████████████| 16/16 [15:15<00:00, 57.20s/it]\n"
     ]
    },
    {
     "name": "stdout",
     "output_type": "stream",
     "text": [
      "Ep: 106, time: 952.6724371421151, train: 0.3562362492084503, valid: 0.3743630349636078\n"
     ]
    },
    {
     "name": "stderr",
     "output_type": "stream",
     "text": [
      "100%|███████████████████████████████████████████████████████████████████████████████████| 16/16 [14:58<00:00, 56.17s/it]\n"
     ]
    },
    {
     "name": "stdout",
     "output_type": "stream",
     "text": [
      "Ep: 107, time: 935.6066376280505, train: 0.3484463095664978, valid: 0.35585448145866394\n"
     ]
    },
    {
     "name": "stderr",
     "output_type": "stream",
     "text": [
      "100%|███████████████████████████████████████████████████████████████████████████████████| 16/16 [14:53<00:00, 55.84s/it]\n"
     ]
    },
    {
     "name": "stdout",
     "output_type": "stream",
     "text": [
      "Ep: 108, time: 931.6000820850022, train: 0.3396484889090061, valid: 0.3467297852039337\n"
     ]
    },
    {
     "name": "stderr",
     "output_type": "stream",
     "text": [
      "100%|███████████████████████████████████████████████████████████████████████████████████| 16/16 [15:05<00:00, 56.58s/it]\n"
     ]
    },
    {
     "name": "stdout",
     "output_type": "stream",
     "text": [
      "Ep: 109, time: 942.4766465318389, train: 0.33427159674465656, valid: 0.3579942286014557\n"
     ]
    },
    {
     "name": "stderr",
     "output_type": "stream",
     "text": [
      "100%|███████████████████████████████████████████████████████████████████████████████████| 16/16 [15:05<00:00, 56.61s/it]\n"
     ]
    },
    {
     "name": "stdout",
     "output_type": "stream",
     "text": [
      "Ep: 110, time: 944.5036317710765, train: 0.35180775448679924, valid: 0.38466688990592957\n"
     ]
    },
    {
     "name": "stderr",
     "output_type": "stream",
     "text": [
      "100%|███████████████████████████████████████████████████████████████████████████████████| 16/16 [15:30<00:00, 58.16s/it]\n"
     ]
    },
    {
     "name": "stdout",
     "output_type": "stream",
     "text": [
      "Ep: 111, time: 975.1280709761195, train: 0.3765672016888857, valid: 0.371539443731308\n"
     ]
    },
    {
     "name": "stderr",
     "output_type": "stream",
     "text": [
      "100%|███████████████████████████████████████████████████████████████████████████████████| 16/16 [17:44<00:00, 66.53s/it]\n"
     ]
    },
    {
     "name": "stdout",
     "output_type": "stream",
     "text": [
      "Ep: 112, time: 1102.3439305559732, train: 0.348352886736393, valid: 0.3409176766872406\n"
     ]
    },
    {
     "name": "stderr",
     "output_type": "stream",
     "text": [
      "100%|███████████████████████████████████████████████████████████████████████████████████| 16/16 [14:55<00:00, 55.97s/it]\n"
     ]
    },
    {
     "name": "stdout",
     "output_type": "stream",
     "text": [
      "Ep: 113, time: 933.591874766862, train: 0.34638270176947117, valid: 0.3509235084056854\n"
     ]
    },
    {
     "name": "stderr",
     "output_type": "stream",
     "text": [
      "100%|███████████████████████████████████████████████████████████████████████████████████| 16/16 [14:50<00:00, 55.68s/it]\n"
     ]
    },
    {
     "name": "stdout",
     "output_type": "stream",
     "text": [
      "Ep: 114, time: 928.9638163051568, train: 0.33363247103989124, valid: 0.3419109284877777\n"
     ]
    },
    {
     "name": "stderr",
     "output_type": "stream",
     "text": [
      "100%|███████████████████████████████████████████████████████████████████████████████████| 16/16 [15:05<00:00, 56.59s/it]\n"
     ]
    },
    {
     "name": "stdout",
     "output_type": "stream",
     "text": [
      "Ep: 115, time: 943.8444350571372, train: 0.3218830693513155, valid: 0.3336373567581177\n"
     ]
    },
    {
     "name": "stderr",
     "output_type": "stream",
     "text": [
      "100%|███████████████████████████████████████████████████████████████████████████████████| 16/16 [15:08<00:00, 56.81s/it]\n"
     ]
    },
    {
     "name": "stdout",
     "output_type": "stream",
     "text": [
      "Ep: 116, time: 947.7928124950267, train: 0.3299961034208536, valid: 0.3787449300289154\n"
     ]
    },
    {
     "name": "stderr",
     "output_type": "stream",
     "text": [
      "100%|███████████████████████████████████████████████████████████████████████████████████| 16/16 [14:57<00:00, 56.07s/it]\n"
     ]
    },
    {
     "name": "stdout",
     "output_type": "stream",
     "text": [
      "Ep: 117, time: 934.5617854509037, train: 0.3448986280709505, valid: 0.3516136109828949\n"
     ]
    },
    {
     "name": "stderr",
     "output_type": "stream",
     "text": [
      "100%|███████████████████████████████████████████████████████████████████████████████████| 16/16 [14:54<00:00, 55.90s/it]\n"
     ]
    },
    {
     "name": "stdout",
     "output_type": "stream",
     "text": [
      "Ep: 118, time: 931.8789647249505, train: 0.3459271676838398, valid: 0.36448147892951965\n"
     ]
    },
    {
     "name": "stderr",
     "output_type": "stream",
     "text": [
      "100%|███████████████████████████████████████████████████████████████████████████████████| 16/16 [14:55<00:00, 55.98s/it]\n"
     ]
    },
    {
     "name": "stdout",
     "output_type": "stream",
     "text": [
      "Ep: 119, time: 934.1814140381757, train: 0.3375433627516031, valid: 0.32844045758247375\n"
     ]
    },
    {
     "name": "stderr",
     "output_type": "stream",
     "text": [
      "100%|███████████████████████████████████████████████████████████████████████████████████| 16/16 [15:03<00:00, 56.47s/it]\n"
     ]
    },
    {
     "name": "stdout",
     "output_type": "stream",
     "text": [
      "Ep: 120, time: 942.7545836779755, train: 0.33374871127307415, valid: 0.34212303161621094\n"
     ]
    },
    {
     "name": "stderr",
     "output_type": "stream",
     "text": [
      "100%|███████████████████████████████████████████████████████████████████████████████████| 16/16 [15:01<00:00, 56.37s/it]\n"
     ]
    },
    {
     "name": "stdout",
     "output_type": "stream",
     "text": [
      "Ep: 121, time: 941.4758160419296, train: 0.3257018979638815, valid: 0.3277248442173004\n"
     ]
    },
    {
     "name": "stderr",
     "output_type": "stream",
     "text": [
      "100%|███████████████████████████████████████████████████████████████████████████████████| 16/16 [15:05<00:00, 56.60s/it]\n"
     ]
    },
    {
     "name": "stdout",
     "output_type": "stream",
     "text": [
      "Ep: 122, time: 942.8457213169895, train: 0.33488554507493973, valid: 0.36338305473327637\n"
     ]
    },
    {
     "name": "stderr",
     "output_type": "stream",
     "text": [
      "100%|███████████████████████████████████████████████████████████████████████████████████| 16/16 [14:52<00:00, 55.76s/it]\n"
     ]
    },
    {
     "name": "stdout",
     "output_type": "stream",
     "text": [
      "Ep: 123, time: 929.4758892010432, train: 0.33206041529774666, valid: 0.3310604393482208\n"
     ]
    },
    {
     "name": "stderr",
     "output_type": "stream",
     "text": [
      "100%|███████████████████████████████████████████████████████████████████████████████████| 16/16 [14:56<00:00, 56.00s/it]\n"
     ]
    },
    {
     "name": "stdout",
     "output_type": "stream",
     "text": [
      "Ep: 124, time: 933.9158798300195, train: 0.3343352545052767, valid: 0.3434883654117584\n"
     ]
    },
    {
     "name": "stderr",
     "output_type": "stream",
     "text": [
      "100%|███████████████████████████████████████████████████████████████████████████████████| 16/16 [14:54<00:00, 55.93s/it]\n"
     ]
    },
    {
     "name": "stdout",
     "output_type": "stream",
     "text": [
      "Ep: 125, time: 932.6682275440544, train: 0.33761800453066826, valid: 0.3904297351837158\n"
     ]
    },
    {
     "name": "stderr",
     "output_type": "stream",
     "text": [
      "100%|███████████████████████████████████████████████████████████████████████████████████| 16/16 [15:07<00:00, 56.71s/it]\n"
     ]
    },
    {
     "name": "stdout",
     "output_type": "stream",
     "text": [
      "Ep: 126, time: 944.7963753389195, train: 0.4275092240422964, valid: 0.39377307891845703\n"
     ]
    },
    {
     "name": "stderr",
     "output_type": "stream",
     "text": [
      "100%|███████████████████████████████████████████████████████████████████████████████████| 16/16 [15:04<00:00, 56.54s/it]\n"
     ]
    },
    {
     "name": "stdout",
     "output_type": "stream",
     "text": [
      "Ep: 127, time: 942.8195239780471, train: 0.38733221776783466, valid: 0.3582950532436371\n"
     ]
    },
    {
     "name": "stderr",
     "output_type": "stream",
     "text": [
      "100%|███████████████████████████████████████████████████████████████████████████████████| 16/16 [14:44<00:00, 55.26s/it]\n"
     ]
    },
    {
     "name": "stdout",
     "output_type": "stream",
     "text": [
      "Ep: 128, time: 922.2999802608974, train: 0.3455863781273365, valid: 0.3311501443386078\n"
     ]
    },
    {
     "name": "stderr",
     "output_type": "stream",
     "text": [
      "100%|███████████████████████████████████████████████████████████████████████████████████| 16/16 [15:08<00:00, 56.78s/it]\n"
     ]
    },
    {
     "name": "stdout",
     "output_type": "stream",
     "text": [
      "Ep: 129, time: 947.3544077051338, train: 0.32181956991553307, valid: 0.3458302915096283\n"
     ]
    },
    {
     "name": "stderr",
     "output_type": "stream",
     "text": [
      "100%|███████████████████████████████████████████████████████████████████████████████████| 16/16 [14:58<00:00, 56.19s/it]\n"
     ]
    },
    {
     "name": "stdout",
     "output_type": "stream",
     "text": [
      "Ep: 130, time: 936.5824255889747, train: 0.3305023107677698, valid: 0.3384474515914917\n"
     ]
    },
    {
     "name": "stderr",
     "output_type": "stream",
     "text": [
      "100%|███████████████████████████████████████████████████████████████████████████████████| 16/16 [15:08<00:00, 56.77s/it]\n"
     ]
    },
    {
     "name": "stdout",
     "output_type": "stream",
     "text": [
      "Ep: 131, time: 946.5207868050784, train: 0.32303730957210064, valid: 0.3198262155056\n"
     ]
    },
    {
     "name": "stderr",
     "output_type": "stream",
     "text": [
      "100%|███████████████████████████████████████████████████████████████████████████████████| 16/16 [15:04<00:00, 56.53s/it]\n"
     ]
    },
    {
     "name": "stdout",
     "output_type": "stream",
     "text": [
      "Ep: 132, time: 942.8607200840488, train: 0.3249226585030556, valid: 0.3456847667694092\n"
     ]
    },
    {
     "name": "stderr",
     "output_type": "stream",
     "text": [
      "100%|███████████████████████████████████████████████████████████████████████████████████| 16/16 [14:49<00:00, 55.62s/it]\n"
     ]
    },
    {
     "name": "stdout",
     "output_type": "stream",
     "text": [
      "Ep: 133, time: 927.092147721909, train: 0.3232955150306225, valid: 0.33562400937080383\n"
     ]
    },
    {
     "name": "stderr",
     "output_type": "stream",
     "text": [
      "100%|███████████████████████████████████████████████████████████████████████████████████| 16/16 [14:58<00:00, 56.15s/it]\n"
     ]
    },
    {
     "name": "stdout",
     "output_type": "stream",
     "text": [
      "Ep: 134, time: 935.1002354240045, train: 0.31553200259804726, valid: 0.322518527507782\n"
     ]
    },
    {
     "name": "stderr",
     "output_type": "stream",
     "text": [
      "100%|███████████████████████████████████████████████████████████████████████████████████| 16/16 [15:12<00:00, 57.04s/it]\n"
     ]
    },
    {
     "name": "stdout",
     "output_type": "stream",
     "text": [
      "Ep: 135, time: 950.1015980120283, train: 0.31804489344358444, valid: 0.3422808349132538\n"
     ]
    },
    {
     "name": "stderr",
     "output_type": "stream",
     "text": [
      "100%|███████████████████████████████████████████████████████████████████████████████████| 16/16 [15:08<00:00, 56.75s/it]\n"
     ]
    },
    {
     "name": "stdout",
     "output_type": "stream",
     "text": [
      "Ep: 136, time: 945.1487603089772, train: 0.3212731871753931, valid: 0.32196909189224243\n"
     ]
    },
    {
     "name": "stderr",
     "output_type": "stream",
     "text": [
      "100%|███████████████████████████████████████████████████████████████████████████████████| 16/16 [15:07<00:00, 56.75s/it]\n"
     ]
    },
    {
     "name": "stdout",
     "output_type": "stream",
     "text": [
      "Ep: 137, time: 945.6072827889584, train: 0.3140948284417391, valid: 0.3156515955924988\n"
     ]
    },
    {
     "name": "stderr",
     "output_type": "stream",
     "text": [
      "100%|███████████████████████████████████████████████████████████████████████████████████| 16/16 [14:57<00:00, 56.10s/it]\n"
     ]
    },
    {
     "name": "stdout",
     "output_type": "stream",
     "text": [
      "Ep: 138, time: 935.0289288731292, train: 0.30392733961343765, valid: 0.30949342250823975\n"
     ]
    },
    {
     "name": "stderr",
     "output_type": "stream",
     "text": [
      "100%|███████████████████████████████████████████████████████████████████████████████████| 16/16 [14:52<00:00, 55.75s/it]\n"
     ]
    },
    {
     "name": "stdout",
     "output_type": "stream",
     "text": [
      "Ep: 139, time: 928.9534290849697, train: 0.30055846832692623, valid: 0.30535438656806946\n"
     ]
    },
    {
     "name": "stderr",
     "output_type": "stream",
     "text": [
      "100%|███████████████████████████████████████████████████████████████████████████████████| 16/16 [15:05<00:00, 56.57s/it]\n"
     ]
    },
    {
     "name": "stdout",
     "output_type": "stream",
     "text": [
      "Ep: 140, time: 943.8814794288483, train: 0.2986490223556757, valid: 0.31985101103782654\n"
     ]
    },
    {
     "name": "stderr",
     "output_type": "stream",
     "text": [
      "100%|███████████████████████████████████████████████████████████████████████████████████| 16/16 [15:03<00:00, 56.45s/it]\n"
     ]
    },
    {
     "name": "stdout",
     "output_type": "stream",
     "text": [
      "Ep: 141, time: 940.27372501418, train: 0.3094762060791254, valid: 0.319237619638443\n"
     ]
    },
    {
     "name": "stderr",
     "output_type": "stream",
     "text": [
      "100%|███████████████████████████████████████████████████████████████████████████████████| 16/16 [14:50<00:00, 55.68s/it]\n"
     ]
    },
    {
     "name": "stdout",
     "output_type": "stream",
     "text": [
      "Ep: 142, time: 928.0749522880651, train: 0.3000426236540079, valid: 0.32312753796577454\n"
     ]
    },
    {
     "name": "stderr",
     "output_type": "stream",
     "text": [
      "100%|███████████████████████████████████████████████████████████████████████████████████| 16/16 [14:52<00:00, 55.79s/it]\n"
     ]
    },
    {
     "name": "stdout",
     "output_type": "stream",
     "text": [
      "Ep: 143, time: 932.245931396028, train: 0.30293270014226437, valid: 0.3035638630390167\n"
     ]
    },
    {
     "name": "stderr",
     "output_type": "stream",
     "text": [
      "100%|███████████████████████████████████████████████████████████████████████████████████| 16/16 [15:03<00:00, 56.46s/it]\n"
     ]
    },
    {
     "name": "stdout",
     "output_type": "stream",
     "text": [
      "Ep: 144, time: 941.3335425239056, train: 0.2950961943715811, valid: 0.3023797571659088\n"
     ]
    },
    {
     "name": "stderr",
     "output_type": "stream",
     "text": [
      "100%|███████████████████████████████████████████████████████████████████████████████████| 16/16 [15:05<00:00, 56.62s/it]\n"
     ]
    },
    {
     "name": "stdout",
     "output_type": "stream",
     "text": [
      "Ep: 145, time: 943.0228083471302, train: 0.30278974026441574, valid: 0.33388447761535645\n"
     ]
    },
    {
     "name": "stderr",
     "output_type": "stream",
     "text": [
      "100%|███████████████████████████████████████████████████████████████████████████████████| 16/16 [14:59<00:00, 56.20s/it]\n"
     ]
    },
    {
     "name": "stdout",
     "output_type": "stream",
     "text": [
      "Ep: 146, time: 936.2529040861409, train: 0.31506691314280033, valid: 0.31244543194770813\n"
     ]
    },
    {
     "name": "stderr",
     "output_type": "stream",
     "text": [
      "100%|███████████████████████████████████████████████████████████████████████████████████| 16/16 [14:53<00:00, 55.83s/it]\n"
     ]
    },
    {
     "name": "stdout",
     "output_type": "stream",
     "text": [
      "Ep: 147, time: 932.0244171221275, train: 0.30568819120526314, valid: 0.3095310926437378\n"
     ]
    },
    {
     "name": "stderr",
     "output_type": "stream",
     "text": [
      "100%|███████████████████████████████████████████████████████████████████████████████████| 16/16 [14:56<00:00, 56.01s/it]\n"
     ]
    },
    {
     "name": "stdout",
     "output_type": "stream",
     "text": [
      "Ep: 148, time: 934.2712181960233, train: 0.3089854996651411, valid: 0.3084142506122589\n"
     ]
    },
    {
     "name": "stderr",
     "output_type": "stream",
     "text": [
      "100%|███████████████████████████████████████████████████████████████████████████████████| 16/16 [14:58<00:00, 56.15s/it]\n"
     ]
    },
    {
     "name": "stdout",
     "output_type": "stream",
     "text": [
      "Ep: 149, time: 936.7873214748688, train: 0.31815309077501297, valid: 0.3339805603027344\n"
     ]
    },
    {
     "name": "stderr",
     "output_type": "stream",
     "text": [
      "100%|███████████████████████████████████████████████████████████████████████████████████| 16/16 [14:59<00:00, 56.23s/it]\n"
     ]
    },
    {
     "name": "stdout",
     "output_type": "stream",
     "text": [
      "Ep: 150, time: 937.7158641761634, train: 0.3031974509358406, valid: 0.30031025409698486\n"
     ]
    },
    {
     "name": "stderr",
     "output_type": "stream",
     "text": [
      "100%|███████████████████████████████████████████████████████████████████████████████████| 16/16 [14:55<00:00, 55.95s/it]\n"
     ]
    },
    {
     "name": "stdout",
     "output_type": "stream",
     "text": [
      "Ep: 151, time: 933.6060638478957, train: 0.2986921351402998, valid: 0.3142552673816681\n"
     ]
    },
    {
     "name": "stderr",
     "output_type": "stream",
     "text": [
      "100%|███████████████████████████████████████████████████████████████████████████████████| 16/16 [14:56<00:00, 56.05s/it]\n"
     ]
    },
    {
     "name": "stdout",
     "output_type": "stream",
     "text": [
      "Ep: 152, time: 934.5117778440472, train: 0.29127785190939903, valid: 0.2971162796020508\n"
     ]
    },
    {
     "name": "stderr",
     "output_type": "stream",
     "text": [
      "100%|███████████████████████████████████████████████████████████████████████████████████| 16/16 [15:03<00:00, 56.47s/it]\n"
     ]
    },
    {
     "name": "stdout",
     "output_type": "stream",
     "text": [
      "Ep: 153, time: 941.1619253729004, train: 0.28789120353758335, valid: 0.2977792024612427\n"
     ]
    },
    {
     "name": "stderr",
     "output_type": "stream",
     "text": [
      "100%|███████████████████████████████████████████████████████████████████████████████████| 16/16 [14:59<00:00, 56.19s/it]\n"
     ]
    },
    {
     "name": "stdout",
     "output_type": "stream",
     "text": [
      "Ep: 154, time: 935.1508538939524, train: 0.30303243547677994, valid: 0.3296671211719513\n"
     ]
    },
    {
     "name": "stderr",
     "output_type": "stream",
     "text": [
      "100%|███████████████████████████████████████████████████████████████████████████████████| 16/16 [14:36<00:00, 54.77s/it]\n"
     ]
    },
    {
     "name": "stdout",
     "output_type": "stream",
     "text": [
      "Ep: 155, time: 914.1893465339672, train: 0.30599652603268623, valid: 0.32672590017318726\n"
     ]
    },
    {
     "name": "stderr",
     "output_type": "stream",
     "text": [
      "100%|███████████████████████████████████████████████████████████████████████████████████| 16/16 [15:04<00:00, 56.52s/it]\n"
     ]
    },
    {
     "name": "stdout",
     "output_type": "stream",
     "text": [
      "Ep: 156, time: 942.0790116600692, train: 0.30664958618581295, valid: 0.33703041076660156\n"
     ]
    },
    {
     "name": "stderr",
     "output_type": "stream",
     "text": [
      "100%|███████████████████████████████████████████████████████████████████████████████████| 16/16 [15:03<00:00, 56.46s/it]\n"
     ]
    },
    {
     "name": "stdout",
     "output_type": "stream",
     "text": [
      "Ep: 157, time: 941.4806490140036, train: 0.3057472985237837, valid: 0.29485830664634705\n"
     ]
    },
    {
     "name": "stderr",
     "output_type": "stream",
     "text": [
      "100%|███████████████████████████████████████████████████████████████████████████████████| 16/16 [15:04<00:00, 56.53s/it]\n"
     ]
    },
    {
     "name": "stdout",
     "output_type": "stream",
     "text": [
      "Ep: 158, time: 943.3793105438817, train: 0.2970748785883188, valid: 0.300698846578598\n"
     ]
    },
    {
     "name": "stderr",
     "output_type": "stream",
     "text": [
      "100%|███████████████████████████████████████████████████████████████████████████████████| 16/16 [15:32<00:00, 58.25s/it]\n"
     ]
    },
    {
     "name": "stdout",
     "output_type": "stream",
     "text": [
      "Ep: 159, time: 972.4790719500743, train: 0.28561626374721527, valid: 0.29813602566719055\n"
     ]
    },
    {
     "name": "stderr",
     "output_type": "stream",
     "text": [
      "100%|███████████████████████████████████████████████████████████████████████████████████| 16/16 [15:43<00:00, 58.98s/it]\n"
     ]
    },
    {
     "name": "stdout",
     "output_type": "stream",
     "text": [
      "Ep: 160, time: 983.5972736820113, train: 0.28345946595072746, valid: 0.304355651140213\n"
     ]
    },
    {
     "name": "stderr",
     "output_type": "stream",
     "text": [
      "100%|███████████████████████████████████████████████████████████████████████████████████| 16/16 [15:47<00:00, 59.20s/it]\n"
     ]
    },
    {
     "name": "stdout",
     "output_type": "stream",
     "text": [
      "Ep: 161, time: 985.8486448121257, train: 0.3010850176215172, valid: 0.3063030242919922\n"
     ]
    },
    {
     "name": "stderr",
     "output_type": "stream",
     "text": [
      "100%|███████████████████████████████████████████████████████████████████████████████████| 16/16 [15:31<00:00, 58.24s/it]\n"
     ]
    },
    {
     "name": "stdout",
     "output_type": "stream",
     "text": [
      "Ep: 162, time: 970.4990803799592, train: 0.3008192479610443, valid: 0.33002814650535583\n"
     ]
    },
    {
     "name": "stderr",
     "output_type": "stream",
     "text": [
      "100%|███████████████████████████████████████████████████████████████████████████████████| 16/16 [15:23<00:00, 57.73s/it]\n"
     ]
    },
    {
     "name": "stdout",
     "output_type": "stream",
     "text": [
      "Ep: 163, time: 962.2807285848539, train: 0.29775664769113064, valid: 0.3017471730709076\n"
     ]
    },
    {
     "name": "stderr",
     "output_type": "stream",
     "text": [
      "100%|███████████████████████████████████████████████████████████████████████████████████| 16/16 [15:43<00:00, 58.97s/it]\n"
     ]
    },
    {
     "name": "stdout",
     "output_type": "stream",
     "text": [
      "Ep: 164, time: 981.4958021058701, train: 0.2955145910382271, valid: 0.2837792634963989\n"
     ]
    },
    {
     "name": "stderr",
     "output_type": "stream",
     "text": [
      "100%|███████████████████████████████████████████████████████████████████████████████████| 16/16 [15:28<00:00, 58.01s/it]\n"
     ]
    },
    {
     "name": "stdout",
     "output_type": "stream",
     "text": [
      "Ep: 165, time: 966.5763705808204, train: 0.28130390495061874, valid: 0.28369736671447754\n"
     ]
    },
    {
     "name": "stderr",
     "output_type": "stream",
     "text": [
      "100%|███████████████████████████████████████████████████████████████████████████████████| 16/16 [15:34<00:00, 58.38s/it]\n"
     ]
    },
    {
     "name": "stdout",
     "output_type": "stream",
     "text": [
      "Ep: 166, time: 974.0141571511049, train: 0.28352032601833344, valid: 0.2858491837978363\n"
     ]
    },
    {
     "name": "stderr",
     "output_type": "stream",
     "text": [
      "100%|███████████████████████████████████████████████████████████████████████████████████| 16/16 [15:33<00:00, 58.32s/it]\n"
     ]
    },
    {
     "name": "stdout",
     "output_type": "stream",
     "text": [
      "Ep: 167, time: 972.3288045770023, train: 0.2899662535637617, valid: 0.30772241950035095\n"
     ]
    },
    {
     "name": "stderr",
     "output_type": "stream",
     "text": [
      "100%|███████████████████████████████████████████████████████████████████████████████████| 16/16 [15:37<00:00, 58.58s/it]\n"
     ]
    },
    {
     "name": "stdout",
     "output_type": "stream",
     "text": [
      "Ep: 168, time: 977.5721683921292, train: 0.3091548439115286, valid: 0.33372554183006287\n"
     ]
    },
    {
     "name": "stderr",
     "output_type": "stream",
     "text": [
      "100%|███████████████████████████████████████████████████████████████████████████████████| 16/16 [15:38<00:00, 58.69s/it]\n"
     ]
    },
    {
     "name": "stdout",
     "output_type": "stream",
     "text": [
      "Ep: 169, time: 978.6122205108404, train: 0.2975356113165617, valid: 0.2994580566883087\n"
     ]
    },
    {
     "name": "stderr",
     "output_type": "stream",
     "text": [
      "100%|███████████████████████████████████████████████████████████████████████████████████| 16/16 [15:41<00:00, 58.84s/it]\n"
     ]
    },
    {
     "name": "stdout",
     "output_type": "stream",
     "text": [
      "Ep: 170, time: 981.1846063709818, train: 0.2902881633490324, valid: 0.31326553225517273\n"
     ]
    },
    {
     "name": "stderr",
     "output_type": "stream",
     "text": [
      "100%|███████████████████████████████████████████████████████████████████████████████████| 16/16 [15:43<00:00, 58.97s/it]\n"
     ]
    },
    {
     "name": "stdout",
     "output_type": "stream",
     "text": [
      "Ep: 171, time: 983.5754820108414, train: 0.2929011955857277, valid: 0.2907942533493042\n"
     ]
    },
    {
     "name": "stderr",
     "output_type": "stream",
     "text": [
      "100%|███████████████████████████████████████████████████████████████████████████████████| 16/16 [15:36<00:00, 58.53s/it]\n"
     ]
    },
    {
     "name": "stdout",
     "output_type": "stream",
     "text": [
      "Ep: 172, time: 975.7306662232149, train: 0.28088580816984177, valid: 0.29749682545661926\n"
     ]
    },
    {
     "name": "stderr",
     "output_type": "stream",
     "text": [
      "100%|███████████████████████████████████████████████████████████████████████████████████| 16/16 [15:35<00:00, 58.46s/it]\n"
     ]
    },
    {
     "name": "stdout",
     "output_type": "stream",
     "text": [
      "Ep: 173, time: 973.9865254249889, train: 0.301688726991415, valid: 0.3538089692592621\n"
     ]
    },
    {
     "name": "stderr",
     "output_type": "stream",
     "text": [
      "100%|███████████████████████████████████████████████████████████████████████████████████| 16/16 [15:37<00:00, 58.58s/it]\n"
     ]
    },
    {
     "name": "stdout",
     "output_type": "stream",
     "text": [
      "Ep: 174, time: 975.9715600030031, train: 0.3255074881017208, valid: 0.32172489166259766\n"
     ]
    },
    {
     "name": "stderr",
     "output_type": "stream",
     "text": [
      "100%|███████████████████████████████████████████████████████████████████████████████████| 16/16 [15:42<00:00, 58.91s/it]\n"
     ]
    },
    {
     "name": "stdout",
     "output_type": "stream",
     "text": [
      "Ep: 175, time: 982.8007925900165, train: 0.3019368574023247, valid: 0.29723915457725525\n"
     ]
    },
    {
     "name": "stderr",
     "output_type": "stream",
     "text": [
      "100%|███████████████████████████████████████████████████████████████████████████████████| 16/16 [15:38<00:00, 58.68s/it]\n"
     ]
    },
    {
     "name": "stdout",
     "output_type": "stream",
     "text": [
      "Ep: 176, time: 978.2338546689134, train: 0.28854557126760483, valid: 0.3121999204158783\n"
     ]
    },
    {
     "name": "stderr",
     "output_type": "stream",
     "text": [
      "100%|███████████████████████████████████████████████████████████████████████████████████| 16/16 [15:25<00:00, 57.85s/it]\n"
     ]
    },
    {
     "name": "stdout",
     "output_type": "stream",
     "text": [
      "Ep: 177, time: 964.0792633742094, train: 0.2817530781030655, valid: 0.2903392016887665\n"
     ]
    },
    {
     "name": "stderr",
     "output_type": "stream",
     "text": [
      "100%|███████████████████████████████████████████████████████████████████████████████████| 16/16 [15:27<00:00, 57.99s/it]\n"
     ]
    },
    {
     "name": "stdout",
     "output_type": "stream",
     "text": [
      "Ep: 178, time: 966.9086918400135, train: 0.27297751419246197, valid: 0.28322434425354004\n"
     ]
    },
    {
     "name": "stderr",
     "output_type": "stream",
     "text": [
      "100%|███████████████████████████████████████████████████████████████████████████████████| 16/16 [15:21<00:00, 57.57s/it]\n"
     ]
    },
    {
     "name": "stdout",
     "output_type": "stream",
     "text": [
      "Ep: 179, time: 959.5266765761189, train: 0.2710457844659686, valid: 0.29738643765449524\n"
     ]
    },
    {
     "name": "stderr",
     "output_type": "stream",
     "text": [
      "100%|███████████████████████████████████████████████████████████████████████████████████| 16/16 [15:28<00:00, 58.02s/it]\n"
     ]
    },
    {
     "name": "stdout",
     "output_type": "stream",
     "text": [
      "Ep: 180, time: 966.9823942598887, train: 0.2791686747223139, valid: 0.2984934151172638\n"
     ]
    },
    {
     "name": "stderr",
     "output_type": "stream",
     "text": [
      "100%|███████████████████████████████████████████████████████████████████████████████████| 16/16 [15:29<00:00, 58.08s/it]\n"
     ]
    },
    {
     "name": "stdout",
     "output_type": "stream",
     "text": [
      "Ep: 181, time: 967.8482025370467, train: 0.30875869654119015, valid: 0.3480662405490875\n"
     ]
    },
    {
     "name": "stderr",
     "output_type": "stream",
     "text": [
      "100%|███████████████████████████████████████████████████████████████████████████████████| 16/16 [14:03<00:00, 52.70s/it]\n"
     ]
    },
    {
     "name": "stdout",
     "output_type": "stream",
     "text": [
      "Ep: 195, time: 878.6197642970365, train: 0.27917670365422964, valid: 0.2925429046154022\n"
     ]
    },
    {
     "name": "stderr",
     "output_type": "stream",
     "text": [
      "100%|███████████████████████████████████████████████████████████████████████████████████| 16/16 [14:10<00:00, 53.16s/it]\n"
     ]
    },
    {
     "name": "stdout",
     "output_type": "stream",
     "text": [
      "Ep: 196, time: 885.4991416588891, train: 0.30380379781126976, valid: 0.3706941604614258\n"
     ]
    },
    {
     "name": "stderr",
     "output_type": "stream",
     "text": [
      "100%|███████████████████████████████████████████████████████████████████████████████████| 16/16 [14:15<00:00, 53.47s/it]\n"
     ]
    },
    {
     "name": "stdout",
     "output_type": "stream",
     "text": [
      "Ep: 197, time: 889.9805253299419, train: 0.2841350818052888, valid: 0.28148922324180603\n"
     ]
    },
    {
     "name": "stderr",
     "output_type": "stream",
     "text": [
      "100%|███████████████████████████████████████████████████████████████████████████████████| 16/16 [13:59<00:00, 52.48s/it]\n"
     ]
    },
    {
     "name": "stdout",
     "output_type": "stream",
     "text": [
      "Ep: 198, time: 874.5818772020284, train: 0.2703281454741955, valid: 0.292066365480423\n"
     ]
    },
    {
     "name": "stderr",
     "output_type": "stream",
     "text": [
      "100%|███████████████████████████████████████████████████████████████████████████████████| 16/16 [14:02<00:00, 52.68s/it]\n"
     ]
    },
    {
     "name": "stdout",
     "output_type": "stream",
     "text": [
      "Ep: 199, time: 878.7137962270062, train: 0.28376845456659794, valid: 0.2930419445037842\n"
     ]
    },
    {
     "name": "stderr",
     "output_type": "stream",
     "text": [
      "100%|███████████████████████████████████████████████████████████████████████████████████| 16/16 [14:45<00:00, 55.33s/it]\n"
     ]
    },
    {
     "name": "stdout",
     "output_type": "stream",
     "text": [
      "Ep: 200, time: 923.7234415060375, train: 0.28242160752415657, valid: 0.29365476965904236\n"
     ]
    },
    {
     "name": "stderr",
     "output_type": "stream",
     "text": [
      "100%|███████████████████████████████████████████████████████████████████████████████████| 16/16 [14:26<00:00, 54.13s/it]\n"
     ]
    },
    {
     "name": "stdout",
     "output_type": "stream",
     "text": [
      "Ep: 201, time: 901.6184103470296, train: 0.27201440930366516, valid: 0.2771890163421631\n"
     ]
    },
    {
     "name": "stderr",
     "output_type": "stream",
     "text": [
      "100%|███████████████████████████████████████████████████████████████████████████████████| 16/16 [14:33<00:00, 54.60s/it]\n"
     ]
    },
    {
     "name": "stdout",
     "output_type": "stream",
     "text": [
      "Ep: 202, time: 910.1556315610651, train: 0.26675079576671124, valid: 0.27493998408317566\n"
     ]
    },
    {
     "name": "stderr",
     "output_type": "stream",
     "text": [
      "100%|███████████████████████████████████████████████████████████████████████████████████| 16/16 [14:36<00:00, 54.75s/it]\n"
     ]
    },
    {
     "name": "stdout",
     "output_type": "stream",
     "text": [
      "Ep: 203, time: 917.5760948620737, train: 0.27039395831525326, valid: 0.29156041145324707\n"
     ]
    },
    {
     "name": "stderr",
     "output_type": "stream",
     "text": [
      "100%|███████████████████████████████████████████████████████████████████████████████████| 16/16 [15:04<00:00, 56.55s/it]\n"
     ]
    },
    {
     "name": "stdout",
     "output_type": "stream",
     "text": [
      "Ep: 204, time: 940.0817500799894, train: 0.2796113919466734, valid: 0.2848880887031555\n"
     ]
    },
    {
     "name": "stderr",
     "output_type": "stream",
     "text": [
      "100%|███████████████████████████████████████████████████████████████████████████████████| 16/16 [16:25<00:00, 61.57s/it]\n"
     ]
    },
    {
     "name": "stdout",
     "output_type": "stream",
     "text": [
      "Ep: 205, time: 1037.505509467097, train: 0.2603939324617386, valid: 0.26480045914649963\n"
     ]
    },
    {
     "name": "stderr",
     "output_type": "stream",
     "text": [
      "100%|███████████████████████████████████████████████████████████████████████████████████| 16/16 [17:10<00:00, 64.42s/it]\n"
     ]
    },
    {
     "name": "stdout",
     "output_type": "stream",
     "text": [
      "Ep: 206, time: 1068.4686603720766, train: 0.2539154216647148, valid: 0.2716931700706482\n"
     ]
    },
    {
     "name": "stderr",
     "output_type": "stream",
     "text": [
      "100%|███████████████████████████████████████████████████████████████████████████████████| 16/16 [15:18<00:00, 57.42s/it]\n"
     ]
    },
    {
     "name": "stdout",
     "output_type": "stream",
     "text": [
      "Ep: 207, time: 958.0657517299987, train: 0.25402150582522154, valid: 0.25778478384017944\n"
     ]
    },
    {
     "name": "stderr",
     "output_type": "stream",
     "text": [
      "100%|███████████████████████████████████████████████████████████████████████████████████| 16/16 [17:01<00:00, 63.83s/it]\n"
     ]
    },
    {
     "name": "stdout",
     "output_type": "stream",
     "text": [
      "Ep: 208, time: 1064.9643032900058, train: 0.2572664963081479, valid: 0.26211783289909363\n"
     ]
    },
    {
     "name": "stderr",
     "output_type": "stream",
     "text": [
      "100%|███████████████████████████████████████████████████████████████████████████████████| 16/16 [17:20<00:00, 65.01s/it]\n"
     ]
    },
    {
     "name": "stdout",
     "output_type": "stream",
     "text": [
      "Ep: 209, time: 1082.877927836962, train: 0.2593116769567132, valid: 0.2699846923351288\n"
     ]
    },
    {
     "name": "stderr",
     "output_type": "stream",
     "text": [
      "100%|███████████████████████████████████████████████████████████████████████████████████| 16/16 [17:33<00:00, 65.83s/it]\n"
     ]
    },
    {
     "name": "stdout",
     "output_type": "stream",
     "text": [
      "Ep: 210, time: 1096.5792142909486, train: 0.27282663341611624, valid: 0.2693541944026947\n"
     ]
    },
    {
     "name": "stderr",
     "output_type": "stream",
     "text": [
      "100%|███████████████████████████████████████████████████████████████████████████████████| 16/16 [18:31<00:00, 69.47s/it]\n"
     ]
    },
    {
     "name": "stdout",
     "output_type": "stream",
     "text": [
      "Ep: 211, time: 1169.5303386091255, train: 0.28722963761538267, valid: 0.2833668887615204\n"
     ]
    },
    {
     "name": "stderr",
     "output_type": "stream",
     "text": [
      "100%|███████████████████████████████████████████████████████████████████████████████████| 16/16 [22:19<00:00, 83.70s/it]\n"
     ]
    },
    {
     "name": "stdout",
     "output_type": "stream",
     "text": [
      "Ep: 212, time: 1393.8126540549565, train: 0.269935242831707, valid: 0.2807027995586395\n"
     ]
    },
    {
     "name": "stderr",
     "output_type": "stream",
     "text": [
      "100%|███████████████████████████████████████████████████████████████████████████████████| 16/16 [21:56<00:00, 82.28s/it]\n"
     ]
    },
    {
     "name": "stdout",
     "output_type": "stream",
     "text": [
      "Ep: 213, time: 1368.2414898418356, train: 0.2559644663706422, valid: 0.252882719039917\n"
     ]
    },
    {
     "name": "stderr",
     "output_type": "stream",
     "text": [
      "100%|███████████████████████████████████████████████████████████████████████████████████| 16/16 [21:35<00:00, 80.99s/it]\n"
     ]
    },
    {
     "name": "stdout",
     "output_type": "stream",
     "text": [
      "Ep: 214, time: 1348.6501507349312, train: 0.2532300865277648, valid: 0.31442931294441223\n"
     ]
    },
    {
     "name": "stderr",
     "output_type": "stream",
     "text": [
      "100%|███████████████████████████████████████████████████████████████████████████████████| 16/16 [21:06<00:00, 79.17s/it]\n"
     ]
    },
    {
     "name": "stdout",
     "output_type": "stream",
     "text": [
      "Ep: 215, time: 1320.3253901600838, train: 0.25282647740095854, valid: 0.25355520844459534\n"
     ]
    },
    {
     "name": "stderr",
     "output_type": "stream",
     "text": [
      "100%|███████████████████████████████████████████████████████████████████████████████████| 16/16 [21:50<00:00, 81.88s/it]\n"
     ]
    },
    {
     "name": "stdout",
     "output_type": "stream",
     "text": [
      "Ep: 216, time: 1363.9820562528912, train: 0.2465083934366703, valid: 0.25251004099845886\n"
     ]
    },
    {
     "name": "stderr",
     "output_type": "stream",
     "text": [
      "100%|███████████████████████████████████████████████████████████████████████████████████| 16/16 [20:27<00:00, 76.72s/it]\n"
     ]
    },
    {
     "name": "stdout",
     "output_type": "stream",
     "text": [
      "Ep: 217, time: 1277.3706459430978, train: 0.24936122354120016, valid: 0.2553690969944\n"
     ]
    },
    {
     "name": "stderr",
     "output_type": "stream",
     "text": [
      "100%|███████████████████████████████████████████████████████████████████████████████████| 16/16 [15:03<00:00, 56.47s/it]\n"
     ]
    },
    {
     "name": "stdout",
     "output_type": "stream",
     "text": [
      "Ep: 218, time: 946.3955668879207, train: 0.24692383874207735, valid: 0.26306864619255066\n"
     ]
    },
    {
     "name": "stderr",
     "output_type": "stream",
     "text": [
      "100%|███████████████████████████████████████████████████████████████████████████████████| 16/16 [15:02<00:00, 56.41s/it]\n"
     ]
    },
    {
     "name": "stdout",
     "output_type": "stream",
     "text": [
      "Ep: 219, time: 941.9444665850606, train: 0.2595282904803753, valid: 0.27730217576026917\n"
     ]
    },
    {
     "name": "stderr",
     "output_type": "stream",
     "text": [
      "100%|███████████████████████████████████████████████████████████████████████████████████| 16/16 [17:36<00:00, 66.05s/it]\n"
     ]
    },
    {
     "name": "stdout",
     "output_type": "stream",
     "text": [
      "Ep: 220, time: 1093.4330566760618, train: 0.27272803243249655, valid: 0.28923746943473816\n"
     ]
    },
    {
     "name": "stderr",
     "output_type": "stream",
     "text": [
      "100%|███████████████████████████████████████████████████████████████████████████████████| 16/16 [15:07<00:00, 56.72s/it]\n"
     ]
    },
    {
     "name": "stdout",
     "output_type": "stream",
     "text": [
      "Ep: 221, time: 945.1224776299205, train: 0.2634612312540412, valid: 0.26454734802246094\n"
     ]
    },
    {
     "name": "stderr",
     "output_type": "stream",
     "text": [
      "100%|███████████████████████████████████████████████████████████████████████████████████| 16/16 [14:43<00:00, 55.24s/it]\n"
     ]
    },
    {
     "name": "stdout",
     "output_type": "stream",
     "text": [
      "Ep: 222, time: 921.6896628830582, train: 0.2724842596799135, valid: 0.2721630036830902\n"
     ]
    },
    {
     "name": "stderr",
     "output_type": "stream",
     "text": [
      "100%|███████████████████████████████████████████████████████████████████████████████████| 16/16 [14:46<00:00, 55.42s/it]\n"
     ]
    },
    {
     "name": "stdout",
     "output_type": "stream",
     "text": [
      "Ep: 223, time: 925.9432391889859, train: 0.2690084045752883, valid: 0.30267560482025146\n"
     ]
    },
    {
     "name": "stderr",
     "output_type": "stream",
     "text": [
      "100%|███████████████████████████████████████████████████████████████████████████████████| 16/16 [14:56<00:00, 56.00s/it]\n"
     ]
    },
    {
     "name": "stdout",
     "output_type": "stream",
     "text": [
      "Ep: 224, time: 933.6413725651801, train: 0.2590690329670906, valid: 0.2647324502468109\n"
     ]
    },
    {
     "name": "stderr",
     "output_type": "stream",
     "text": [
      "100%|███████████████████████████████████████████████████████████████████████████████████| 16/16 [18:53<00:00, 70.83s/it]\n"
     ]
    },
    {
     "name": "stdout",
     "output_type": "stream",
     "text": [
      "Ep: 225, time: 1187.8373881541193, train: 0.24479565303772688, valid: 0.24469392001628876\n"
     ]
    },
    {
     "name": "stderr",
     "output_type": "stream",
     "text": [
      "100%|███████████████████████████████████████████████████████████████████████████████████| 16/16 [21:13<00:00, 79.57s/it]\n"
     ]
    },
    {
     "name": "stdout",
     "output_type": "stream",
     "text": [
      "Ep: 226, time: 1327.2354429210536, train: 0.23822003323584795, valid: 0.2446720004081726\n"
     ]
    },
    {
     "name": "stderr",
     "output_type": "stream",
     "text": [
      "100%|███████████████████████████████████████████████████████████████████████████████████| 16/16 [21:50<00:00, 81.88s/it]\n"
     ]
    },
    {
     "name": "stdout",
     "output_type": "stream",
     "text": [
      "Ep: 227, time: 1365.4451238329057, train: 0.24618088826537132, valid: 0.26483821868896484\n"
     ]
    },
    {
     "name": "stderr",
     "output_type": "stream",
     "text": [
      "100%|███████████████████████████████████████████████████████████████████████████████████| 16/16 [21:26<00:00, 80.44s/it]\n"
     ]
    },
    {
     "name": "stdout",
     "output_type": "stream",
     "text": [
      "Ep: 228, time: 1338.5246066709515, train: 0.2510159267112613, valid: 0.2590750753879547\n"
     ]
    },
    {
     "name": "stderr",
     "output_type": "stream",
     "text": [
      "100%|███████████████████████████████████████████████████████████████████████████████████| 16/16 [20:36<00:00, 77.27s/it]\n"
     ]
    },
    {
     "name": "stdout",
     "output_type": "stream",
     "text": [
      "Ep: 229, time: 1288.9280896550044, train: 0.25233318004757166, valid: 0.26219412684440613\n"
     ]
    },
    {
     "name": "stderr",
     "output_type": "stream",
     "text": [
      "100%|███████████████████████████████████████████████████████████████████████████████████| 16/16 [21:01<00:00, 78.85s/it]\n"
     ]
    },
    {
     "name": "stdout",
     "output_type": "stream",
     "text": [
      "Ep: 230, time: 1313.5472683669068, train: 0.24308415595442057, valid: 0.2507905066013336\n"
     ]
    },
    {
     "name": "stderr",
     "output_type": "stream",
     "text": [
      "100%|███████████████████████████████████████████████████████████████████████████████████| 16/16 [21:44<00:00, 81.51s/it]\n"
     ]
    },
    {
     "name": "stdout",
     "output_type": "stream",
     "text": [
      "Ep: 231, time: 1358.8871566809248, train: 0.2447205614298582, valid: 0.26372504234313965\n"
     ]
    },
    {
     "name": "stderr",
     "output_type": "stream",
     "text": [
      "100%|███████████████████████████████████████████████████████████████████████████████████| 16/16 [20:11<00:00, 75.69s/it]\n"
     ]
    },
    {
     "name": "stdout",
     "output_type": "stream",
     "text": [
      "Ep: 232, time: 1259.447680747835, train: 0.25661854818463326, valid: 0.2757915258407593\n"
     ]
    },
    {
     "name": "stderr",
     "output_type": "stream",
     "text": [
      "100%|███████████████████████████████████████████████████████████████████████████████████| 16/16 [20:09<00:00, 75.58s/it]\n"
     ]
    },
    {
     "name": "stdout",
     "output_type": "stream",
     "text": [
      "Ep: 233, time: 1260.4407522729598, train: 0.2704827906563878, valid: 0.27612045407295227\n"
     ]
    },
    {
     "name": "stderr",
     "output_type": "stream",
     "text": [
      "100%|███████████████████████████████████████████████████████████████████████████████████| 16/16 [19:58<00:00, 74.92s/it]\n"
     ]
    },
    {
     "name": "stdout",
     "output_type": "stream",
     "text": [
      "Ep: 234, time: 1249.2708230931312, train: 0.2799764545634389, valid: 0.3087766468524933\n"
     ]
    },
    {
     "name": "stderr",
     "output_type": "stream",
     "text": [
      "100%|███████████████████████████████████████████████████████████████████████████████████| 16/16 [19:44<00:00, 74.00s/it]\n"
     ]
    },
    {
     "name": "stdout",
     "output_type": "stream",
     "text": [
      "Ep: 235, time: 1233.7052614660934, train: 0.2909225346520543, valid: 0.27786290645599365\n"
     ]
    },
    {
     "name": "stderr",
     "output_type": "stream",
     "text": [
      "100%|███████████████████████████████████████████████████████████████████████████████████| 16/16 [19:58<00:00, 74.88s/it]\n"
     ]
    },
    {
     "name": "stdout",
     "output_type": "stream",
     "text": [
      "Ep: 236, time: 1247.8489462661091, train: 0.26965286768972874, valid: 0.2688903212547302\n"
     ]
    },
    {
     "name": "stderr",
     "output_type": "stream",
     "text": [
      "100%|███████████████████████████████████████████████████████████████████████████████████| 16/16 [21:01<00:00, 78.87s/it]\n"
     ]
    },
    {
     "name": "stdout",
     "output_type": "stream",
     "text": [
      "Ep: 237, time: 1315.104675092036, train: 0.25724240578711033, valid: 0.2556743025779724\n"
     ]
    },
    {
     "name": "stderr",
     "output_type": "stream",
     "text": [
      "100%|███████████████████████████████████████████████████████████████████████████████████| 16/16 [19:42<00:00, 73.91s/it]\n"
     ]
    },
    {
     "name": "stdout",
     "output_type": "stream",
     "text": [
      "Ep: 238, time: 1231.2245979108848, train: 0.24335277453064919, valid: 0.24808812141418457\n"
     ]
    },
    {
     "name": "stderr",
     "output_type": "stream",
     "text": [
      "100%|███████████████████████████████████████████████████████████████████████████████████| 16/16 [17:50<00:00, 66.93s/it]\n"
     ]
    },
    {
     "name": "stdout",
     "output_type": "stream",
     "text": [
      "Ep: 239, time: 1107.4134994030464, train: 0.23465944081544876, valid: 0.23985524475574493\n"
     ]
    },
    {
     "name": "stderr",
     "output_type": "stream",
     "text": [
      "100%|███████████████████████████████████████████████████████████████████████████████████| 16/16 [17:23<00:00, 65.21s/it]\n"
     ]
    },
    {
     "name": "stdout",
     "output_type": "stream",
     "text": [
      "Ep: 240, time: 1097.0555847068317, train: 0.23248720448464155, valid: 0.236839160323143\n"
     ]
    },
    {
     "name": "stderr",
     "output_type": "stream",
     "text": [
      "100%|███████████████████████████████████████████████████████████████████████████████████| 16/16 [19:58<00:00, 74.91s/it]\n"
     ]
    },
    {
     "name": "stdout",
     "output_type": "stream",
     "text": [
      "Ep: 241, time: 1249.0101973707788, train: 0.23169446364045143, valid: 0.2382514923810959\n"
     ]
    },
    {
     "name": "stderr",
     "output_type": "stream",
     "text": [
      "100%|███████████████████████████████████████████████████████████████████████████████████| 16/16 [20:19<00:00, 76.20s/it]\n"
     ]
    },
    {
     "name": "stdout",
     "output_type": "stream",
     "text": [
      "Ep: 242, time: 1270.2169651850127, train: 0.23170957155525684, valid: 0.24350327253341675\n"
     ]
    },
    {
     "name": "stderr",
     "output_type": "stream",
     "text": [
      "100%|███████████████████████████████████████████████████████████████████████████████████| 16/16 [15:23<00:00, 57.72s/it]\n"
     ]
    },
    {
     "name": "stdout",
     "output_type": "stream",
     "text": [
      "Ep: 243, time: 959.2161999570671, train: 0.2315713930875063, valid: 0.2509830892086029\n"
     ]
    },
    {
     "name": "stderr",
     "output_type": "stream",
     "text": [
      "100%|███████████████████████████████████████████████████████████████████████████████████| 16/16 [14:53<00:00, 55.84s/it]\n"
     ]
    },
    {
     "name": "stdout",
     "output_type": "stream",
     "text": [
      "Ep: 244, time: 930.0187617610209, train: 0.23321683891117573, valid: 0.2353007197380066\n"
     ]
    },
    {
     "name": "stderr",
     "output_type": "stream",
     "text": [
      "100%|███████████████████████████████████████████████████████████████████████████████████| 16/16 [15:01<00:00, 56.35s/it]\n"
     ]
    },
    {
     "name": "stdout",
     "output_type": "stream",
     "text": [
      "Ep: 245, time: 939.3020388281438, train: 0.23212572745978832, valid: 0.2384086400270462\n"
     ]
    },
    {
     "name": "stderr",
     "output_type": "stream",
     "text": [
      "100%|███████████████████████████████████████████████████████████████████████████████████| 16/16 [14:43<00:00, 55.20s/it]\n"
     ]
    },
    {
     "name": "stdout",
     "output_type": "stream",
     "text": [
      "Ep: 246, time: 922.5708684250712, train: 0.2375467997044325, valid: 0.23681579530239105\n"
     ]
    },
    {
     "name": "stderr",
     "output_type": "stream",
     "text": [
      "100%|███████████████████████████████████████████████████████████████████████████████████| 16/16 [14:54<00:00, 55.90s/it]\n"
     ]
    },
    {
     "name": "stdout",
     "output_type": "stream",
     "text": [
      "Ep: 247, time: 930.3112610860262, train: 0.24386728461831808, valid: 0.2443869560956955\n"
     ]
    },
    {
     "name": "stderr",
     "output_type": "stream",
     "text": [
      "100%|███████████████████████████████████████████████████████████████████████████████████| 16/16 [14:39<00:00, 54.94s/it]\n"
     ]
    },
    {
     "name": "stdout",
     "output_type": "stream",
     "text": [
      "Ep: 248, time: 916.560904439073, train: 0.23967164289206266, valid: 0.24553044140338898\n"
     ]
    },
    {
     "name": "stderr",
     "output_type": "stream",
     "text": [
      "100%|███████████████████████████████████████████████████████████████████████████████████| 16/16 [15:16<00:00, 57.26s/it]\n"
     ]
    },
    {
     "name": "stdout",
     "output_type": "stream",
     "text": [
      "Ep: 249, time: 952.829197407933, train: 0.23391379043459892, valid: 0.2457634061574936\n"
     ]
    },
    {
     "name": "stderr",
     "output_type": "stream",
     "text": [
      "100%|███████████████████████████████████████████████████████████████████████████████████| 16/16 [14:58<00:00, 56.17s/it]\n"
     ]
    },
    {
     "name": "stdout",
     "output_type": "stream",
     "text": [
      "Ep: 250, time: 934.8605018730741, train: 0.23394509498029947, valid: 0.24267689883708954\n"
     ]
    },
    {
     "name": "stderr",
     "output_type": "stream",
     "text": [
      "100%|███████████████████████████████████████████████████████████████████████████████████| 16/16 [14:34<00:00, 54.67s/it]\n"
     ]
    },
    {
     "name": "stdout",
     "output_type": "stream",
     "text": [
      "Ep: 251, time: 910.2090353991371, train: 0.24204023089259863, valid: 0.23753148317337036\n"
     ]
    },
    {
     "name": "stderr",
     "output_type": "stream",
     "text": [
      "100%|███████████████████████████████████████████████████████████████████████████████████| 16/16 [14:15<00:00, 53.46s/it]\n"
     ]
    },
    {
     "name": "stdout",
     "output_type": "stream",
     "text": [
      "Ep: 252, time: 891.5299604139291, train: 0.23893734253942966, valid: 0.23883919417858124\n"
     ]
    },
    {
     "name": "stderr",
     "output_type": "stream",
     "text": [
      "100%|███████████████████████████████████████████████████████████████████████████████████| 16/16 [14:04<00:00, 52.80s/it]\n"
     ]
    },
    {
     "name": "stdout",
     "output_type": "stream",
     "text": [
      "Ep: 253, time: 880.2394980730023, train: 0.2314786845818162, valid: 0.24292074143886566\n"
     ]
    },
    {
     "name": "stderr",
     "output_type": "stream",
     "text": [
      "100%|███████████████████████████████████████████████████████████████████████████████████| 16/16 [14:13<00:00, 53.37s/it]\n"
     ]
    },
    {
     "name": "stdout",
     "output_type": "stream",
     "text": [
      "Ep: 254, time: 888.5784252248704, train: 0.2353074112907052, valid: 0.256628155708313\n"
     ]
    },
    {
     "name": "stderr",
     "output_type": "stream",
     "text": [
      "100%|███████████████████████████████████████████████████████████████████████████████████| 16/16 [14:08<00:00, 53.01s/it]\n"
     ]
    },
    {
     "name": "stdout",
     "output_type": "stream",
     "text": [
      "Ep: 255, time: 884.1772371579427, train: 0.24545504804700613, valid: 0.23907838761806488\n"
     ]
    },
    {
     "name": "stderr",
     "output_type": "stream",
     "text": [
      "100%|███████████████████████████████████████████████████████████████████████████████████| 16/16 [14:33<00:00, 54.58s/it]\n"
     ]
    },
    {
     "name": "stdout",
     "output_type": "stream",
     "text": [
      "Ep: 256, time: 909.6471669380553, train: 0.23431103862822056, valid: 0.2364262342453003\n"
     ]
    },
    {
     "name": "stderr",
     "output_type": "stream",
     "text": [
      "100%|███████████████████████████████████████████████████████████████████████████████████| 16/16 [14:18<00:00, 53.64s/it]\n"
     ]
    },
    {
     "name": "stdout",
     "output_type": "stream",
     "text": [
      "Ep: 257, time: 892.796674615005, train: 0.22794615849852562, valid: 0.23743242025375366\n"
     ]
    },
    {
     "name": "stderr",
     "output_type": "stream",
     "text": [
      "100%|███████████████████████████████████████████████████████████████████████████████████| 16/16 [14:08<00:00, 53.02s/it]\n"
     ]
    },
    {
     "name": "stdout",
     "output_type": "stream",
     "text": [
      "Ep: 258, time: 883.8171383310109, train: 0.232742827385664, valid: 0.26006704568862915\n"
     ]
    },
    {
     "name": "stderr",
     "output_type": "stream",
     "text": [
      "100%|███████████████████████████████████████████████████████████████████████████████████| 16/16 [14:06<00:00, 52.88s/it]\n"
     ]
    },
    {
     "name": "stdout",
     "output_type": "stream",
     "text": [
      "Ep: 259, time: 881.3875997329596, train: 0.23467940837144852, valid: 0.24017976224422455\n"
     ]
    },
    {
     "name": "stderr",
     "output_type": "stream",
     "text": [
      "100%|███████████████████████████████████████████████████████████████████████████████████| 16/16 [14:39<00:00, 54.94s/it]\n"
     ]
    },
    {
     "name": "stdout",
     "output_type": "stream",
     "text": [
      "Ep: 260, time: 914.2915239019785, train: 0.23365452885627747, valid: 0.2312852144241333\n"
     ]
    },
    {
     "name": "stderr",
     "output_type": "stream",
     "text": [
      "100%|███████████████████████████████████████████████████████████████████████████████████| 16/16 [14:38<00:00, 54.93s/it]\n"
     ]
    },
    {
     "name": "stdout",
     "output_type": "stream",
     "text": [
      "Ep: 261, time: 914.6984469771851, train: 0.24319574236869812, valid: 0.24334490299224854\n"
     ]
    },
    {
     "name": "stderr",
     "output_type": "stream",
     "text": [
      "100%|███████████████████████████████████████████████████████████████████████████████████| 16/16 [14:32<00:00, 54.56s/it]\n"
     ]
    },
    {
     "name": "stdout",
     "output_type": "stream",
     "text": [
      "Ep: 262, time: 908.1574044600129, train: 0.246449857018888, valid: 0.26887691020965576\n"
     ]
    },
    {
     "name": "stderr",
     "output_type": "stream",
     "text": [
      "100%|███████████████████████████████████████████████████████████████████████████████████| 16/16 [14:24<00:00, 54.04s/it]\n"
     ]
    },
    {
     "name": "stdout",
     "output_type": "stream",
     "text": [
      "Ep: 263, time: 900.8759630338755, train: 0.25300957541912794, valid: 0.25138476490974426\n"
     ]
    },
    {
     "name": "stderr",
     "output_type": "stream",
     "text": [
      "100%|███████████████████████████████████████████████████████████████████████████████████| 16/16 [14:34<00:00, 54.67s/it]\n"
     ]
    },
    {
     "name": "stdout",
     "output_type": "stream",
     "text": [
      "Ep: 264, time: 914.4687418839894, train: 0.24050853122025728, valid: 0.2466236799955368\n"
     ]
    },
    {
     "name": "stderr",
     "output_type": "stream",
     "text": [
      "100%|███████████████████████████████████████████████████████████████████████████████████| 16/16 [14:12<00:00, 53.27s/it]\n"
     ]
    },
    {
     "name": "stdout",
     "output_type": "stream",
     "text": [
      "Ep: 265, time: 887.7313956271391, train: 0.2387019032612443, valid: 0.2388550043106079\n"
     ]
    },
    {
     "name": "stderr",
     "output_type": "stream",
     "text": [
      "100%|███████████████████████████████████████████████████████████████████████████████████| 16/16 [14:06<00:00, 52.90s/it]\n"
     ]
    },
    {
     "name": "stdout",
     "output_type": "stream",
     "text": [
      "Ep: 266, time: 882.2864623588976, train: 0.23151016607880592, valid: 0.23887372016906738\n"
     ]
    },
    {
     "name": "stderr",
     "output_type": "stream",
     "text": [
      "100%|███████████████████████████████████████████████████████████████████████████████████| 16/16 [14:02<00:00, 52.69s/it]\n"
     ]
    },
    {
     "name": "stdout",
     "output_type": "stream",
     "text": [
      "Ep: 267, time: 878.8190981498919, train: 0.23245613370090723, valid: 0.23588986694812775\n"
     ]
    },
    {
     "name": "stderr",
     "output_type": "stream",
     "text": [
      "100%|███████████████████████████████████████████████████████████████████████████████████| 16/16 [14:11<00:00, 53.25s/it]\n"
     ]
    },
    {
     "name": "stdout",
     "output_type": "stream",
     "text": [
      "Ep: 268, time: 887.170135761844, train: 0.22899859119206667, valid: 0.23822017014026642\n"
     ]
    },
    {
     "name": "stderr",
     "output_type": "stream",
     "text": [
      "100%|███████████████████████████████████████████████████████████████████████████████████| 16/16 [14:35<00:00, 54.72s/it]\n"
     ]
    },
    {
     "name": "stdout",
     "output_type": "stream",
     "text": [
      "Ep: 269, time: 912.8210496159736, train: 0.22909784503281116, valid: 0.22885622084140778\n"
     ]
    },
    {
     "name": "stderr",
     "output_type": "stream",
     "text": [
      "100%|███████████████████████████████████████████████████████████████████████████████████| 16/16 [14:57<00:00, 56.08s/it]\n"
     ]
    },
    {
     "name": "stdout",
     "output_type": "stream",
     "text": [
      "Ep: 270, time: 935.1777288320009, train: 0.2292234944179654, valid: 0.2294539362192154\n"
     ]
    },
    {
     "name": "stderr",
     "output_type": "stream",
     "text": [
      "100%|███████████████████████████████████████████████████████████████████████████████████| 16/16 [14:43<00:00, 55.24s/it]\n"
     ]
    },
    {
     "name": "stdout",
     "output_type": "stream",
     "text": [
      "Ep: 271, time: 922.3261773050763, train: 0.22817105241119862, valid: 0.23992206156253815\n"
     ]
    },
    {
     "name": "stderr",
     "output_type": "stream",
     "text": [
      "100%|███████████████████████████████████████████████████████████████████████████████████| 16/16 [15:02<00:00, 56.40s/it]\n"
     ]
    },
    {
     "name": "stdout",
     "output_type": "stream",
     "text": [
      "Ep: 272, time: 940.4888362488709, train: 0.2292720228433609, valid: 0.2509700357913971\n"
     ]
    },
    {
     "name": "stderr",
     "output_type": "stream",
     "text": [
      "100%|███████████████████████████████████████████████████████████████████████████████████| 16/16 [14:52<00:00, 55.79s/it]\n"
     ]
    },
    {
     "name": "stdout",
     "output_type": "stream",
     "text": [
      "Ep: 273, time: 931.4013489719946, train: 0.22726948373019695, valid: 0.22887931764125824\n"
     ]
    },
    {
     "name": "stderr",
     "output_type": "stream",
     "text": [
      "100%|███████████████████████████████████████████████████████████████████████████████████| 16/16 [15:17<00:00, 57.34s/it]\n"
     ]
    },
    {
     "name": "stdout",
     "output_type": "stream",
     "text": [
      "Ep: 274, time: 953.5093214311637, train: 0.22678595315665007, valid: 0.24285101890563965\n"
     ]
    },
    {
     "name": "stderr",
     "output_type": "stream",
     "text": [
      "100%|███████████████████████████████████████████████████████████████████████████████████| 16/16 [14:57<00:00, 56.10s/it]\n"
     ]
    },
    {
     "name": "stdout",
     "output_type": "stream",
     "text": [
      "Ep: 275, time: 933.8794253780507, train: 0.22781583201140165, valid: 0.24424833059310913\n"
     ]
    },
    {
     "name": "stderr",
     "output_type": "stream",
     "text": [
      "100%|███████████████████████████████████████████████████████████████████████████████████| 16/16 [14:52<00:00, 55.78s/it]\n"
     ]
    },
    {
     "name": "stdout",
     "output_type": "stream",
     "text": [
      "Ep: 276, time: 929.392786186887, train: 0.23921132367104292, valid: 0.2414407879114151\n"
     ]
    },
    {
     "name": "stderr",
     "output_type": "stream",
     "text": [
      "100%|███████████████████████████████████████████████████████████████████████████████████| 16/16 [14:57<00:00, 56.11s/it]\n"
     ]
    },
    {
     "name": "stdout",
     "output_type": "stream",
     "text": [
      "Ep: 277, time: 935.8475991240703, train: 0.23309197835624218, valid: 0.23650699853897095\n"
     ]
    },
    {
     "name": "stderr",
     "output_type": "stream",
     "text": [
      "100%|███████████████████████████████████████████████████████████████████████████████████| 16/16 [15:22<00:00, 57.68s/it]\n"
     ]
    },
    {
     "name": "stdout",
     "output_type": "stream",
     "text": [
      "Ep: 278, time: 960.8336060920265, train: 0.22698382660746574, valid: 0.23081636428833008\n"
     ]
    },
    {
     "name": "stderr",
     "output_type": "stream",
     "text": [
      "100%|███████████████████████████████████████████████████████████████████████████████████| 16/16 [15:18<00:00, 57.43s/it]\n"
     ]
    },
    {
     "name": "stdout",
     "output_type": "stream",
     "text": [
      "Ep: 279, time: 957.5964689517859, train: 0.22458595875650644, valid: 0.2334582805633545\n"
     ]
    },
    {
     "name": "stderr",
     "output_type": "stream",
     "text": [
      "100%|███████████████████████████████████████████████████████████████████████████████████| 16/16 [15:51<00:00, 59.48s/it]\n"
     ]
    },
    {
     "name": "stdout",
     "output_type": "stream",
     "text": [
      "Ep: 280, time: 991.3866425610613, train: 0.2216819291934371, valid: 0.223466157913208\n"
     ]
    },
    {
     "name": "stderr",
     "output_type": "stream",
     "text": [
      "100%|███████████████████████████████████████████████████████████████████████████████████| 16/16 [16:28<00:00, 61.81s/it]\n"
     ]
    },
    {
     "name": "stdout",
     "output_type": "stream",
     "text": [
      "Ep: 281, time: 1027.8459488169756, train: 0.21860695537179708, valid: 0.2317008227109909\n"
     ]
    },
    {
     "name": "stderr",
     "output_type": "stream",
     "text": [
      "100%|███████████████████████████████████████████████████████████████████████████████████| 16/16 [15:40<00:00, 58.79s/it]\n"
     ]
    },
    {
     "name": "stdout",
     "output_type": "stream",
     "text": [
      "Ep: 282, time: 977.7843295428902, train: 0.22855450864881277, valid: 0.23003387451171875\n"
     ]
    },
    {
     "name": "stderr",
     "output_type": "stream",
     "text": [
      "100%|███████████████████████████████████████████████████████████████████████████████████| 16/16 [14:09<00:00, 53.07s/it]\n"
     ]
    },
    {
     "name": "stdout",
     "output_type": "stream",
     "text": [
      "Ep: 283, time: 883.6682043250185, train: 0.22635157499462366, valid: 0.23579472303390503\n"
     ]
    },
    {
     "name": "stderr",
     "output_type": "stream",
     "text": [
      "100%|███████████████████████████████████████████████████████████████████████████████████| 16/16 [14:04<00:00, 52.76s/it]\n"
     ]
    },
    {
     "name": "stdout",
     "output_type": "stream",
     "text": [
      "Ep: 284, time: 879.4283166900277, train: 0.2213568827137351, valid: 0.22175301611423492\n"
     ]
    },
    {
     "name": "stderr",
     "output_type": "stream",
     "text": [
      "100%|███████████████████████████████████████████████████████████████████████████████████| 16/16 [14:36<00:00, 54.78s/it]\n"
     ]
    },
    {
     "name": "stdout",
     "output_type": "stream",
     "text": [
      "Ep: 285, time: 931.5303404869046, train: 0.22362487763166428, valid: 0.23639743030071259\n"
     ]
    },
    {
     "name": "stderr",
     "output_type": "stream",
     "text": [
      "100%|███████████████████████████████████████████████████████████████████████████████████| 16/16 [14:55<00:00, 55.99s/it]\n"
     ]
    },
    {
     "name": "stdout",
     "output_type": "stream",
     "text": [
      "Ep: 286, time: 931.1150992789771, train: 0.22248978819698095, valid: 0.22693681716918945\n"
     ]
    },
    {
     "name": "stderr",
     "output_type": "stream",
     "text": [
      "100%|███████████████████████████████████████████████████████████████████████████████████| 16/16 [14:08<00:00, 53.01s/it]\n"
     ]
    },
    {
     "name": "stdout",
     "output_type": "stream",
     "text": [
      "Ep: 287, time: 883.8866857239045, train: 0.2284026611596346, valid: 0.2643290162086487\n"
     ]
    },
    {
     "name": "stderr",
     "output_type": "stream",
     "text": [
      "100%|███████████████████████████████████████████████████████████████████████████████████| 16/16 [14:13<00:00, 53.36s/it]\n"
     ]
    },
    {
     "name": "stdout",
     "output_type": "stream",
     "text": [
      "Ep: 288, time: 889.2331536831334, train: 0.24927946086972952, valid: 0.27189818024635315\n"
     ]
    },
    {
     "name": "stderr",
     "output_type": "stream",
     "text": [
      "100%|███████████████████████████████████████████████████████████████████████████████████| 16/16 [14:37<00:00, 54.87s/it]\n"
     ]
    },
    {
     "name": "stdout",
     "output_type": "stream",
     "text": [
      "Ep: 289, time: 913.1934531268198, train: 0.2645395491272211, valid: 0.24136270582675934\n"
     ]
    },
    {
     "name": "stderr",
     "output_type": "stream",
     "text": [
      "100%|███████████████████████████████████████████████████████████████████████████████████| 16/16 [15:03<00:00, 56.49s/it]\n"
     ]
    },
    {
     "name": "stdout",
     "output_type": "stream",
     "text": [
      "Ep: 290, time: 939.3814280810766, train: 0.24197577219456434, valid: 0.2523588240146637\n"
     ]
    },
    {
     "name": "stderr",
     "output_type": "stream",
     "text": [
      "100%|███████████████████████████████████████████████████████████████████████████████████| 16/16 [17:40<00:00, 66.31s/it]\n"
     ]
    },
    {
     "name": "stdout",
     "output_type": "stream",
     "text": [
      "Ep: 291, time: 1110.7249101500493, train: 0.22694040928035975, valid: 0.23234893381595612\n"
     ]
    },
    {
     "name": "stderr",
     "output_type": "stream",
     "text": [
      "100%|███████████████████████████████████████████████████████████████████████████████████| 16/16 [19:23<00:00, 72.71s/it]\n"
     ]
    },
    {
     "name": "stdout",
     "output_type": "stream",
     "text": [
      "Ep: 292, time: 1212.0003800301347, train: 0.21954287495464087, valid: 0.23169206082820892\n"
     ]
    },
    {
     "name": "stderr",
     "output_type": "stream",
     "text": [
      "100%|███████████████████████████████████████████████████████████████████████████████████| 16/16 [16:48<00:00, 63.04s/it]\n"
     ]
    },
    {
     "name": "stdout",
     "output_type": "stream",
     "text": [
      "Ep: 293, time: 1044.448743531946, train: 0.21627538744360209, valid: 0.2202271968126297\n"
     ]
    },
    {
     "name": "stderr",
     "output_type": "stream",
     "text": [
      "100%|███████████████████████████████████████████████████████████████████████████████████| 16/16 [15:43<00:00, 59.00s/it]\n"
     ]
    },
    {
     "name": "stdout",
     "output_type": "stream",
     "text": [
      "Ep: 294, time: 998.6422680290416, train: 0.21420819219201803, valid: 0.21346013247966766\n"
     ]
    },
    {
     "name": "stderr",
     "output_type": "stream",
     "text": [
      "100%|███████████████████████████████████████████████████████████████████████████████████| 16/16 [19:41<00:00, 73.84s/it]\n"
     ]
    },
    {
     "name": "stdout",
     "output_type": "stream",
     "text": [
      "Ep: 295, time: 1232.525413052179, train: 0.21305803209543228, valid: 0.22060684859752655\n"
     ]
    },
    {
     "name": "stderr",
     "output_type": "stream",
     "text": [
      "100%|███████████████████████████████████████████████████████████████████████████████████| 16/16 [17:06<00:00, 64.14s/it]\n"
     ]
    },
    {
     "name": "stdout",
     "output_type": "stream",
     "text": [
      "Ep: 296, time: 1062.1150600761175, train: 0.21310635656118393, valid: 0.21912281215190887\n"
     ]
    },
    {
     "name": "stderr",
     "output_type": "stream",
     "text": [
      "100%|███████████████████████████████████████████████████████████████████████████████████| 16/16 [14:27<00:00, 54.21s/it]\n"
     ]
    },
    {
     "name": "stdout",
     "output_type": "stream",
     "text": [
      "Ep: 297, time: 903.1214649798349, train: 0.21640990022569895, valid: 0.22268937528133392\n"
     ]
    },
    {
     "name": "stderr",
     "output_type": "stream",
     "text": [
      "100%|███████████████████████████████████████████████████████████████████████████████████| 16/16 [14:42<00:00, 55.14s/it]\n"
     ]
    },
    {
     "name": "stdout",
     "output_type": "stream",
     "text": [
      "Ep: 298, time: 917.7738734548911, train: 0.22732687555253506, valid: 0.23377518355846405\n"
     ]
    },
    {
     "name": "stderr",
     "output_type": "stream",
     "text": [
      "100%|███████████████████████████████████████████████████████████████████████████████████| 16/16 [14:26<00:00, 54.17s/it]\n"
     ]
    },
    {
     "name": "stdout",
     "output_type": "stream",
     "text": [
      "Ep: 299, time: 902.5486981188878, train: 0.22214847337454557, valid: 0.22060203552246094\n"
     ]
    },
    {
     "name": "stderr",
     "output_type": "stream",
     "text": [
      "100%|███████████████████████████████████████████████████████████████████████████████████| 16/16 [14:15<00:00, 53.48s/it]\n"
     ]
    },
    {
     "name": "stdout",
     "output_type": "stream",
     "text": [
      "Ep: 300, time: 890.4780188139994, train: 0.21654644422233105, valid: 0.22709839046001434\n"
     ]
    },
    {
     "name": "stderr",
     "output_type": "stream",
     "text": [
      "100%|███████████████████████████████████████████████████████████████████████████████████| 16/16 [14:53<00:00, 55.85s/it]\n"
     ]
    },
    {
     "name": "stdout",
     "output_type": "stream",
     "text": [
      "Ep: 301, time: 928.7429712151643, train: 0.21685640886425972, valid: 0.22187547385692596\n"
     ]
    },
    {
     "name": "stderr",
     "output_type": "stream",
     "text": [
      "100%|███████████████████████████████████████████████████████████████████████████████████| 16/16 [14:31<00:00, 54.47s/it]\n"
     ]
    },
    {
     "name": "stdout",
     "output_type": "stream",
     "text": [
      "Ep: 302, time: 907.7367723160423, train: 0.21625930070877075, valid: 0.22981786727905273\n"
     ]
    },
    {
     "name": "stderr",
     "output_type": "stream",
     "text": [
      "100%|███████████████████████████████████████████████████████████████████████████████████| 16/16 [14:57<00:00, 56.12s/it]\n"
     ]
    },
    {
     "name": "stdout",
     "output_type": "stream",
     "text": [
      "Ep: 303, time: 932.926594481105, train: 0.21785741206258535, valid: 0.22228996455669403\n"
     ]
    },
    {
     "name": "stderr",
     "output_type": "stream",
     "text": [
      "100%|███████████████████████████████████████████████████████████████████████████████████| 16/16 [14:13<00:00, 53.36s/it]\n"
     ]
    },
    {
     "name": "stdout",
     "output_type": "stream",
     "text": [
      "Ep: 304, time: 889.7520403908566, train: 0.21611805073916912, valid: 0.21815718710422516\n"
     ]
    },
    {
     "name": "stderr",
     "output_type": "stream",
     "text": [
      "100%|███████████████████████████████████████████████████████████████████████████████████| 16/16 [15:06<00:00, 56.65s/it]\n"
     ]
    },
    {
     "name": "stdout",
     "output_type": "stream",
     "text": [
      "Ep: 305, time: 944.5450496061239, train: 0.21692438703030348, valid: 0.232025608420372\n"
     ]
    },
    {
     "name": "stderr",
     "output_type": "stream",
     "text": [
      "100%|███████████████████████████████████████████████████████████████████████████████████| 16/16 [14:38<00:00, 54.93s/it]\n"
     ]
    },
    {
     "name": "stdout",
     "output_type": "stream",
     "text": [
      "Ep: 306, time: 915.108994304901, train: 0.22489795833826065, valid: 0.24957583844661713\n"
     ]
    },
    {
     "name": "stderr",
     "output_type": "stream",
     "text": [
      "100%|███████████████████████████████████████████████████████████████████████████████████| 16/16 [14:39<00:00, 54.94s/it]\n"
     ]
    },
    {
     "name": "stdout",
     "output_type": "stream",
     "text": [
      "Ep: 307, time: 915.0615438839886, train: 0.2201614947989583, valid: 0.22105664014816284\n"
     ]
    },
    {
     "name": "stderr",
     "output_type": "stream",
     "text": [
      "100%|███████████████████████████████████████████████████████████████████████████████████| 16/16 [14:25<00:00, 54.09s/it]\n"
     ]
    },
    {
     "name": "stdout",
     "output_type": "stream",
     "text": [
      "Ep: 308, time: 899.9920141519979, train: 0.2142798723652959, valid: 0.21709515154361725\n"
     ]
    },
    {
     "name": "stderr",
     "output_type": "stream",
     "text": [
      "100%|███████████████████████████████████████████████████████████████████████████████████| 16/16 [14:41<00:00, 55.11s/it]\n"
     ]
    },
    {
     "name": "stdout",
     "output_type": "stream",
     "text": [
      "Ep: 309, time: 920.0491418370511, train: 0.20977747440338135, valid: 0.2218133956193924\n"
     ]
    },
    {
     "name": "stderr",
     "output_type": "stream",
     "text": [
      "100%|███████████████████████████████████████████████████████████████████████████████████| 16/16 [15:04<00:00, 56.55s/it]\n"
     ]
    },
    {
     "name": "stdout",
     "output_type": "stream",
     "text": [
      "Ep: 310, time: 943.1689739029389, train: 0.20916139520704746, valid: 0.21409904956817627\n"
     ]
    },
    {
     "name": "stderr",
     "output_type": "stream",
     "text": [
      "100%|███████████████████████████████████████████████████████████████████████████████████| 16/16 [14:45<00:00, 55.33s/it]\n"
     ]
    },
    {
     "name": "stdout",
     "output_type": "stream",
     "text": [
      "Ep: 311, time: 920.6671144817956, train: 0.21189346443861723, valid: 0.21635596454143524\n"
     ]
    },
    {
     "name": "stderr",
     "output_type": "stream",
     "text": [
      "100%|███████████████████████████████████████████████████████████████████████████████████| 16/16 [13:58<00:00, 52.43s/it]\n"
     ]
    },
    {
     "name": "stdout",
     "output_type": "stream",
     "text": [
      "Ep: 312, time: 873.728479799116, train: 0.2132269535213709, valid: 0.22091452777385712\n"
     ]
    },
    {
     "name": "stderr",
     "output_type": "stream",
     "text": [
      "100%|███████████████████████████████████████████████████████████████████████████████████| 16/16 [14:53<00:00, 55.86s/it]\n"
     ]
    },
    {
     "name": "stdout",
     "output_type": "stream",
     "text": [
      "Ep: 313, time: 931.235637688078, train: 0.22076746355742216, valid: 0.22343146800994873\n"
     ]
    },
    {
     "name": "stderr",
     "output_type": "stream",
     "text": [
      "100%|███████████████████████████████████████████████████████████████████████████████████| 16/16 [14:51<00:00, 55.71s/it]\n"
     ]
    },
    {
     "name": "stdout",
     "output_type": "stream",
     "text": [
      "Ep: 314, time: 924.491373477038, train: 0.21557754464447498, valid: 0.21586425602436066\n"
     ]
    },
    {
     "name": "stderr",
     "output_type": "stream",
     "text": [
      "100%|███████████████████████████████████████████████████████████████████████████████████| 16/16 [15:10<00:00, 56.89s/it]\n"
     ]
    },
    {
     "name": "stdout",
     "output_type": "stream",
     "text": [
      "Ep: 315, time: 947.5052023991011, train: 0.21244031470268965, valid: 0.2177027314901352\n"
     ]
    },
    {
     "name": "stderr",
     "output_type": "stream",
     "text": [
      "100%|███████████████████████████████████████████████████████████████████████████████████| 16/16 [15:16<00:00, 57.25s/it]\n"
     ]
    },
    {
     "name": "stdout",
     "output_type": "stream",
     "text": [
      "Ep: 316, time: 955.2150051819626, train: 0.21145634725689888, valid: 0.2168365716934204\n"
     ]
    },
    {
     "name": "stderr",
     "output_type": "stream",
     "text": [
      "100%|███████████████████████████████████████████████████████████████████████████████████| 16/16 [15:27<00:00, 57.99s/it]\n"
     ]
    },
    {
     "name": "stdout",
     "output_type": "stream",
     "text": [
      "Ep: 317, time: 965.5651764741633, train: 0.21383404918015003, valid: 0.22613246738910675\n"
     ]
    },
    {
     "name": "stderr",
     "output_type": "stream",
     "text": [
      "100%|███████████████████████████████████████████████████████████████████████████████████| 16/16 [14:41<00:00, 55.12s/it]\n"
     ]
    },
    {
     "name": "stdout",
     "output_type": "stream",
     "text": [
      "Ep: 318, time: 916.8745958318468, train: 0.2172529436647892, valid: 0.23531585931777954\n"
     ]
    },
    {
     "name": "stderr",
     "output_type": "stream",
     "text": [
      "100%|███████████████████████████████████████████████████████████████████████████████████| 16/16 [14:02<00:00, 52.67s/it]\n"
     ]
    },
    {
     "name": "stdout",
     "output_type": "stream",
     "text": [
      "Ep: 319, time: 878.2390008089133, train: 0.23589822929352522, valid: 0.23780423402786255\n"
     ]
    },
    {
     "name": "stderr",
     "output_type": "stream",
     "text": [
      "100%|███████████████████████████████████████████████████████████████████████████████████| 16/16 [14:18<00:00, 53.67s/it]\n"
     ]
    },
    {
     "name": "stdout",
     "output_type": "stream",
     "text": [
      "Ep: 320, time: 894.9971310398541, train: 0.2490178719162941, valid: 0.33119767904281616\n"
     ]
    },
    {
     "name": "stderr",
     "output_type": "stream",
     "text": [
      "100%|███████████████████████████████████████████████████████████████████████████████████| 16/16 [13:59<00:00, 52.50s/it]\n"
     ]
    },
    {
     "name": "stdout",
     "output_type": "stream",
     "text": [
      "Ep: 321, time: 875.2210178300738, train: 0.27044951543211937, valid: 0.24318073689937592\n"
     ]
    },
    {
     "name": "stderr",
     "output_type": "stream",
     "text": [
      "100%|███████████████████████████████████████████████████████████████████████████████████| 16/16 [14:05<00:00, 52.87s/it]\n"
     ]
    },
    {
     "name": "stdout",
     "output_type": "stream",
     "text": [
      "Ep: 322, time: 881.3047888309229, train: 0.22704988066107035, valid: 0.22532306611537933\n"
     ]
    },
    {
     "name": "stderr",
     "output_type": "stream",
     "text": [
      "100%|███████████████████████████████████████████████████████████████████████████████████| 16/16 [14:19<00:00, 53.70s/it]\n"
     ]
    },
    {
     "name": "stdout",
     "output_type": "stream",
     "text": [
      "Ep: 323, time: 898.2340139690787, train: 0.21004343312233686, valid: 0.220811128616333\n"
     ]
    },
    {
     "name": "stderr",
     "output_type": "stream",
     "text": [
      "100%|███████████████████████████████████████████████████████████████████████████████████| 16/16 [14:26<00:00, 54.18s/it]\n"
     ]
    },
    {
     "name": "stdout",
     "output_type": "stream",
     "text": [
      "Ep: 324, time: 903.7318863880355, train: 0.2114927489310503, valid: 0.2171795815229416\n"
     ]
    },
    {
     "name": "stderr",
     "output_type": "stream",
     "text": [
      "100%|███████████████████████████████████████████████████████████████████████████████████| 16/16 [14:05<00:00, 52.82s/it]\n"
     ]
    },
    {
     "name": "stdout",
     "output_type": "stream",
     "text": [
      "Ep: 325, time: 881.0247155358084, train: 0.21225491538643837, valid: 0.22875769436359406\n"
     ]
    },
    {
     "name": "stderr",
     "output_type": "stream",
     "text": [
      "100%|███████████████████████████████████████████████████████████████████████████████████| 16/16 [15:52<00:00, 59.53s/it]\n"
     ]
    },
    {
     "name": "stdout",
     "output_type": "stream",
     "text": [
      "Ep: 326, time: 993.2466254509054, train: 0.21324702352285385, valid: 0.2195826917886734\n"
     ]
    },
    {
     "name": "stderr",
     "output_type": "stream",
     "text": [
      "100%|███████████████████████████████████████████████████████████████████████████████████| 16/16 [17:04<00:00, 64.05s/it]\n"
     ]
    },
    {
     "name": "stdout",
     "output_type": "stream",
     "text": [
      "Ep: 327, time: 1066.3864882220514, train: 0.20756549946963787, valid: 0.2144717425107956\n"
     ]
    },
    {
     "name": "stderr",
     "output_type": "stream",
     "text": [
      "100%|███████████████████████████████████████████████████████████████████████████████████| 16/16 [16:27<00:00, 61.72s/it]\n"
     ]
    },
    {
     "name": "stdout",
     "output_type": "stream",
     "text": [
      "Ep: 328, time: 1028.0803970440757, train: 0.2059669615700841, valid: 0.21313433349132538\n"
     ]
    },
    {
     "name": "stderr",
     "output_type": "stream",
     "text": [
      "100%|███████████████████████████████████████████████████████████████████████████████████| 16/16 [16:58<00:00, 63.64s/it]\n"
     ]
    },
    {
     "name": "stdout",
     "output_type": "stream",
     "text": [
      "Ep: 329, time: 1059.5712178430986, train: 0.20539480820298195, valid: 0.20964349806308746\n"
     ]
    },
    {
     "name": "stderr",
     "output_type": "stream",
     "text": [
      "100%|███████████████████████████████████████████████████████████████████████████████████| 16/16 [16:34<00:00, 62.19s/it]\n"
     ]
    },
    {
     "name": "stdout",
     "output_type": "stream",
     "text": [
      "Ep: 330, time: 1037.740705393022, train: 0.20521954353898764, valid: 0.21060150861740112\n"
     ]
    },
    {
     "name": "stderr",
     "output_type": "stream",
     "text": [
      "100%|███████████████████████████████████████████████████████████████████████████████████| 16/16 [17:26<00:00, 65.39s/it]\n"
     ]
    },
    {
     "name": "stdout",
     "output_type": "stream",
     "text": [
      "Ep: 331, time: 1090.3707025479525, train: 0.20439097564667463, valid: 0.21443696320056915\n"
     ]
    },
    {
     "name": "stderr",
     "output_type": "stream",
     "text": [
      "100%|███████████████████████████████████████████████████████████████████████████████████| 16/16 [17:41<00:00, 66.36s/it]\n"
     ]
    },
    {
     "name": "stdout",
     "output_type": "stream",
     "text": [
      "Ep: 332, time: 1105.8068293649703, train: 0.20632963348180056, valid: 0.208769753575325\n"
     ]
    },
    {
     "name": "stderr",
     "output_type": "stream",
     "text": [
      "100%|███████████████████████████████████████████████████████████████████████████████████| 16/16 [17:05<00:00, 64.08s/it]\n"
     ]
    },
    {
     "name": "stdout",
     "output_type": "stream",
     "text": [
      "Ep: 333, time: 1067.0733080659993, train: 0.2045348435640335, valid: 0.21272240579128265\n"
     ]
    },
    {
     "name": "stderr",
     "output_type": "stream",
     "text": [
      "100%|███████████████████████████████████████████████████████████████████████████████████| 16/16 [15:43<00:00, 58.94s/it]\n"
     ]
    },
    {
     "name": "stdout",
     "output_type": "stream",
     "text": [
      "Ep: 334, time: 980.526815695921, train: 0.20552379172295332, valid: 0.21326148509979248\n"
     ]
    },
    {
     "name": "stderr",
     "output_type": "stream",
     "text": [
      "100%|███████████████████████████████████████████████████████████████████████████████████| 16/16 [14:29<00:00, 54.36s/it]\n"
     ]
    },
    {
     "name": "stdout",
     "output_type": "stream",
     "text": [
      "Ep: 335, time: 905.9145500231534, train: 0.20518793817609549, valid: 0.21344518661499023\n"
     ]
    },
    {
     "name": "stderr",
     "output_type": "stream",
     "text": [
      "100%|███████████████████████████████████████████████████████████████████████████████████| 16/16 [15:16<00:00, 57.26s/it]\n"
     ]
    },
    {
     "name": "stdout",
     "output_type": "stream",
     "text": [
      "Ep: 336, time: 951.843291342957, train: 0.2046686615794897, valid: 0.2084374874830246\n"
     ]
    },
    {
     "name": "stderr",
     "output_type": "stream",
     "text": [
      "100%|███████████████████████████████████████████████████████████████████████████████████| 16/16 [15:11<00:00, 56.99s/it]\n"
     ]
    },
    {
     "name": "stdout",
     "output_type": "stream",
     "text": [
      "Ep: 337, time: 950.0181182131637, train: 0.20284222345799208, valid: 0.21011883020401\n"
     ]
    },
    {
     "name": "stderr",
     "output_type": "stream",
     "text": [
      "100%|███████████████████████████████████████████████████████████████████████████████████| 16/16 [14:16<00:00, 53.54s/it]\n"
     ]
    },
    {
     "name": "stdout",
     "output_type": "stream",
     "text": [
      "Ep: 338, time: 891.7803816439118, train: 0.20262218825519085, valid: 0.20971475541591644\n"
     ]
    },
    {
     "name": "stderr",
     "output_type": "stream",
     "text": [
      "100%|███████████████████████████████████████████████████████████████████████████████████| 16/16 [14:18<00:00, 53.67s/it]\n"
     ]
    },
    {
     "name": "stdout",
     "output_type": "stream",
     "text": [
      "Ep: 339, time: 893.5535134039819, train: 0.20397607795894146, valid: 0.20958615839481354\n"
     ]
    },
    {
     "name": "stderr",
     "output_type": "stream",
     "text": [
      "100%|███████████████████████████████████████████████████████████████████████████████████| 16/16 [14:27<00:00, 54.25s/it]\n"
     ]
    },
    {
     "name": "stdout",
     "output_type": "stream",
     "text": [
      "Ep: 340, time: 903.608244801173, train: 0.20412196777760983, valid: 0.208914116024971\n"
     ]
    },
    {
     "name": "stderr",
     "output_type": "stream",
     "text": [
      "100%|███████████████████████████████████████████████████████████████████████████████████| 16/16 [14:19<00:00, 53.71s/it]\n"
     ]
    },
    {
     "name": "stdout",
     "output_type": "stream",
     "text": [
      "Ep: 341, time: 895.0038034140598, train: 0.2017806377261877, valid: 0.21241135895252228\n"
     ]
    },
    {
     "name": "stderr",
     "output_type": "stream",
     "text": [
      "100%|███████████████████████████████████████████████████████████████████████████████████| 16/16 [14:20<00:00, 53.80s/it]\n"
     ]
    },
    {
     "name": "stdout",
     "output_type": "stream",
     "text": [
      "Ep: 342, time: 897.1886834579054, train: 0.20486634969711304, valid: 0.21779181063175201\n"
     ]
    },
    {
     "name": "stderr",
     "output_type": "stream",
     "text": [
      "100%|███████████████████████████████████████████████████████████████████████████████████| 16/16 [14:12<00:00, 53.29s/it]\n"
     ]
    },
    {
     "name": "stdout",
     "output_type": "stream",
     "text": [
      "Ep: 343, time: 888.3301302839536, train: 0.20346816442906857, valid: 0.20975132286548615\n"
     ]
    },
    {
     "name": "stderr",
     "output_type": "stream",
     "text": [
      "100%|███████████████████████████████████████████████████████████████████████████████████| 16/16 [14:19<00:00, 53.71s/it]\n"
     ]
    },
    {
     "name": "stdout",
     "output_type": "stream",
     "text": [
      "Ep: 344, time: 894.1776160581503, train: 0.20919497311115265, valid: 0.21113954484462738\n"
     ]
    },
    {
     "name": "stderr",
     "output_type": "stream",
     "text": [
      "100%|███████████████████████████████████████████████████████████████████████████████████| 16/16 [14:29<00:00, 54.32s/it]\n"
     ]
    },
    {
     "name": "stdout",
     "output_type": "stream",
     "text": [
      "Ep: 345, time: 905.3805474899709, train: 0.20450673066079617, valid: 0.21101482212543488\n"
     ]
    },
    {
     "name": "stderr",
     "output_type": "stream",
     "text": [
      "100%|███████████████████████████████████████████████████████████████████████████████████| 16/16 [14:24<00:00, 54.03s/it]\n"
     ]
    },
    {
     "name": "stdout",
     "output_type": "stream",
     "text": [
      "Ep: 346, time: 900.7013042808976, train: 0.20164254307746887, valid: 0.21000485122203827\n"
     ]
    },
    {
     "name": "stderr",
     "output_type": "stream",
     "text": [
      "100%|███████████████████████████████████████████████████████████████████████████████████| 16/16 [14:56<00:00, 56.04s/it]\n"
     ]
    },
    {
     "name": "stdout",
     "output_type": "stream",
     "text": [
      "Ep: 347, time: 932.4583979710005, train: 0.2012799782678485, valid: 0.21179890632629395\n"
     ]
    },
    {
     "name": "stderr",
     "output_type": "stream",
     "text": [
      "100%|███████████████████████████████████████████████████████████████████████████████████| 16/16 [14:39<00:00, 55.00s/it]\n"
     ]
    },
    {
     "name": "stdout",
     "output_type": "stream",
     "text": [
      "Ep: 348, time: 915.4850931989495, train: 0.2025815276429057, valid: 0.2098291963338852\n"
     ]
    },
    {
     "name": "stderr",
     "output_type": "stream",
     "text": [
      "100%|███████████████████████████████████████████████████████████████████████████████████| 16/16 [14:36<00:00, 54.76s/it]\n"
     ]
    },
    {
     "name": "stdout",
     "output_type": "stream",
     "text": [
      "Ep: 349, time: 911.6445750729181, train: 0.2024414110928774, valid: 0.2104676216840744\n"
     ]
    },
    {
     "name": "stderr",
     "output_type": "stream",
     "text": [
      "100%|███████████████████████████████████████████████████████████████████████████████████| 16/16 [14:33<00:00, 54.58s/it]\n"
     ]
    },
    {
     "name": "stdout",
     "output_type": "stream",
     "text": [
      "Ep: 350, time: 909.1449431360234, train: 0.2021199157461524, valid: 0.21545641124248505\n"
     ]
    },
    {
     "name": "stderr",
     "output_type": "stream",
     "text": [
      "100%|███████████████████████████████████████████████████████████████████████████████████| 16/16 [14:45<00:00, 55.33s/it]\n"
     ]
    },
    {
     "name": "stdout",
     "output_type": "stream",
     "text": [
      "Ep: 351, time: 921.0556559958495, train: 0.20145514141768217, valid: 0.20687450468540192\n"
     ]
    },
    {
     "name": "stderr",
     "output_type": "stream",
     "text": [
      "100%|███████████████████████████████████████████████████████████████████████████████████| 16/16 [14:07<00:00, 52.97s/it]\n"
     ]
    },
    {
     "name": "stdout",
     "output_type": "stream",
     "text": [
      "Ep: 352, time: 882.8593453969806, train: 0.20462582726031542, valid: 0.21053443849086761\n"
     ]
    },
    {
     "name": "stderr",
     "output_type": "stream",
     "text": [
      "100%|███████████████████████████████████████████████████████████████████████████████████| 16/16 [14:39<00:00, 55.00s/it]\n"
     ]
    },
    {
     "name": "stdout",
     "output_type": "stream",
     "text": [
      "Ep: 353, time: 915.6049016930629, train: 0.20250705908983946, valid: 0.20578044652938843\n"
     ]
    },
    {
     "name": "stderr",
     "output_type": "stream",
     "text": [
      "100%|███████████████████████████████████████████████████████████████████████████████████| 16/16 [14:17<00:00, 53.62s/it]\n"
     ]
    },
    {
     "name": "stdout",
     "output_type": "stream",
     "text": [
      "Ep: 354, time: 893.5712972930633, train: 0.1991801243275404, valid: 0.20936761796474457\n"
     ]
    },
    {
     "name": "stderr",
     "output_type": "stream",
     "text": [
      "100%|███████████████████████████████████████████████████████████████████████████████████| 16/16 [14:24<00:00, 54.04s/it]\n"
     ]
    },
    {
     "name": "stdout",
     "output_type": "stream",
     "text": [
      "Ep: 355, time: 899.9059640269261, train: 0.2013257062062621, valid: 0.21337729692459106\n"
     ]
    },
    {
     "name": "stderr",
     "output_type": "stream",
     "text": [
      "100%|███████████████████████████████████████████████████████████████████████████████████| 16/16 [14:50<00:00, 55.69s/it]\n"
     ]
    },
    {
     "name": "stdout",
     "output_type": "stream",
     "text": [
      "Ep: 356, time: 928.1891646920703, train: 0.20204619597643614, valid: 0.2103809118270874\n"
     ]
    },
    {
     "name": "stderr",
     "output_type": "stream",
     "text": [
      "100%|███████████████████████████████████████████████████████████████████████████████████| 16/16 [14:31<00:00, 54.50s/it]\n"
     ]
    },
    {
     "name": "stdout",
     "output_type": "stream",
     "text": [
      "Ep: 357, time: 906.6179377408698, train: 0.19970981497317553, valid: 0.21567058563232422\n"
     ]
    },
    {
     "name": "stderr",
     "output_type": "stream",
     "text": [
      "100%|███████████████████████████████████████████████████████████████████████████████████| 16/16 [14:37<00:00, 54.87s/it]\n"
     ]
    },
    {
     "name": "stdout",
     "output_type": "stream",
     "text": [
      "Ep: 358, time: 915.385733199073, train: 0.20404144190251827, valid: 0.21035639941692352\n"
     ]
    },
    {
     "name": "stderr",
     "output_type": "stream",
     "text": [
      "100%|███████████████████████████████████████████████████████████████████████████████████| 16/16 [15:17<00:00, 57.31s/it]\n"
     ]
    },
    {
     "name": "stdout",
     "output_type": "stream",
     "text": [
      "Ep: 359, time: 954.9426979031414, train: 0.20293099526315928, valid: 0.21081864833831787\n"
     ]
    },
    {
     "name": "stderr",
     "output_type": "stream",
     "text": [
      "100%|███████████████████████████████████████████████████████████████████████████████████| 16/16 [15:11<00:00, 56.96s/it]\n"
     ]
    },
    {
     "name": "stdout",
     "output_type": "stream",
     "text": [
      "Ep: 360, time: 949.1599367719609, train: 0.20103437174111605, valid: 0.20733298361301422\n"
     ]
    },
    {
     "name": "stderr",
     "output_type": "stream",
     "text": [
      "100%|███████████████████████████████████████████████████████████████████████████████████| 16/16 [15:02<00:00, 56.43s/it]\n"
     ]
    },
    {
     "name": "stdout",
     "output_type": "stream",
     "text": [
      "Ep: 361, time: 939.6271903039888, train: 0.198621466755867, valid: 0.20364950597286224\n"
     ]
    },
    {
     "name": "stderr",
     "output_type": "stream",
     "text": [
      "100%|███████████████████████████████████████████████████████████████████████████████████| 16/16 [15:31<00:00, 58.24s/it]\n"
     ]
    },
    {
     "name": "stdout",
     "output_type": "stream",
     "text": [
      "Ep: 362, time: 971.5592802700121, train: 0.19884062092751265, valid: 0.20343129336833954\n"
     ]
    },
    {
     "name": "stderr",
     "output_type": "stream",
     "text": [
      "100%|███████████████████████████████████████████████████████████████████████████████████| 16/16 [15:32<00:00, 58.27s/it]\n"
     ]
    },
    {
     "name": "stdout",
     "output_type": "stream",
     "text": [
      "Ep: 363, time: 971.8585582729429, train: 0.19722773507237434, valid: 0.20327752828598022\n"
     ]
    },
    {
     "name": "stderr",
     "output_type": "stream",
     "text": [
      "100%|███████████████████████████████████████████████████████████████████████████████████| 16/16 [14:25<00:00, 54.10s/it]\n"
     ]
    },
    {
     "name": "stdout",
     "output_type": "stream",
     "text": [
      "Ep: 364, time: 903.6924156269524, train: 0.19924145378172398, valid: 0.20703816413879395\n"
     ]
    },
    {
     "name": "stderr",
     "output_type": "stream",
     "text": [
      "100%|███████████████████████████████████████████████████████████████████████████████████| 16/16 [15:20<00:00, 57.51s/it]\n"
     ]
    },
    {
     "name": "stdout",
     "output_type": "stream",
     "text": [
      "Ep: 365, time: 958.5089868430514, train: 0.19741991441696882, valid: 0.20771779119968414\n"
     ]
    },
    {
     "name": "stderr",
     "output_type": "stream",
     "text": [
      "100%|███████████████████████████████████████████████████████████████████████████████████| 16/16 [15:12<00:00, 57.05s/it]\n"
     ]
    },
    {
     "name": "stdout",
     "output_type": "stream",
     "text": [
      "Ep: 366, time: 951.9019256159663, train: 0.1972019961103797, valid: 0.20721276104450226\n"
     ]
    },
    {
     "name": "stderr",
     "output_type": "stream",
     "text": [
      "100%|███████████████████████████████████████████████████████████████████████████████████| 16/16 [15:15<00:00, 57.21s/it]\n"
     ]
    },
    {
     "name": "stdout",
     "output_type": "stream",
     "text": [
      "Ep: 367, time: 953.2928082738072, train: 0.19825651310384274, valid: 0.20894648134708405\n"
     ]
    },
    {
     "name": "stderr",
     "output_type": "stream",
     "text": [
      "100%|███████████████████████████████████████████████████████████████████████████████████| 16/16 [15:19<00:00, 57.45s/it]\n"
     ]
    },
    {
     "name": "stdout",
     "output_type": "stream",
     "text": [
      "Ep: 368, time: 954.6520948719699, train: 0.1988149294629693, valid: 0.20645642280578613\n"
     ]
    },
    {
     "name": "stderr",
     "output_type": "stream",
     "text": [
      "100%|███████████████████████████████████████████████████████████████████████████████████| 16/16 [15:09<00:00, 56.84s/it]\n"
     ]
    },
    {
     "name": "stdout",
     "output_type": "stream",
     "text": [
      "Ep: 369, time: 946.4188737119548, train: 0.19792147912085056, valid: 0.20508520305156708\n"
     ]
    },
    {
     "name": "stderr",
     "output_type": "stream",
     "text": [
      "100%|███████████████████████████████████████████████████████████████████████████████████| 16/16 [15:02<00:00, 56.38s/it]\n"
     ]
    },
    {
     "name": "stdout",
     "output_type": "stream",
     "text": [
      "Ep: 370, time: 939.7877225240227, train: 0.1966415662318468, valid: 0.20289413630962372\n"
     ]
    },
    {
     "name": "stderr",
     "output_type": "stream",
     "text": [
      "100%|███████████████████████████████████████████████████████████████████████████████████| 16/16 [15:08<00:00, 56.81s/it]\n"
     ]
    },
    {
     "name": "stdout",
     "output_type": "stream",
     "text": [
      "Ep: 371, time: 947.1396839029621, train: 0.19591581728309393, valid: 0.2102518081665039\n"
     ]
    },
    {
     "name": "stderr",
     "output_type": "stream",
     "text": [
      "100%|███████████████████████████████████████████████████████████████████████████████████| 16/16 [14:57<00:00, 56.08s/it]\n"
     ]
    },
    {
     "name": "stdout",
     "output_type": "stream",
     "text": [
      "Ep: 372, time: 935.1085942510981, train: 0.1964447870850563, valid: 0.2119525671005249\n"
     ]
    },
    {
     "name": "stderr",
     "output_type": "stream",
     "text": [
      "100%|███████████████████████████████████████████████████████████████████████████████████| 16/16 [15:04<00:00, 56.52s/it]\n"
     ]
    },
    {
     "name": "stdout",
     "output_type": "stream",
     "text": [
      "Ep: 373, time: 941.7084639768582, train: 0.19663360249251127, valid: 0.20490378141403198\n"
     ]
    },
    {
     "name": "stderr",
     "output_type": "stream",
     "text": [
      "100%|███████████████████████████████████████████████████████████████████████████████████| 16/16 [15:09<00:00, 56.82s/it]\n"
     ]
    },
    {
     "name": "stdout",
     "output_type": "stream",
     "text": [
      "Ep: 374, time: 947.7279173450079, train: 0.1960394410416484, valid: 0.20580001175403595\n"
     ]
    },
    {
     "name": "stderr",
     "output_type": "stream",
     "text": [
      "100%|███████████████████████████████████████████████████████████████████████████████████| 16/16 [15:02<00:00, 56.39s/it]\n"
     ]
    },
    {
     "name": "stdout",
     "output_type": "stream",
     "text": [
      "Ep: 375, time: 940.5798138000537, train: 0.19520885031670332, valid: 0.20522229373455048\n"
     ]
    },
    {
     "name": "stderr",
     "output_type": "stream",
     "text": [
      "100%|███████████████████████████████████████████████████████████████████████████████████| 16/16 [15:09<00:00, 56.84s/it]\n"
     ]
    },
    {
     "name": "stdout",
     "output_type": "stream",
     "text": [
      "Ep: 376, time: 950.2789943271782, train: 0.19451322499662638, valid: 0.20216691493988037\n"
     ]
    },
    {
     "name": "stderr",
     "output_type": "stream",
     "text": [
      "100%|███████████████████████████████████████████████████████████████████████████████████| 16/16 [15:09<00:00, 56.84s/it]\n"
     ]
    },
    {
     "name": "stdout",
     "output_type": "stream",
     "text": [
      "Ep: 377, time: 946.4273560990114, train: 0.19440187141299248, valid: 0.20363612473011017\n"
     ]
    },
    {
     "name": "stderr",
     "output_type": "stream",
     "text": [
      "100%|███████████████████████████████████████████████████████████████████████████████████| 16/16 [14:59<00:00, 56.23s/it]\n"
     ]
    },
    {
     "name": "stdout",
     "output_type": "stream",
     "text": [
      "Ep: 378, time: 938.4554031458683, train: 0.19460974633693695, valid: 0.20297177135944366\n"
     ]
    },
    {
     "name": "stderr",
     "output_type": "stream",
     "text": [
      "100%|███████████████████████████████████████████████████████████████████████████████████| 16/16 [14:56<00:00, 56.01s/it]\n"
     ]
    },
    {
     "name": "stdout",
     "output_type": "stream",
     "text": [
      "Ep: 379, time: 933.8765453358646, train: 0.19435752369463444, valid: 0.2052031010389328\n"
     ]
    },
    {
     "name": "stderr",
     "output_type": "stream",
     "text": [
      "100%|███████████████████████████████████████████████████████████████████████████████████| 16/16 [15:03<00:00, 56.47s/it]\n"
     ]
    },
    {
     "name": "stdout",
     "output_type": "stream",
     "text": [
      "Ep: 380, time: 941.8281933569815, train: 0.19490959960967302, valid: 0.202447772026062\n"
     ]
    },
    {
     "name": "stderr",
     "output_type": "stream",
     "text": [
      "100%|███████████████████████████████████████████████████████████████████████████████████| 16/16 [15:20<00:00, 57.52s/it]\n"
     ]
    },
    {
     "name": "stdout",
     "output_type": "stream",
     "text": [
      "Ep: 381, time: 959.5651659599971, train: 0.1958459485322237, valid: 0.20258720219135284\n"
     ]
    },
    {
     "name": "stderr",
     "output_type": "stream",
     "text": [
      "100%|███████████████████████████████████████████████████████████████████████████████████| 16/16 [15:27<00:00, 57.98s/it]\n"
     ]
    },
    {
     "name": "stdout",
     "output_type": "stream",
     "text": [
      "Ep: 382, time: 966.3952051820233, train: 0.19462134968489408, valid: 0.20185630023479462\n"
     ]
    },
    {
     "name": "stderr",
     "output_type": "stream",
     "text": [
      "100%|███████████████████████████████████████████████████████████████████████████████████| 16/16 [15:26<00:00, 57.90s/it]\n"
     ]
    },
    {
     "name": "stdout",
     "output_type": "stream",
     "text": [
      "Ep: 383, time: 963.9791378730442, train: 0.19377313740551472, valid: 0.20032186806201935\n"
     ]
    },
    {
     "name": "stderr",
     "output_type": "stream",
     "text": [
      "100%|███████████████████████████████████████████████████████████████████████████████████| 16/16 [14:59<00:00, 56.24s/it]\n"
     ]
    },
    {
     "name": "stdout",
     "output_type": "stream",
     "text": [
      "Ep: 384, time: 935.4030880578794, train: 0.19526991341263056, valid: 0.2061426192522049\n"
     ]
    },
    {
     "name": "stderr",
     "output_type": "stream",
     "text": [
      "100%|███████████████████████████████████████████████████████████████████████████████████| 16/16 [14:43<00:00, 55.23s/it]\n"
     ]
    },
    {
     "name": "stdout",
     "output_type": "stream",
     "text": [
      "Ep: 385, time: 920.5464354478754, train: 0.19575723353773355, valid: 0.2018430382013321\n"
     ]
    },
    {
     "name": "stderr",
     "output_type": "stream",
     "text": [
      "100%|███████████████████████████████████████████████████████████████████████████████████| 16/16 [14:36<00:00, 54.76s/it]\n"
     ]
    },
    {
     "name": "stdout",
     "output_type": "stream",
     "text": [
      "Ep: 386, time: 913.2372069060802, train: 0.19524235930293798, valid: 0.20085729658603668\n"
     ]
    },
    {
     "name": "stderr",
     "output_type": "stream",
     "text": [
      "100%|███████████████████████████████████████████████████████████████████████████████████| 16/16 [14:55<00:00, 55.96s/it]\n"
     ]
    },
    {
     "name": "stdout",
     "output_type": "stream",
     "text": [
      "Ep: 387, time: 932.0867290531751, train: 0.19484875444322824, valid: 0.20342880487442017\n"
     ]
    },
    {
     "name": "stderr",
     "output_type": "stream",
     "text": [
      "100%|███████████████████████████████████████████████████████████████████████████████████| 16/16 [15:36<00:00, 58.52s/it]\n"
     ]
    },
    {
     "name": "stdout",
     "output_type": "stream",
     "text": [
      "Ep: 388, time: 974.0315471920185, train: 0.1943172626197338, valid: 0.20249007642269135\n"
     ]
    },
    {
     "name": "stderr",
     "output_type": "stream",
     "text": [
      "100%|███████████████████████████████████████████████████████████████████████████████████| 16/16 [15:23<00:00, 57.70s/it]\n"
     ]
    },
    {
     "name": "stdout",
     "output_type": "stream",
     "text": [
      "Ep: 389, time: 961.5587771029677, train: 0.19331640657037497, valid: 0.20287519693374634\n"
     ]
    },
    {
     "name": "stderr",
     "output_type": "stream",
     "text": [
      "100%|███████████████████████████████████████████████████████████████████████████████████| 16/16 [15:09<00:00, 56.84s/it]\n"
     ]
    },
    {
     "name": "stdout",
     "output_type": "stream",
     "text": [
      "Ep: 390, time: 948.9362643200438, train: 0.19273545499891043, valid: 0.2028190642595291\n"
     ]
    },
    {
     "name": "stderr",
     "output_type": "stream",
     "text": [
      "100%|███████████████████████████████████████████████████████████████████████████████████| 16/16 [15:13<00:00, 57.07s/it]\n"
     ]
    },
    {
     "name": "stdout",
     "output_type": "stream",
     "text": [
      "Ep: 391, time: 952.552931712009, train: 0.19285258930176497, valid: 0.20431165397167206\n"
     ]
    },
    {
     "name": "stderr",
     "output_type": "stream",
     "text": [
      "100%|███████████████████████████████████████████████████████████████████████████████████| 16/16 [14:58<00:00, 56.14s/it]\n"
     ]
    },
    {
     "name": "stdout",
     "output_type": "stream",
     "text": [
      "Ep: 392, time: 936.5198468749877, train: 0.19306143186986446, valid: 0.20877671241760254\n"
     ]
    },
    {
     "name": "stderr",
     "output_type": "stream",
     "text": [
      "100%|███████████████████████████████████████████████████████████████████████████████████| 16/16 [14:26<00:00, 54.19s/it]\n"
     ]
    },
    {
     "name": "stdout",
     "output_type": "stream",
     "text": [
      "Ep: 393, time: 902.4844313568901, train: 0.19279731437563896, valid: 0.20437516272068024\n"
     ]
    },
    {
     "name": "stderr",
     "output_type": "stream",
     "text": [
      "100%|███████████████████████████████████████████████████████████████████████████████████| 16/16 [14:03<00:00, 52.73s/it]\n"
     ]
    },
    {
     "name": "stdout",
     "output_type": "stream",
     "text": [
      "Ep: 394, time: 879.6993411709554, train: 0.19247122295200825, valid: 0.20270495116710663\n"
     ]
    },
    {
     "name": "stderr",
     "output_type": "stream",
     "text": [
      "100%|███████████████████████████████████████████████████████████████████████████████████| 16/16 [14:13<00:00, 53.35s/it]\n"
     ]
    },
    {
     "name": "stdout",
     "output_type": "stream",
     "text": [
      "Ep: 395, time: 894.5528874238953, train: 0.19212387781590223, valid: 0.20396734774112701\n"
     ]
    },
    {
     "name": "stderr",
     "output_type": "stream",
     "text": [
      "100%|███████████████████████████████████████████████████████████████████████████████████| 16/16 [15:07<00:00, 56.70s/it]\n"
     ]
    },
    {
     "name": "stdout",
     "output_type": "stream",
     "text": [
      "Ep: 396, time: 944.5984404911287, train: 0.1929690595716238, valid: 0.1994370073080063\n"
     ]
    },
    {
     "name": "stderr",
     "output_type": "stream",
     "text": [
      "100%|███████████████████████████████████████████████████████████████████████████████████| 16/16 [14:39<00:00, 54.95s/it]\n"
     ]
    },
    {
     "name": "stdout",
     "output_type": "stream",
     "text": [
      "Ep: 397, time: 914.7980696349405, train: 0.19172909762710333, valid: 0.20213855803012848\n"
     ]
    },
    {
     "name": "stderr",
     "output_type": "stream",
     "text": [
      "100%|███████████████████████████████████████████████████████████████████████████████████| 16/16 [14:13<00:00, 53.32s/it]\n"
     ]
    },
    {
     "name": "stdout",
     "output_type": "stream",
     "text": [
      "Ep: 398, time: 888.4308261300903, train: 0.19172990880906582, valid: 0.2012605518102646\n"
     ]
    },
    {
     "name": "stderr",
     "output_type": "stream",
     "text": [
      "100%|███████████████████████████████████████████████████████████████████████████████████| 16/16 [14:17<00:00, 53.59s/it]\n"
     ]
    },
    {
     "name": "stdout",
     "output_type": "stream",
     "text": [
      "Ep: 399, time: 893.2201575969812, train: 0.19326089695096016, valid: 0.19970703125\n"
     ]
    },
    {
     "name": "stderr",
     "output_type": "stream",
     "text": [
      "100%|███████████████████████████████████████████████████████████████████████████████████| 16/16 [14:13<00:00, 53.34s/it]\n"
     ]
    },
    {
     "name": "stdout",
     "output_type": "stream",
     "text": [
      "Ep: 400, time: 888.750960359117, train: 0.1922754468396306, valid: 0.1992640644311905\n"
     ]
    },
    {
     "name": "stderr",
     "output_type": "stream",
     "text": [
      "100%|███████████████████████████████████████████████████████████████████████████████████| 16/16 [14:46<00:00, 55.38s/it]\n"
     ]
    },
    {
     "name": "stdout",
     "output_type": "stream",
     "text": [
      "Ep: 401, time: 923.710132173961, train: 0.1937225079163909, valid: 0.20431530475616455\n"
     ]
    },
    {
     "name": "stderr",
     "output_type": "stream",
     "text": [
      "100%|███████████████████████████████████████████████████████████████████████████████████| 16/16 [15:08<00:00, 56.80s/it]\n"
     ]
    },
    {
     "name": "stdout",
     "output_type": "stream",
     "text": [
      "Ep: 402, time: 944.2617766649928, train: 0.19129225332289934, valid: 0.1991247981786728\n"
     ]
    },
    {
     "name": "stderr",
     "output_type": "stream",
     "text": [
      "100%|███████████████████████████████████████████████████████████████████████████████████| 16/16 [14:17<00:00, 53.61s/it]\n"
     ]
    },
    {
     "name": "stdout",
     "output_type": "stream",
     "text": [
      "Ep: 403, time: 893.2833302270155, train: 0.19084396865218878, valid: 0.19804330170154572\n"
     ]
    },
    {
     "name": "stderr",
     "output_type": "stream",
     "text": [
      "100%|███████████████████████████████████████████████████████████████████████████████████| 16/16 [14:31<00:00, 54.49s/it]\n"
     ]
    },
    {
     "name": "stdout",
     "output_type": "stream",
     "text": [
      "Ep: 404, time: 908.6191371649038, train: 0.1915495442226529, valid: 0.2003382295370102\n"
     ]
    },
    {
     "name": "stderr",
     "output_type": "stream",
     "text": [
      "100%|███████████████████████████████████████████████████████████████████████████████████| 16/16 [14:40<00:00, 55.03s/it]\n"
     ]
    },
    {
     "name": "stdout",
     "output_type": "stream",
     "text": [
      "Ep: 405, time: 915.160247867927, train: 0.19094297755509615, valid: 0.20200622081756592\n"
     ]
    },
    {
     "name": "stderr",
     "output_type": "stream",
     "text": [
      "100%|███████████████████████████████████████████████████████████████████████████████████| 16/16 [14:05<00:00, 52.86s/it]\n"
     ]
    },
    {
     "name": "stdout",
     "output_type": "stream",
     "text": [
      "Ep: 406, time: 881.7395864059217, train: 0.1914763394743204, valid: 0.20727670192718506\n"
     ]
    },
    {
     "name": "stderr",
     "output_type": "stream",
     "text": [
      "100%|███████████████████████████████████████████████████████████████████████████████████| 16/16 [14:03<00:00, 52.72s/it]\n"
     ]
    },
    {
     "name": "stdout",
     "output_type": "stream",
     "text": [
      "Ep: 407, time: 879.1442304218654, train: 0.1914275037124753, valid: 0.20181924104690552\n"
     ]
    },
    {
     "name": "stderr",
     "output_type": "stream",
     "text": [
      "100%|███████████████████████████████████████████████████████████████████████████████████| 16/16 [14:07<00:00, 52.99s/it]\n"
     ]
    },
    {
     "name": "stdout",
     "output_type": "stream",
     "text": [
      "Ep: 408, time: 883.5115610088687, train: 0.19036254659295082, valid: 0.20018060505390167\n"
     ]
    },
    {
     "name": "stderr",
     "output_type": "stream",
     "text": [
      "100%|███████████████████████████████████████████████████████████████████████████████████| 16/16 [14:26<00:00, 54.16s/it]\n"
     ]
    },
    {
     "name": "stdout",
     "output_type": "stream",
     "text": [
      "Ep: 409, time: 902.2838727929629, train: 0.190198615193367, valid: 0.20329166948795319\n"
     ]
    },
    {
     "name": "stderr",
     "output_type": "stream",
     "text": [
      "100%|███████████████████████████████████████████████████████████████████████████████████| 16/16 [14:44<00:00, 55.27s/it]\n"
     ]
    },
    {
     "name": "stdout",
     "output_type": "stream",
     "text": [
      "Ep: 410, time: 921.2726510129869, train: 0.1898988289758563, valid: 0.19894473254680634\n"
     ]
    },
    {
     "name": "stderr",
     "output_type": "stream",
     "text": [
      "100%|███████████████████████████████████████████████████████████████████████████████████| 16/16 [14:03<00:00, 52.73s/it]\n"
     ]
    },
    {
     "name": "stdout",
     "output_type": "stream",
     "text": [
      "Ep: 411, time: 879.4242097968236, train: 0.18962285667657852, valid: 0.2011023312807083\n"
     ]
    },
    {
     "name": "stderr",
     "output_type": "stream",
     "text": [
      "100%|███████████████████████████████████████████████████████████████████████████████████| 16/16 [14:14<00:00, 53.38s/it]\n"
     ]
    },
    {
     "name": "stdout",
     "output_type": "stream",
     "text": [
      "Ep: 412, time: 888.7845296300948, train: 0.18967963475733995, valid: 0.19990359246730804\n"
     ]
    },
    {
     "name": "stderr",
     "output_type": "stream",
     "text": [
      "100%|███████████████████████████████████████████████████████████████████████████████████| 16/16 [14:09<00:00, 53.08s/it]\n"
     ]
    },
    {
     "name": "stdout",
     "output_type": "stream",
     "text": [
      "Ep: 413, time: 885.1264689657837, train: 0.19012442603707314, valid: 0.20579953491687775\n"
     ]
    },
    {
     "name": "stderr",
     "output_type": "stream",
     "text": [
      "100%|███████████████████████████████████████████████████████████████████████████████████| 16/16 [14:17<00:00, 53.58s/it]\n"
     ]
    },
    {
     "name": "stdout",
     "output_type": "stream",
     "text": [
      "Ep: 414, time: 892.0979374430608, train: 0.19005932565778494, valid: 0.19845621287822723\n"
     ]
    },
    {
     "name": "stderr",
     "output_type": "stream",
     "text": [
      "100%|███████████████████████████████████████████████████████████████████████████████████| 16/16 [14:07<00:00, 52.95s/it]\n"
     ]
    },
    {
     "name": "stdout",
     "output_type": "stream",
     "text": [
      "Ep: 415, time: 881.0418490949087, train: 0.1899100486189127, valid: 0.19815896451473236\n"
     ]
    },
    {
     "name": "stderr",
     "output_type": "stream",
     "text": [
      "100%|███████████████████████████████████████████████████████████████████████████████████| 16/16 [13:58<00:00, 52.42s/it]\n"
     ]
    },
    {
     "name": "stdout",
     "output_type": "stream",
     "text": [
      "Ep: 416, time: 873.5992368787993, train: 0.18912858981639147, valid: 0.20080995559692383\n"
     ]
    },
    {
     "name": "stderr",
     "output_type": "stream",
     "text": [
      "100%|███████████████████████████████████████████████████████████████████████████████████| 16/16 [13:57<00:00, 52.34s/it]\n"
     ]
    },
    {
     "name": "stdout",
     "output_type": "stream",
     "text": [
      "Ep: 417, time: 872.9007774540223, train: 0.18964018486440182, valid: 0.20024196803569794\n"
     ]
    },
    {
     "name": "stderr",
     "output_type": "stream",
     "text": [
      "100%|███████████████████████████████████████████████████████████████████████████████████| 16/16 [14:04<00:00, 52.79s/it]\n"
     ]
    },
    {
     "name": "stdout",
     "output_type": "stream",
     "text": [
      "Ep: 418, time: 880.2873274979647, train: 0.18930520955473185, valid: 0.20045621693134308\n"
     ]
    },
    {
     "name": "stderr",
     "output_type": "stream",
     "text": [
      "100%|███████████████████████████████████████████████████████████████████████████████████| 16/16 [14:10<00:00, 53.13s/it]\n"
     ]
    },
    {
     "name": "stdout",
     "output_type": "stream",
     "text": [
      "Ep: 419, time: 884.9823981150985, train: 0.1894601322710514, valid: 0.19788195192813873\n"
     ]
    },
    {
     "name": "stderr",
     "output_type": "stream",
     "text": [
      "100%|███████████████████████████████████████████████████████████████████████████████████| 16/16 [14:12<00:00, 53.30s/it]\n"
     ]
    },
    {
     "name": "stdout",
     "output_type": "stream",
     "text": [
      "Ep: 420, time: 888.1464765288401, train: 0.18923558667302132, valid: 0.20161454379558563\n"
     ]
    },
    {
     "name": "stderr",
     "output_type": "stream",
     "text": [
      "100%|███████████████████████████████████████████████████████████████████████████████████| 16/16 [14:11<00:00, 53.21s/it]\n"
     ]
    },
    {
     "name": "stdout",
     "output_type": "stream",
     "text": [
      "Ep: 421, time: 886.6570240950678, train: 0.1898334203287959, valid: 0.1992742270231247\n"
     ]
    },
    {
     "name": "stderr",
     "output_type": "stream",
     "text": [
      "100%|███████████████████████████████████████████████████████████████████████████████████| 16/16 [14:04<00:00, 52.76s/it]\n"
     ]
    },
    {
     "name": "stdout",
     "output_type": "stream",
     "text": [
      "Ep: 422, time: 879.7776981058996, train: 0.18974455166608095, valid: 0.1996029168367386\n"
     ]
    },
    {
     "name": "stderr",
     "output_type": "stream",
     "text": [
      "100%|███████████████████████████████████████████████████████████████████████████████████| 16/16 [14:21<00:00, 53.84s/it]\n"
     ]
    },
    {
     "name": "stdout",
     "output_type": "stream",
     "text": [
      "Ep: 423, time: 896.9980420421343, train: 0.1889868164435029, valid: 0.20049349963665009\n"
     ]
    },
    {
     "name": "stderr",
     "output_type": "stream",
     "text": [
      "100%|███████████████████████████████████████████████████████████████████████████████████| 16/16 [14:33<00:00, 54.59s/it]\n"
     ]
    },
    {
     "name": "stdout",
     "output_type": "stream",
     "text": [
      "Ep: 424, time: 909.0187123599462, train: 0.18912580236792564, valid: 0.20230822265148163\n"
     ]
    },
    {
     "name": "stderr",
     "output_type": "stream",
     "text": [
      "100%|███████████████████████████████████████████████████████████████████████████████████| 16/16 [14:45<00:00, 55.34s/it]\n"
     ]
    },
    {
     "name": "stdout",
     "output_type": "stream",
     "text": [
      "Ep: 425, time: 923.3024794140365, train: 0.1886978754773736, valid: 0.20184145867824554\n"
     ]
    },
    {
     "name": "stderr",
     "output_type": "stream",
     "text": [
      "100%|███████████████████████████████████████████████████████████████████████████████████| 16/16 [14:20<00:00, 53.76s/it]\n"
     ]
    },
    {
     "name": "stdout",
     "output_type": "stream",
     "text": [
      "Ep: 426, time: 895.307388768997, train: 0.18828164506703615, valid: 0.19826138019561768\n"
     ]
    },
    {
     "name": "stderr",
     "output_type": "stream",
     "text": [
      "100%|███████████████████████████████████████████████████████████████████████████████████| 16/16 [14:37<00:00, 54.83s/it]\n"
     ]
    },
    {
     "name": "stdout",
     "output_type": "stream",
     "text": [
      "Ep: 427, time: 912.4421818479896, train: 0.18807851523160934, valid: 0.19689874351024628\n"
     ]
    },
    {
     "name": "stderr",
     "output_type": "stream",
     "text": [
      "100%|███████████████████████████████████████████████████████████████████████████████████| 16/16 [14:23<00:00, 53.95s/it]\n"
     ]
    },
    {
     "name": "stdout",
     "output_type": "stream",
     "text": [
      "Ep: 428, time: 899.2610532569233, train: 0.18807471822947264, valid: 0.19793544709682465\n"
     ]
    },
    {
     "name": "stderr",
     "output_type": "stream",
     "text": [
      "100%|███████████████████████████████████████████████████████████████████████████████████| 16/16 [14:24<00:00, 54.02s/it]\n"
     ]
    },
    {
     "name": "stdout",
     "output_type": "stream",
     "text": [
      "Ep: 429, time: 898.9987365289126, train: 0.18832684494554996, valid: 0.19912485778331757\n"
     ]
    },
    {
     "name": "stderr",
     "output_type": "stream",
     "text": [
      "100%|███████████████████████████████████████████████████████████████████████████████████| 16/16 [14:09<00:00, 53.11s/it]\n"
     ]
    },
    {
     "name": "stdout",
     "output_type": "stream",
     "text": [
      "Ep: 430, time: 884.6374390809797, train: 0.18836824875324965, valid: 0.19673694670200348\n"
     ]
    },
    {
     "name": "stderr",
     "output_type": "stream",
     "text": [
      "100%|███████████████████████████████████████████████████████████████████████████████████| 16/16 [14:18<00:00, 53.67s/it]\n"
     ]
    },
    {
     "name": "stdout",
     "output_type": "stream",
     "text": [
      "Ep: 431, time: 895.399526580004, train: 0.18812868185341358, valid: 0.1965916007757187\n"
     ]
    },
    {
     "name": "stderr",
     "output_type": "stream",
     "text": [
      "100%|███████████████████████████████████████████████████████████████████████████████████| 16/16 [14:32<00:00, 54.55s/it]\n"
     ]
    },
    {
     "name": "stdout",
     "output_type": "stream",
     "text": [
      "Ep: 432, time: 906.2260212569963, train: 0.1888977261260152, valid: 0.1991697996854782\n"
     ]
    },
    {
     "name": "stderr",
     "output_type": "stream",
     "text": [
      "100%|███████████████████████████████████████████████████████████████████████████████████| 16/16 [14:03<00:00, 52.71s/it]\n"
     ]
    },
    {
     "name": "stdout",
     "output_type": "stream",
     "text": [
      "Ep: 433, time: 877.7659218290355, train: 0.18843316193670034, valid: 0.19801513850688934\n"
     ]
    },
    {
     "name": "stderr",
     "output_type": "stream",
     "text": [
      "100%|███████████████████████████████████████████████████████████████████████████████████| 16/16 [14:12<00:00, 53.29s/it]\n"
     ]
    },
    {
     "name": "stdout",
     "output_type": "stream",
     "text": [
      "Ep: 434, time: 889.0272513108794, train: 0.18783021438866854, valid: 0.1969165951013565\n"
     ]
    },
    {
     "name": "stderr",
     "output_type": "stream",
     "text": [
      "100%|███████████████████████████████████████████████████████████████████████████████████| 16/16 [14:26<00:00, 54.17s/it]\n"
     ]
    },
    {
     "name": "stdout",
     "output_type": "stream",
     "text": [
      "Ep: 435, time: 901.8561182981357, train: 0.18768950086086988, valid: 0.19776888191699982\n"
     ]
    },
    {
     "name": "stderr",
     "output_type": "stream",
     "text": [
      "100%|███████████████████████████████████████████████████████████████████████████████████| 16/16 [15:08<00:00, 56.78s/it]\n"
     ]
    },
    {
     "name": "stdout",
     "output_type": "stream",
     "text": [
      "Ep: 436, time: 946.4685087639373, train: 0.18780959211289883, valid: 0.19705913960933685\n"
     ]
    },
    {
     "name": "stderr",
     "output_type": "stream",
     "text": [
      "100%|███████████████████████████████████████████████████████████████████████████████████| 16/16 [15:04<00:00, 56.54s/it]\n"
     ]
    },
    {
     "name": "stdout",
     "output_type": "stream",
     "text": [
      "Ep: 437, time: 944.2139721279964, train: 0.1878326153382659, valid: 0.19678336381912231\n"
     ]
    },
    {
     "name": "stderr",
     "output_type": "stream",
     "text": [
      "100%|███████████████████████████████████████████████████████████████████████████████████| 16/16 [15:18<00:00, 57.38s/it]\n"
     ]
    },
    {
     "name": "stdout",
     "output_type": "stream",
     "text": [
      "Ep: 438, time: 954.7593976599164, train: 0.1877585081383586, valid: 0.19698165357112885\n"
     ]
    },
    {
     "name": "stderr",
     "output_type": "stream",
     "text": [
      "100%|███████████████████████████████████████████████████████████████████████████████████| 16/16 [14:51<00:00, 55.70s/it]\n"
     ]
    },
    {
     "name": "stdout",
     "output_type": "stream",
     "text": [
      "Ep: 439, time: 924.6428218260407, train: 0.18777401838451624, valid: 0.1986871212720871\n"
     ]
    },
    {
     "name": "stderr",
     "output_type": "stream",
     "text": [
      "100%|███████████████████████████████████████████████████████████████████████████████████| 16/16 [14:20<00:00, 53.76s/it]\n"
     ]
    },
    {
     "name": "stdout",
     "output_type": "stream",
     "text": [
      "Ep: 440, time: 895.3531876790803, train: 0.1876423079520464, valid: 0.19632820785045624\n"
     ]
    },
    {
     "name": "stderr",
     "output_type": "stream",
     "text": [
      "100%|███████████████████████████████████████████████████████████████████████████████████| 16/16 [14:10<00:00, 53.13s/it]\n"
     ]
    },
    {
     "name": "stdout",
     "output_type": "stream",
     "text": [
      "Ep: 441, time: 885.4412990638521, train: 0.1871494222432375, valid: 0.19647832214832306\n"
     ]
    },
    {
     "name": "stderr",
     "output_type": "stream",
     "text": [
      "100%|███████████████████████████████████████████████████████████████████████████████████| 16/16 [14:14<00:00, 53.40s/it]\n"
     ]
    },
    {
     "name": "stdout",
     "output_type": "stream",
     "text": [
      "Ep: 442, time: 889.2348580241669, train: 0.1874524811282754, valid: 0.1974135786294937\n"
     ]
    },
    {
     "name": "stderr",
     "output_type": "stream",
     "text": [
      "100%|███████████████████████████████████████████████████████████████████████████████████| 16/16 [14:23<00:00, 53.96s/it]\n"
     ]
    },
    {
     "name": "stdout",
     "output_type": "stream",
     "text": [
      "Ep: 443, time: 898.1356927538291, train: 0.18700460344552994, valid: 0.19849731028079987\n"
     ]
    },
    {
     "name": "stderr",
     "output_type": "stream",
     "text": [
      "100%|███████████████████████████████████████████████████████████████████████████████████| 16/16 [14:06<00:00, 52.90s/it]\n"
     ]
    },
    {
     "name": "stdout",
     "output_type": "stream",
     "text": [
      "Ep: 444, time: 881.9546566461213, train: 0.18755499552935362, valid: 0.19894355535507202\n"
     ]
    },
    {
     "name": "stderr",
     "output_type": "stream",
     "text": [
      "100%|███████████████████████████████████████████████████████████████████████████████████| 16/16 [14:27<00:00, 54.20s/it]\n"
     ]
    },
    {
     "name": "stdout",
     "output_type": "stream",
     "text": [
      "Ep: 445, time: 902.5073922579177, train: 0.18718881905078888, valid: 0.19687120616436005\n"
     ]
    },
    {
     "name": "stderr",
     "output_type": "stream",
     "text": [
      "100%|███████████████████████████████████████████████████████████████████████████████████| 16/16 [14:31<00:00, 54.49s/it]\n"
     ]
    },
    {
     "name": "stdout",
     "output_type": "stream",
     "text": [
      "Ep: 446, time: 907.6812676719856, train: 0.18694168701767921, valid: 0.19757039844989777\n"
     ]
    },
    {
     "name": "stderr",
     "output_type": "stream",
     "text": [
      "100%|███████████████████████████████████████████████████████████████████████████████████| 16/16 [14:46<00:00, 55.41s/it]\n"
     ]
    },
    {
     "name": "stdout",
     "output_type": "stream",
     "text": [
      "Ep: 447, time: 921.5698030539788, train: 0.1868037786334753, valid: 0.19672401249408722\n"
     ]
    },
    {
     "name": "stderr",
     "output_type": "stream",
     "text": [
      "100%|███████████████████████████████████████████████████████████████████████████████████| 16/16 [14:37<00:00, 54.84s/it]\n"
     ]
    },
    {
     "name": "stdout",
     "output_type": "stream",
     "text": [
      "Ep: 448, time: 912.8337261059787, train: 0.18667915742844343, valid: 0.19718945026397705\n"
     ]
    },
    {
     "name": "stderr",
     "output_type": "stream",
     "text": [
      "100%|███████████████████████████████████████████████████████████████████████████████████| 16/16 [14:25<00:00, 54.11s/it]\n"
     ]
    },
    {
     "name": "stdout",
     "output_type": "stream",
     "text": [
      "Ep: 449, time: 902.0707850600593, train: 0.18663140945136547, valid: 0.197057843208313\n"
     ]
    },
    {
     "name": "stderr",
     "output_type": "stream",
     "text": [
      "100%|███████████████████████████████████████████████████████████████████████████████████| 16/16 [14:23<00:00, 53.98s/it]\n"
     ]
    },
    {
     "name": "stdout",
     "output_type": "stream",
     "text": [
      "Ep: 450, time: 899.1454073239584, train: 0.18676073383539915, valid: 0.1977735012769699\n"
     ]
    },
    {
     "name": "stderr",
     "output_type": "stream",
     "text": [
      "100%|███████████████████████████████████████████████████████████████████████████████████| 16/16 [14:16<00:00, 53.54s/it]\n"
     ]
    },
    {
     "name": "stdout",
     "output_type": "stream",
     "text": [
      "Ep: 451, time: 892.9686730930116, train: 0.1865777987986803, valid: 0.1960374265909195\n"
     ]
    },
    {
     "name": "stderr",
     "output_type": "stream",
     "text": [
      "100%|███████████████████████████████████████████████████████████████████████████████████| 16/16 [14:15<00:00, 53.49s/it]\n"
     ]
    },
    {
     "name": "stdout",
     "output_type": "stream",
     "text": [
      "Ep: 452, time: 889.4537851801142, train: 0.18654465209692717, valid: 0.19702012836933136\n"
     ]
    },
    {
     "name": "stderr",
     "output_type": "stream",
     "text": [
      "100%|███████████████████████████████████████████████████████████████████████████████████| 16/16 [14:03<00:00, 52.70s/it]\n"
     ]
    },
    {
     "name": "stdout",
     "output_type": "stream",
     "text": [
      "Ep: 453, time: 879.0531037549954, train: 0.18643495626747608, valid: 0.19906044006347656\n"
     ]
    },
    {
     "name": "stderr",
     "output_type": "stream",
     "text": [
      "100%|███████████████████████████████████████████████████████████████████████████████████| 16/16 [15:05<00:00, 56.62s/it]\n"
     ]
    },
    {
     "name": "stdout",
     "output_type": "stream",
     "text": [
      "Ep: 454, time: 941.5272414491046, train: 0.18645415175706148, valid: 0.196743905544281\n"
     ]
    },
    {
     "name": "stderr",
     "output_type": "stream",
     "text": [
      "100%|███████████████████████████████████████████████████████████████████████████████████| 16/16 [16:31<00:00, 61.97s/it]\n"
     ]
    },
    {
     "name": "stdout",
     "output_type": "stream",
     "text": [
      "Ep: 455, time: 1027.580470054876, train: 0.18636101763695478, valid: 0.19985301792621613\n"
     ]
    },
    {
     "name": "stderr",
     "output_type": "stream",
     "text": [
      "100%|███████████████████████████████████████████████████████████████████████████████████| 16/16 [13:47<00:00, 51.70s/it]\n"
     ]
    },
    {
     "name": "stdout",
     "output_type": "stream",
     "text": [
      "Ep: 456, time: 861.6303629311733, train: 0.18643581680953503, valid: 0.19593095779418945\n"
     ]
    },
    {
     "name": "stderr",
     "output_type": "stream",
     "text": [
      "100%|███████████████████████████████████████████████████████████████████████████████████| 16/16 [13:32<00:00, 50.78s/it]\n"
     ]
    },
    {
     "name": "stdout",
     "output_type": "stream",
     "text": [
      "Ep: 457, time: 848.4474727080669, train: 0.18639560975134373, valid: 0.1962672621011734\n"
     ]
    },
    {
     "name": "stderr",
     "output_type": "stream",
     "text": [
      "100%|███████████████████████████████████████████████████████████████████████████████████| 16/16 [13:28<00:00, 50.51s/it]\n"
     ]
    },
    {
     "name": "stdout",
     "output_type": "stream",
     "text": [
      "Ep: 458, time: 843.0916688800789, train: 0.1862392807379365, valid: 0.1979619711637497\n"
     ]
    },
    {
     "name": "stderr",
     "output_type": "stream",
     "text": [
      "100%|███████████████████████████████████████████████████████████████████████████████████| 16/16 [13:38<00:00, 51.16s/it]\n"
     ]
    },
    {
     "name": "stdout",
     "output_type": "stream",
     "text": [
      "Ep: 459, time: 852.8158639830071, train: 0.18601111508905888, valid: 0.195562481880188\n"
     ]
    },
    {
     "name": "stderr",
     "output_type": "stream",
     "text": [
      "100%|███████████████████████████████████████████████████████████████████████████████████| 16/16 [12:55<00:00, 48.49s/it]\n"
     ]
    },
    {
     "name": "stdout",
     "output_type": "stream",
     "text": [
      "Ep: 460, time: 810.5887376440223, train: 0.18630803190171719, valid: 0.19582407176494598\n"
     ]
    },
    {
     "name": "stderr",
     "output_type": "stream",
     "text": [
      "100%|███████████████████████████████████████████████████████████████████████████████████| 16/16 [13:15<00:00, 49.73s/it]\n"
     ]
    },
    {
     "name": "stdout",
     "output_type": "stream",
     "text": [
      "Ep: 461, time: 830.7559086941183, train: 0.18616767320781946, valid: 0.1974630355834961\n"
     ]
    },
    {
     "name": "stderr",
     "output_type": "stream",
     "text": [
      "100%|███████████████████████████████████████████████████████████████████████████████████| 16/16 [13:33<00:00, 50.87s/it]\n"
     ]
    },
    {
     "name": "stdout",
     "output_type": "stream",
     "text": [
      "Ep: 462, time: 848.9793830132112, train: 0.18605657573789358, valid: 0.19611243903636932\n"
     ]
    },
    {
     "name": "stderr",
     "output_type": "stream",
     "text": [
      "100%|███████████████████████████████████████████████████████████████████████████████████| 16/16 [13:01<00:00, 48.83s/it]\n"
     ]
    },
    {
     "name": "stdout",
     "output_type": "stream",
     "text": [
      "Ep: 463, time: 815.2864978038706, train: 0.18609861098229885, valid: 0.19655056297779083\n"
     ]
    },
    {
     "name": "stderr",
     "output_type": "stream",
     "text": [
      "100%|███████████████████████████████████████████████████████████████████████████████████| 16/16 [13:22<00:00, 50.16s/it]\n"
     ]
    },
    {
     "name": "stdout",
     "output_type": "stream",
     "text": [
      "Ep: 464, time: 837.942035804037, train: 0.185945775359869, valid: 0.1971721649169922\n"
     ]
    },
    {
     "name": "stderr",
     "output_type": "stream",
     "text": [
      "100%|███████████████████████████████████████████████████████████████████████████████████| 16/16 [13:39<00:00, 51.20s/it]\n"
     ]
    },
    {
     "name": "stdout",
     "output_type": "stream",
     "text": [
      "Ep: 465, time: 854.3404744770378, train: 0.18594132363796234, valid: 0.19761556386947632\n"
     ]
    },
    {
     "name": "stderr",
     "output_type": "stream",
     "text": [
      "100%|███████████████████████████████████████████████████████████████████████████████████| 16/16 [13:20<00:00, 50.06s/it]\n"
     ]
    },
    {
     "name": "stdout",
     "output_type": "stream",
     "text": [
      "Ep: 466, time: 835.4214373407885, train: 0.18591733742505312, valid: 0.19695045053958893\n"
     ]
    },
    {
     "name": "stderr",
     "output_type": "stream",
     "text": [
      "100%|███████████████████████████████████████████████████████████████████████████████████| 16/16 [12:55<00:00, 48.47s/it]\n"
     ]
    },
    {
     "name": "stdout",
     "output_type": "stream",
     "text": [
      "Ep: 467, time: 810.7563806909602, train: 0.18590587936341763, valid: 0.19685691595077515\n"
     ]
    },
    {
     "name": "stderr",
     "output_type": "stream",
     "text": [
      "100%|███████████████████████████████████████████████████████████████████████████████████| 16/16 [12:55<00:00, 48.44s/it]\n"
     ]
    },
    {
     "name": "stdout",
     "output_type": "stream",
     "text": [
      "Ep: 468, time: 809.0570756990928, train: 0.18583286926150322, valid: 0.19689996540546417\n"
     ]
    },
    {
     "name": "stderr",
     "output_type": "stream",
     "text": [
      "100%|███████████████████████████████████████████████████████████████████████████████████| 16/16 [12:58<00:00, 48.63s/it]\n"
     ]
    },
    {
     "name": "stdout",
     "output_type": "stream",
     "text": [
      "Ep: 469, time: 812.3430193038657, train: 0.18596723210066557, valid: 0.19688379764556885\n"
     ]
    },
    {
     "name": "stderr",
     "output_type": "stream",
     "text": [
      "100%|███████████████████████████████████████████████████████████████████████████████████| 16/16 [12:59<00:00, 48.72s/it]\n"
     ]
    },
    {
     "name": "stdout",
     "output_type": "stream",
     "text": [
      "Ep: 470, time: 814.5795044919942, train: 0.18570585269480944, valid: 0.19685465097427368\n"
     ]
    },
    {
     "name": "stderr",
     "output_type": "stream",
     "text": [
      "100%|███████████████████████████████████████████████████████████████████████████████████| 16/16 [13:11<00:00, 49.48s/it]\n"
     ]
    },
    {
     "name": "stdout",
     "output_type": "stream",
     "text": [
      "Ep: 471, time: 827.0414139761124, train: 0.18586141895502806, valid: 0.19772595167160034\n"
     ]
    },
    {
     "name": "stderr",
     "output_type": "stream",
     "text": [
      "100%|███████████████████████████████████████████████████████████████████████████████████| 16/16 [13:23<00:00, 50.25s/it]\n"
     ]
    },
    {
     "name": "stdout",
     "output_type": "stream",
     "text": [
      "Ep: 472, time: 838.7038767880294, train: 0.1858974527567625, valid: 0.19648794829845428\n"
     ]
    },
    {
     "name": "stderr",
     "output_type": "stream",
     "text": [
      "100%|███████████████████████████████████████████████████████████████████████████████████| 16/16 [13:06<00:00, 49.16s/it]\n"
     ]
    },
    {
     "name": "stdout",
     "output_type": "stream",
     "text": [
      "Ep: 473, time: 821.1490208930336, train: 0.18566791620105505, valid: 0.1971704214811325\n"
     ]
    },
    {
     "name": "stderr",
     "output_type": "stream",
     "text": [
      "100%|███████████████████████████████████████████████████████████████████████████████████| 16/16 [13:57<00:00, 52.35s/it]\n"
     ]
    },
    {
     "name": "stdout",
     "output_type": "stream",
     "text": [
      "Ep: 474, time: 872.3912813279312, train: 0.18564717192202806, valid: 0.19614426791667938\n"
     ]
    },
    {
     "name": "stderr",
     "output_type": "stream",
     "text": [
      "100%|███████████████████████████████████████████████████████████████████████████████████| 16/16 [13:31<00:00, 50.73s/it]\n"
     ]
    },
    {
     "name": "stdout",
     "output_type": "stream",
     "text": [
      "Ep: 475, time: 846.1196741461754, train: 0.18570295628160238, valid: 0.19738413393497467\n"
     ]
    },
    {
     "name": "stderr",
     "output_type": "stream",
     "text": [
      "100%|███████████████████████████████████████████████████████████████████████████████████| 16/16 [13:22<00:00, 50.19s/it]\n"
     ]
    },
    {
     "name": "stdout",
     "output_type": "stream",
     "text": [
      "Ep: 476, time: 837.8734310439322, train: 0.1856453400105238, valid: 0.1969401240348816\n"
     ]
    },
    {
     "name": "stderr",
     "output_type": "stream",
     "text": [
      "100%|███████████████████████████████████████████████████████████████████████████████████| 16/16 [13:22<00:00, 50.13s/it]\n"
     ]
    },
    {
     "name": "stdout",
     "output_type": "stream",
     "text": [
      "Ep: 477, time: 836.6168880478945, train: 0.18559852987527847, valid: 0.19669778645038605\n"
     ]
    },
    {
     "name": "stderr",
     "output_type": "stream",
     "text": [
      "100%|███████████████████████████████████████████████████████████████████████████████████| 16/16 [13:25<00:00, 50.36s/it]\n"
     ]
    },
    {
     "name": "stdout",
     "output_type": "stream",
     "text": [
      "Ep: 478, time: 841.3750981020276, train: 0.1855792049318552, valid: 0.19705094397068024\n"
     ]
    },
    {
     "name": "stderr",
     "output_type": "stream",
     "text": [
      "100%|███████████████████████████████████████████████████████████████████████████████████| 16/16 [13:29<00:00, 50.58s/it]\n"
     ]
    },
    {
     "name": "stdout",
     "output_type": "stream",
     "text": [
      "Ep: 479, time: 844.0833601700142, train: 0.1855387883260846, valid: 0.19645817577838898\n"
     ]
    },
    {
     "name": "stderr",
     "output_type": "stream",
     "text": [
      "100%|███████████████████████████████████████████████████████████████████████████████████| 16/16 [13:17<00:00, 49.85s/it]\n"
     ]
    },
    {
     "name": "stdout",
     "output_type": "stream",
     "text": [
      "Ep: 480, time: 832.4373286380433, train: 0.1855221763253212, valid: 0.19667716324329376\n"
     ]
    },
    {
     "name": "stderr",
     "output_type": "stream",
     "text": [
      "100%|███████████████████████████████████████████████████████████████████████████████████| 16/16 [13:06<00:00, 49.13s/it]\n"
     ]
    },
    {
     "name": "stdout",
     "output_type": "stream",
     "text": [
      "Ep: 481, time: 820.993049002951, train: 0.18551355879753828, valid: 0.19627265632152557\n"
     ]
    },
    {
     "name": "stderr",
     "output_type": "stream",
     "text": [
      "100%|███████████████████████████████████████████████████████████████████████████████████| 16/16 [12:57<00:00, 48.57s/it]\n"
     ]
    },
    {
     "name": "stdout",
     "output_type": "stream",
     "text": [
      "Ep: 482, time: 812.2361679309979, train: 0.18552213162183762, valid: 0.19708265364170074\n"
     ]
    },
    {
     "name": "stderr",
     "output_type": "stream",
     "text": [
      "100%|███████████████████████████████████████████████████████████████████████████████████| 16/16 [13:40<00:00, 51.30s/it]\n"
     ]
    },
    {
     "name": "stdout",
     "output_type": "stream",
     "text": [
      "Ep: 483, time: 855.1544277609792, train: 0.18562152609229088, valid: 0.19612424075603485\n"
     ]
    },
    {
     "name": "stderr",
     "output_type": "stream",
     "text": [
      "100%|███████████████████████████████████████████████████████████████████████████████████| 16/16 [13:17<00:00, 49.86s/it]\n"
     ]
    },
    {
     "name": "stdout",
     "output_type": "stream",
     "text": [
      "Ep: 484, time: 832.2381115439348, train: 0.18542769365012646, valid: 0.19683073461055756\n"
     ]
    },
    {
     "name": "stderr",
     "output_type": "stream",
     "text": [
      "100%|███████████████████████████████████████████████████████████████████████████████████| 16/16 [13:20<00:00, 50.01s/it]\n"
     ]
    },
    {
     "name": "stdout",
     "output_type": "stream",
     "text": [
      "Ep: 485, time: 834.9351615239866, train: 0.18544946145266294, valid: 0.1964879184961319\n"
     ]
    },
    {
     "name": "stderr",
     "output_type": "stream",
     "text": [
      "100%|███████████████████████████████████████████████████████████████████████████████████| 16/16 [13:33<00:00, 50.87s/it]\n"
     ]
    },
    {
     "name": "stdout",
     "output_type": "stream",
     "text": [
      "Ep: 486, time: 849.6113270779606, train: 0.1854300294071436, valid: 0.19667744636535645\n"
     ]
    },
    {
     "name": "stderr",
     "output_type": "stream",
     "text": [
      "100%|███████████████████████████████████████████████████████████████████████████████████| 16/16 [13:29<00:00, 50.57s/it]\n"
     ]
    },
    {
     "name": "stdout",
     "output_type": "stream",
     "text": [
      "Ep: 487, time: 843.6122278969269, train: 0.18542529083788395, valid: 0.1960657387971878\n"
     ]
    },
    {
     "name": "stderr",
     "output_type": "stream",
     "text": [
      "100%|███████████████████████████████████████████████████████████████████████████████████| 16/16 [13:12<00:00, 49.55s/it]\n"
     ]
    },
    {
     "name": "stdout",
     "output_type": "stream",
     "text": [
      "Ep: 488, time: 827.6743143571075, train: 0.1853857273235917, valid: 0.19648094475269318\n"
     ]
    },
    {
     "name": "stderr",
     "output_type": "stream",
     "text": [
      "100%|███████████████████████████████████████████████████████████████████████████████████| 16/16 [13:26<00:00, 50.42s/it]\n"
     ]
    },
    {
     "name": "stdout",
     "output_type": "stream",
     "text": [
      "Ep: 489, time: 841.3968595501501, train: 0.18539570085704327, valid: 0.1965148001909256\n"
     ]
    },
    {
     "name": "stderr",
     "output_type": "stream",
     "text": [
      "100%|███████████████████████████████████████████████████████████████████████████████████| 16/16 [13:55<00:00, 52.22s/it]\n"
     ]
    },
    {
     "name": "stdout",
     "output_type": "stream",
     "text": [
      "Ep: 490, time: 868.5598884678911, train: 0.18542238976806402, valid: 0.1968667060136795\n"
     ]
    },
    {
     "name": "stderr",
     "output_type": "stream",
     "text": [
      "100%|███████████████████████████████████████████████████████████████████████████████████| 16/16 [14:50<00:00, 55.63s/it]\n"
     ]
    },
    {
     "name": "stdout",
     "output_type": "stream",
     "text": [
      "Ep: 491, time: 923.6745397620834, train: 0.18539849761873484, valid: 0.19638018310070038\n"
     ]
    },
    {
     "name": "stderr",
     "output_type": "stream",
     "text": [
      "100%|███████████████████████████████████████████████████████████████████████████████████| 16/16 [16:14<00:00, 60.93s/it]\n"
     ]
    },
    {
     "name": "stdout",
     "output_type": "stream",
     "text": [
      "Ep: 492, time: 1008.764046987053, train: 0.18536346592009068, valid: 0.19640064239501953\n"
     ]
    },
    {
     "name": "stderr",
     "output_type": "stream",
     "text": [
      "100%|███████████████████████████████████████████████████████████████████████████████████| 16/16 [14:12<00:00, 53.28s/it]\n"
     ]
    },
    {
     "name": "stdout",
     "output_type": "stream",
     "text": [
      "Ep: 493, time: 887.1479193810374, train: 0.18539977818727493, valid: 0.1968565136194229\n"
     ]
    },
    {
     "name": "stderr",
     "output_type": "stream",
     "text": [
      "100%|███████████████████████████████████████████████████████████████████████████████████| 16/16 [13:33<00:00, 50.87s/it]\n"
     ]
    },
    {
     "name": "stdout",
     "output_type": "stream",
     "text": [
      "Ep: 494, time: 848.1710759089328, train: 0.18541966192424297, valid: 0.19627653062343597\n"
     ]
    },
    {
     "name": "stderr",
     "output_type": "stream",
     "text": [
      "100%|███████████████████████████████████████████████████████████████████████████████████| 16/16 [13:26<00:00, 50.39s/it]\n"
     ]
    },
    {
     "name": "stdout",
     "output_type": "stream",
     "text": [
      "Ep: 495, time: 840.4940837081522, train: 0.18536483775824308, valid: 0.19666264951229095\n"
     ]
    },
    {
     "name": "stderr",
     "output_type": "stream",
     "text": [
      "100%|███████████████████████████████████████████████████████████████████████████████████| 16/16 [13:06<00:00, 49.13s/it]\n"
     ]
    },
    {
     "name": "stdout",
     "output_type": "stream",
     "text": [
      "Ep: 496, time: 819.923406799091, train: 0.18533965200185776, valid: 0.19652439653873444\n"
     ]
    },
    {
     "name": "stderr",
     "output_type": "stream",
     "text": [
      "100%|███████████████████████████████████████████████████████████████████████████████████| 16/16 [13:21<00:00, 50.12s/it]\n"
     ]
    },
    {
     "name": "stdout",
     "output_type": "stream",
     "text": [
      "Ep: 497, time: 836.768689227989, train: 0.1853294325992465, valid: 0.1963752657175064\n"
     ]
    },
    {
     "name": "stderr",
     "output_type": "stream",
     "text": [
      "100%|███████████████████████████████████████████████████████████████████████████████████| 16/16 [13:06<00:00, 49.16s/it]\n"
     ]
    },
    {
     "name": "stdout",
     "output_type": "stream",
     "text": [
      "Ep: 498, time: 820.7957477851305, train: 0.18533393368124962, valid: 0.19645161926746368\n"
     ]
    },
    {
     "name": "stderr",
     "output_type": "stream",
     "text": [
      "100%|███████████████████████████████████████████████████████████████████████████████████| 16/16 [12:47<00:00, 47.95s/it]\n"
     ]
    },
    {
     "name": "stdout",
     "output_type": "stream",
     "text": [
      "Ep: 499, time: 800.9583742560353, train: 0.18532124999910593, valid: 0.19639728963375092\n",
      "sample_count 1\n",
      "ntest 1\n",
      "Average prediction time per sample: 16.5559 seconds\n",
      "DNO done training; \n",
      "Test: 0.24351851642131805, Test_nse: 0.9402858018875122, Test_corr: 0.9699470400810242, Test_csi_1: 0.5142586827278137, Test_csi_2: 0.7684683203697205, Test_csi_3: 0.7935432195663452\n"
     ]
    }
   ],
   "source": [
    "\n",
    "train_data = flood_data(path_root=Path_train, strategy=args.strategy, T_in=T_in, T_out=T, std=args.noise_std)\n",
    "ntrain = len(train_data)\n",
    "print('ntrain', ntrain)\n",
    "valid_data = flood_data(path_root=Path_valid, train=False, strategy=args.strategy, T_in=T_in, T_out=T)\n",
    "nvalid = len(valid_data)\n",
    "print('nvalid', nvalid)\n",
    "test_data = flood_data(path_root=Path_test, train=False, strategy=args.strategy, T_in=T_in, T_out=T)\n",
    "ntest = len(test_data)\n",
    "print('ntest', ntest)\n",
    "\n",
    "train_loader = torch.utils.data.DataLoader(train_data, batch_size=batch_size, shuffle=True)\n",
    "valid_loader = torch.utils.data.DataLoader(valid_data, batch_size=batch_size, shuffle=False)\n",
    "test_loader = torch.utils.data.DataLoader(test_data, batch_size=batch_size, shuffle=False)\n",
    "\n",
    "################################################################\n",
    "# training and evaluation\n",
    "################################################################\n",
    "pre_path = '/home/sirui/INNOMAUS/UrbanFloodCast/UrbanFloodCast/DNO/save/model5.pt'\n",
    "checkpoint = torch.load(pre_path,map_location=torch.device('cpu'))\n",
    "state_dict = checkpoint['state_dict']\n",
    "ep=checkpoint['epoch']\n",
    "model.load_state_dict(state_dict)\n",
    "print(\"Load from checkpoint\")\n",
    "# for name, layer in model.named_modules():\n",
    "#     print(f\"Layer Name: {name}, Layer Object: {layer}\")\n",
    "\n",
    "complex_ct = sum(par.numel() * (1 + par.is_complex()) for par in model.parameters())\n",
    "real_ct = sum(par.numel() for par in model.parameters())\n",
    "if args.verbose:\n",
    "    print(f\"{args.model_type}; # Params: complex count {complex_ct}, real count: {real_ct}\")\n",
    "#writer.add_scalar(\"Parameters/Complex\", complex_ct)\n",
    "#writer.add_scalar(\"Parameters/Real\", real_ct)\n",
    "\n",
    "optimizer = torch.optim.Adam(model.parameters(), lr=learning_rate, weight_decay=args.lmbda)\n",
    "#optimizer = fine_tune_fc1_fc2_conv8_conv7(model=model, learning_rate=learning_rate)\n",
    "if args.step:\n",
    "    assert args.step_size is not None, \"step_size is None\"\n",
    "    assert scheduler_gamma is not None, \"gamma is None\"\n",
    "    scheduler = torch.optim.lr_scheduler.StepLR(optimizer, step_size=args.step_size, gamma=scheduler_gamma)\n",
    "else:\n",
    "    num_training_steps = epochs * len(train_loader)\n",
    "    scheduler = torch.optim.lr_scheduler.CosineAnnealingLR(optimizer, T_max=num_training_steps)\n",
    "\n",
    "lploss = LpLoss(size_average=False)\n",
    "\n",
    "best_valid = float(\"inf\")\n",
    "best_epoch = 0\n",
    "x_train, y_train, _ = next(iter(train_loader))\n",
    "x_train = torch.nan_to_num(x_train, nan=0.0)\n",
    "y_train = torch.nan_to_num(y_train, nan=0.0)\n",
    "if np.isnan(x_train).any() or np.isnan(y_train).any():\n",
    "    raise ValueError(\"NaN values found in training data\")\n",
    "x = x_train.to(device)\n",
    "y = y_train.to(device)\n",
    "x_valid, y_valid, _ = next(iter(valid_loader))\n",
    "if args.verbose:\n",
    "    print(f\"{args.model_type}; Input shape: {x.shape}, Target shape: {y.shape}\")\n",
    "if args.strategy == \"oneshot\":\n",
    "    assert x_train[0].shape == torch.Size([Sy, Sx, T, T_in, num_channels]), x_train[0].shape\n",
    "    assert y_train[0].shape == torch.Size([Sy, Sx, T, num_channels_y]), y_train[0].shape\n",
    "    assert x_valid[0].shape == torch.Size([Sy, Sx, T, T_in, num_channels]), x_valid[0].shape\n",
    "    assert y_valid[0].shape == torch.Size([Sy, Sx, T, num_channels_y]), y_valid[0].shape\n",
    "elif args.strategy == \"markov\":\n",
    "    assert x_train[0].shape == torch.Size([Sy, Sx, 1, num_channels]), x_train[0].shape\n",
    "    assert y_train[0].shape == torch.Size([Sy, Sx, num_channels_y]), y_train[0].shape\n",
    "    assert x_valid[0].shape == torch.Size([Sy, Sx, 1, num_channels]), x_valid[0].shape\n",
    "    assert y_valid[0].shape == torch.Size([Sy, Sx, T, num_channels_y]), y_valid[0].shape\n",
    "else: # strategy == recurrent or teacher_forcing\n",
    "    assert x_train[0].shape == torch.Size([Sy, Sx, T_in, num_channels]), x_train[0].shape\n",
    "    assert x_valid[0].shape == torch.Size([Sy, Sx, T_in, num_channels]), x_valid[0].shape\n",
    "    assert y_valid[0].shape == torch.Size([Sy, Sx, T, num_channels_y]), y_valid[0].shape\n",
    "    if args.strategy == \"recurrent\":\n",
    "        assert y_train[0].shape == torch.Size([Sy, Sx, T, num_channels_y]), y_train[0].shape\n",
    "    else: # strategy == teacher_forcing\n",
    "        assert y_train[0].shape == torch.Size([Sy, Sx, num_channels_y]), y_train[0].shape\n",
    "\n",
    "model.eval()\n",
    "start = default_timer()\n",
    "if args.verbose:\n",
    "    print(\"Training...\")\n",
    "step_ct = 0\n",
    "train_times = []\n",
    "eval_times = []\n",
    "for ep in range(ep,epochs):\n",
    "    model.train()\n",
    "    t1 = default_timer()\n",
    "\n",
    "    train_l2 = train_vort_l2 = train_pres_l2 = 0\n",
    "\n",
    "    for xx, yy, mask in tqdm(train_loader, disable=not args.verbose):\n",
    "        xx = torch.nan_to_num(xx, nan=0.0)\n",
    "        yy = torch.nan_to_num(yy, nan=0.0)\n",
    "        mask = torch.nan_to_num(mask, nan=0.0)\n",
    "        loss = 0\n",
    "        xx = xx.to(device)\n",
    "        yy = yy.to(device)\n",
    "        mask = mask.to(device)\n",
    "        yy = yy * mask\n",
    "\n",
    "        if args.strategy == \"recurrent\":\n",
    "            for t in range(yy.shape[-2]):\n",
    "                y = yy[..., t, :]\n",
    "                mas = mask[..., t, :]\n",
    "                im = model(xx)\n",
    "                im = im * mas\n",
    "                loss += lploss(im.reshape(len(im), -1, num_channels_y), y.reshape(len(y), -1, num_channels_y))\n",
    "                xx = torch.cat((xx[..., 1:, :], im), dim=-2)\n",
    "            loss /= yy.shape[-2]\n",
    "        else:\n",
    "            im = model(xx)\n",
    "            im = im * mask\n",
    "            if args.strategy == \"oneshot\":\n",
    "                im = im.squeeze(-1)\n",
    "            loss = lploss(im.reshape(len(im), -1, num_channels_y), yy.reshape(len(yy), -1, num_channels_y))\n",
    "\n",
    "        train_l2 += loss.item()\n",
    "        if swe:\n",
    "            train_vort_l2 += lploss(im[..., VORT_IND].reshape(len(im), -1, 1), yy[..., VORT_IND].reshape(len(yy), -1, 1)).item()\n",
    "            train_pres_l2 += lploss(im[..., PRES_IND].reshape(len(im), -1, 1), yy[..., PRES_IND].reshape(len(yy), -1, 1)).item()\n",
    "        optimizer.zero_grad()\n",
    "        loss.backward()\n",
    "        optimizer.step()\n",
    "        if not args.step:\n",
    "            scheduler.step()\n",
    "        #writer.add_scalar(\"Train/LR\", scheduler.get_last_lr()[0], step_ct)\n",
    "        step_ct += 1\n",
    "    if args.step:\n",
    "        scheduler.step()\n",
    "\n",
    "    train_times.append(default_timer() - t1)\n",
    "\n",
    "    # validation\n",
    "    valid_l2 = valid_vort_l2 = valid_pres_l2 = 0\n",
    "    valid_loss_by_channel = None\n",
    "    with torch.no_grad():\n",
    "        model.eval()\n",
    "        model(xx)\n",
    "        for xx, yy, mask in valid_loader:\n",
    "            xx = torch.nan_to_num(xx, nan=0.0)\n",
    "            yy = torch.nan_to_num(yy, nan=0.0)\n",
    "            mask = torch.nan_to_num(mask, nan=0.0)\n",
    "            xx = xx.to(device)\n",
    "            yy = yy.to(device)\n",
    "            mask = mask.to(device)\n",
    "            yy = yy * mask\n",
    "\n",
    "            pred = get_eval_pred(model=model, x=xx, strategy=args.strategy, T=T, times=eval_times).view(len(xx), Sy, Sx, T, num_channels_y)\n",
    "            pred = pred * mask\n",
    "\n",
    "            valid_l2 += lploss(pred.reshape(len(pred), -1, num_channels_y), yy.reshape(len(yy), -1, num_channels_y)).item()\n",
    "\n",
    "    t2 = default_timer()\n",
    "    if args.verbose:\n",
    "        print(f\"Ep: {ep}, time: {t2 - t1}, train: {train_l2 / ntrain}, valid: {valid_l2 / nvalid}\")\n",
    "\n",
    "    #writer.add_scalar(\"Train/Loss\", train_l2 / ntrain, ep)\n",
    "    #writer.add_scalar(\"Valid/Loss\", valid_l2 / nvalid, ep)\n",
    "    if ep % 20 == 0:\n",
    "        path = os.path.join(root, f'model_epoch_{ep}.pt')\n",
    "        torch.save({'epoch': ep, 'state_dict': model.state_dict()}, path)\n",
    "    if valid_l2 < best_valid:\n",
    "        best_epoch = ep\n",
    "        best_valid = valid_l2\n",
    "        # torch.save(model.state_dict(), path_model)\n",
    "        state_dict = model.state_dict()\n",
    "        torch.save({'epoch': best_epoch, 'state_dict': state_dict}, path_model)\n",
    "    if args.early_stopping:\n",
    "        if ep - best_epoch > args.early_stopping:\n",
    "            break\n",
    "\n",
    "stop = default_timer()\n",
    "train_time = stop - start\n",
    "train_times = torch.tensor(train_times).mean().item()\n",
    "num_eval = len(eval_times)\n",
    "eval_times = torch.tensor(eval_times).mean().item()\n",
    "model.eval()\n",
    "# test\n",
    "##FNO\n",
    "# model.load_state_dict(torch.load(path_model))\n",
    "## Other models\n",
    "checkpoint = torch.load(path_model)\n",
    "state_dict = checkpoint['state_dict']\n",
    "model.load_state_dict(state_dict)\n",
    "model.eval()\n",
    "test_l2 = test_vort_l2 = test_pres_l2 = test_nse = test_corr = test_csi_1 = test_csi_2 = test_csi_3 = 0\n",
    "rotations_l2 = 0\n",
    "reflections_l2 = 0\n",
    "test_rt_l2 = 0\n",
    "test_rf_l2 = 0\n",
    "test_loss_by_channel = None\n",
    "key = 0\n",
    "i = 0\n",
    "total_time = 0\n",
    "sample_count = 0\n",
    "\n",
    "with torch.no_grad():\n",
    "    for xx, yy, mask in test_loader:\n",
    "        xx = torch.nan_to_num(xx, nan=0.0)\n",
    "        yy = torch.nan_to_num(yy, nan=0.0)\n",
    "        mask = torch.nan_to_num(mask, nan=0.0)\n",
    "        xx = xx.to(device)\n",
    "        yy = yy.to(device)\n",
    "        mask = mask.to(device)\n",
    "        yy = yy * mask\n",
    "        input_data = xx\n",
    "        # print('xx', xx.shape)\n",
    "        # print('yy', yy.shape)\n",
    "        # Start\n",
    "        start_time = time.time()\n",
    "        pred = get_eval_pred(model=model, x=xx, strategy=args.strategy, T=T, times=[]).view(len(xx), Sy, Sx, T, num_channels_y)\n",
    "        # End\n",
    "        end_time = time.time()\n",
    "        batch_time = end_time - start_time\n",
    "        total_time += batch_time\n",
    "        sample_count += len(xx)\n",
    "        # print(f\"Average prediction time per sample: {batch_time:.4f} seconds, lens of samples: {len(xx)}\")\n",
    "\n",
    "        pred = pred * mask\n",
    "        # print('pred', pred.shape)\n",
    "        test_l2 += lploss(pred.reshape(len(pred), -1, num_channels_y), yy.reshape(len(yy), -1, num_channels_y)).item()\n",
    "        test_nse += nse(pred.reshape(len(pred), -1, num_channels_y), yy.reshape(len(yy), -1, num_channels_y)).item()\n",
    "        test_corr += corr(pred.reshape(len(pred), -1, num_channels_y), yy.reshape(len(yy), -1, num_channels_y)).item()\n",
    "        test_csi_1 += critical_success_index(pred[..., 0:1].reshape(len(pred), -1, 1),\n",
    "                                             yy[..., 0:1].reshape(len(yy), -1, 1), 0.01).item()\n",
    "        test_csi_2 += critical_success_index(pred[..., 0:1].reshape(len(pred), -1, 1),\n",
    "                                             yy[..., 0:1].reshape(len(yy), -1, 1), 0.1).item()\n",
    "        test_csi_3 += critical_success_index(pred[..., 0:1].reshape(len(pred), -1, 1),\n",
    "                                             yy[..., 0:1].reshape(len(yy), -1, 1), 0.5).item()\n",
    "        \n",
    "print('sample_count', sample_count)\n",
    "print('ntest', ntest)\n",
    "average_time_per_sample = total_time / sample_count if sample_count > 0 else 0\n",
    "test_time_l2 = test_space_l2 = ntest_super = test_int_space_l2 = test_int_time_l2 = None\n",
    "\n",
    "print(f\"Average prediction time per sample: {average_time_per_sample:.4f} seconds\")\n",
    "print(f\"{args.model_type} done training; \\nTest: {test_l2 / ntest}, Test_nse: {test_nse / ntest}, Test_corr: {test_corr / ntest}, Test_csi_1: {test_csi_1 / ntest}, Test_csi_2: {test_csi_2 / ntest}, Test_csi_3: {test_csi_3 / ntest}\")\n",
    "summary = f\"Args: {str(args)}\" \\\n",
    "          f\"\\nParameters: {complex_ct}\" \\\n",
    "          f\"\\nTrain time: {train_time}\" \\\n",
    "          f\"\\nMean epoch time: {train_times}\" \\\n",
    "          f\"\\nMean inference time: {eval_times}\" \\\n",
    "          f\"\\nNum inferences: {num_eval}\" \\\n",
    "          f\"\\nTrain: {train_l2 / ntrain}\" \\\n",
    "          f\"\\nValid: {valid_l2 / nvalid}\" \\\n",
    "          f\"\\nTest: {test_l2 / ntest}\" \\\n",
    "          f\"\\nTest_nse: {test_nse/ntest}\" \\\n",
    "          f\"\\nTest_corr: {test_corr/ntest}\" \\\n",
    "          f\"\\nTest_csi_1: {test_csi_1/ntest}\" \\\n",
    "          f\"\\nTest_csi_2: {test_csi_2/ntest}\" \\\n",
    "          f\"\\nTest_csi_3: {test_csi_3/ntest}\" \\\n",
    "          f\"\\nSuper Space Test: {test_space_l2}\" \\\n",
    "          f\"\\nSuper Space Interpolation Test: {test_int_space_l2}\" \\\n",
    "          f\"\\nSuper S: {S_super}\" \\\n",
    "          f\"\\nSuper Time Test: {test_time_l2}\" \\\n",
    "          f\"\\nSuper Time Interpolation Test: {test_int_time_l2}\" \\\n",
    "          f\"\\nSuper T: {T_super}\" \\\n",
    "          f\"\\nBest Valid: {best_valid / nvalid}\" \\\n",
    "          f\"\\nEpochs trained: {ep}\"\n",
    "if swe:\n",
    "    summary += f\"\\nVorticity Test: {test_vort_l2 / ntest}\" \\\n",
    "               f\"\\nPressure Test: {test_pres_l2 / ntest}\"\n",
    "txt = \"results\"\n",
    "if args.txt_suffix:\n",
    "    txt += f\"_{args.txt_suffix}\"\n",
    "txt += \".txt\"\n",
    "\n",
    "#with open(os.path.join(root, txt), 'w') as f:\n",
    "#    f.write(summary)\n",
    "#writer.flush()\n",
    "#writer.close()"
   ]
  },
  {
   "cell_type": "code",
   "execution_count": null,
   "id": "611daca9",
   "metadata": {},
   "outputs": [],
   "source": []
  }
 ],
 "metadata": {
  "kernelspec": {
   "display_name": "Python 3 (ipykernel)",
   "language": "python",
   "name": "python3"
  },
  "language_info": {
   "codemirror_mode": {
    "name": "ipython",
    "version": 3
   },
   "file_extension": ".py",
   "mimetype": "text/x-python",
   "name": "python",
   "nbconvert_exporter": "python",
   "pygments_lexer": "ipython3",
   "version": "3.10.13"
  }
 },
 "nbformat": 4,
 "nbformat_minor": 5
}
